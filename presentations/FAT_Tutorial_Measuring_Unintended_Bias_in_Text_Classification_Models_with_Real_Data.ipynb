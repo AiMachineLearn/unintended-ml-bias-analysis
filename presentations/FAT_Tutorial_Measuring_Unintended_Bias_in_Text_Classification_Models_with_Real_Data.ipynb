{
  "nbformat": 4,
  "nbformat_minor": 0,
  "metadata": {
    "colab": {
      "name": "FAT* Tutorial: Measuring Unintended Bias in Text Classification Models with Real Data",
      "version": "0.3.2",
      "provenance": [],
      "collapsed_sections": [
        "Dk7Tw_JRTPpG",
        "0gV3zRBcleCV",
        "XWDNrP0tX09f",
        "2aZwZNqRZP5l"
      ]
    },
    "kernelspec": {
      "name": "python3",
      "display_name": "Python 3"
    },
    "accelerator": "GPU"
  },
  "cells": [
    {
      "metadata": {
        "id": "9B7PdsrvW__k",
        "colab_type": "text"
      },
      "cell_type": "markdown",
      "source": [
        "# Hands-on Tutorial: Measuring Unintended Bias in Text Classification Models with Real Data\n"
      ]
    },
    {
      "metadata": {
        "id": "kx1InEdFXEc4",
        "colab_type": "text"
      },
      "cell_type": "markdown",
      "source": [
        "## Install library and data dependencies\n",
        "\n",
        "---\n",
        "\n"
      ]
    },
    {
      "metadata": {
        "id": "4bSQf93oVo7j",
        "colab_type": "code",
        "outputId": "9dd663b1-4b4d-410d-cd1f-132a193c9104",
        "colab": {
          "base_uri": "https://localhost:8080/",
          "height": 199
        }
      },
      "cell_type": "code",
      "source": [
        "from __future__ import absolute_import\n",
        "from __future__ import division\n",
        "from __future__ import print_function\n",
        "\n",
        "import datetime\n",
        "import os\n",
        "import pandas as pd\n",
        "import numpy as np\n",
        "import pkg_resources\n",
        "import matplotlib.pyplot as plt\n",
        "import seaborn as sns\n",
        "import time\n",
        "import scipy.stats as stats\n",
        "\n",
        "from sklearn import metrics\n",
        "\n",
        "from keras.preprocessing.text import Tokenizer\n",
        "from keras.utils import to_categorical\n",
        "from keras.preprocessing.sequence import pad_sequences\n",
        "from keras.layers import Embedding\n",
        "from keras.layers import Input\n",
        "from keras.layers import Conv1D\n",
        "from keras.layers import MaxPooling1D\n",
        "from keras.layers import Flatten\n",
        "from keras.layers import Dropout\n",
        "from keras.layers import Dense\n",
        "from keras.optimizers import RMSprop\n",
        "from keras.models import Model\n",
        "from keras.models import load_model\n",
        "\n",
        "%matplotlib inline\n",
        "\n",
        "# autoreload makes it easier to interactively work on code in imported libraries\n",
        "%load_ext autoreload\n",
        "%autoreload 2\n",
        "\n",
        "# Set pandas display options so we can read more of the comment text.\n",
        "pd.set_option('max_colwidth', 300)\n",
        "\n",
        "# Download and unzip files used in this colab\n",
        "!curl -O -J -L https://storage.googleapis.com/civil_comments/fat_star_tutorial/fat-star.zip\n",
        "!unzip -o fat-star.zip"
      ],
      "execution_count": 1,
      "outputs": [
        {
          "output_type": "stream",
          "text": [
            "Using TensorFlow backend.\n"
          ],
          "name": "stderr"
        },
        {
          "output_type": "stream",
          "text": [
            "  % Total    % Received % Xferd  Average Speed   Time    Time     Time  Current\n",
            "                                 Dload  Upload   Total   Spent    Left  Speed\n",
            "100  430M  100  430M    0     0  44.0M      0  0:00:09  0:00:09 --:--:--  100M\n",
            "Archive:  fat-star.zip\n",
            "  inflating: glove.6B.100d.txt       \n",
            "  inflating: model_2_3_4.h5          \n",
            "  inflating: public_test.csv         \n",
            "  inflating: public_train.csv        \n",
            "  inflating: public_validate.csv     \n"
          ],
          "name": "stdout"
        }
      ]
    },
    {
      "metadata": {
        "id": "2js0XyGsXPCo",
        "colab_type": "text"
      },
      "cell_type": "markdown",
      "source": [
        "## Load and pre-process data sets"
      ]
    },
    {
      "metadata": {
        "id": "0bmiyJR60gDP",
        "colab_type": "code",
        "outputId": "222ee39d-5575-43c4-cd81-ac94e813e0b0",
        "colab": {
          "base_uri": "https://localhost:8080/",
          "height": 290
        }
      },
      "cell_type": "code",
      "source": [
        "# Read the initial train, test, and validate data into Pandas dataframes.\n",
        "train_df_float = pd.read_csv('public_train.csv')\n",
        "test_df_float = pd.read_csv('public_test.csv')\n",
        "validate_df_float = pd.read_csv('public_validate.csv')\n",
        "\n",
        "print('training data has %d rows' % len(train_df_float))\n",
        "print('validation data has %d rows' % len(validate_df_float))\n",
        "print('test data has %d rows' % len(test_df_float))\n",
        "print('training data columns are: %s' % train_df_float.columns)"
      ],
      "execution_count": 2,
      "outputs": [
        {
          "output_type": "stream",
          "text": [
            "training data has 1289508 rows\n",
            "validation data has 161193 rows\n",
            "test data has 161233 rows\n",
            "training data columns are: Index(['id', 'comment_text', 'data_set', 'created_date', 'publication_id',\n",
            "       'parent_id', 'article_id', 'rating', 'funny', 'wow', 'sad', 'likes',\n",
            "       'disagree', 'toxicity', 'severe_toxicity', 'obscene', 'sexual_explicit',\n",
            "       'identity_attack', 'insult', 'threat', 'male', 'female', 'transgender',\n",
            "       'other_gender', 'heterosexual', 'homosexual_gay_or_lesbian', 'bisexual',\n",
            "       'other_sexual_orientation', 'christian', 'jewish', 'muslim', 'hindu',\n",
            "       'buddhist', 'atheist', 'other_religion', 'black', 'white', 'asian',\n",
            "       'latino', 'other_race_or_ethnicity', 'physical_disability',\n",
            "       'intellectual_or_learning_disability', 'psychiatric_or_mental_illness',\n",
            "       'other_disability', 'identity_annotator_count',\n",
            "       'toxicity_annotator_count'],\n",
            "      dtype='object')\n"
          ],
          "name": "stdout"
        }
      ]
    },
    {
      "metadata": {
        "id": "K9vm2EvKXZDn",
        "colab_type": "text"
      },
      "cell_type": "markdown",
      "source": [
        "Let's examine some rows in these datasets."
      ]
    },
    {
      "metadata": {
        "id": "aUAHyQ-aXjA-",
        "colab_type": "code",
        "outputId": "1b576aa5-5e53-4249-e790-f19d1c594e3d",
        "colab": {
          "base_uri": "https://localhost:8080/",
          "height": 886
        }
      },
      "cell_type": "code",
      "source": [
        "train_df_float.head()"
      ],
      "execution_count": 3,
      "outputs": [
        {
          "output_type": "execute_result",
          "data": {
            "text/html": [
              "<div>\n",
              "<style scoped>\n",
              "    .dataframe tbody tr th:only-of-type {\n",
              "        vertical-align: middle;\n",
              "    }\n",
              "\n",
              "    .dataframe tbody tr th {\n",
              "        vertical-align: top;\n",
              "    }\n",
              "\n",
              "    .dataframe thead th {\n",
              "        text-align: right;\n",
              "    }\n",
              "</style>\n",
              "<table border=\"1\" class=\"dataframe\">\n",
              "  <thead>\n",
              "    <tr style=\"text-align: right;\">\n",
              "      <th></th>\n",
              "      <th>id</th>\n",
              "      <th>comment_text</th>\n",
              "      <th>data_set</th>\n",
              "      <th>created_date</th>\n",
              "      <th>publication_id</th>\n",
              "      <th>parent_id</th>\n",
              "      <th>article_id</th>\n",
              "      <th>rating</th>\n",
              "      <th>funny</th>\n",
              "      <th>wow</th>\n",
              "      <th>...</th>\n",
              "      <th>white</th>\n",
              "      <th>asian</th>\n",
              "      <th>latino</th>\n",
              "      <th>other_race_or_ethnicity</th>\n",
              "      <th>physical_disability</th>\n",
              "      <th>intellectual_or_learning_disability</th>\n",
              "      <th>psychiatric_or_mental_illness</th>\n",
              "      <th>other_disability</th>\n",
              "      <th>identity_annotator_count</th>\n",
              "      <th>toxicity_annotator_count</th>\n",
              "    </tr>\n",
              "  </thead>\n",
              "  <tbody>\n",
              "    <tr>\n",
              "      <th>0</th>\n",
              "      <td>1083994</td>\n",
              "      <td>He got his money... now he lies in wait till after the election in 2 yrs.... dirty politicians need to be afraid of Tar and feathers again... but they aren't and so the people get screwed.</td>\n",
              "      <td>bucket4</td>\n",
              "      <td>2017-03-06 15:21:53.675241+00</td>\n",
              "      <td>21</td>\n",
              "      <td>NaN</td>\n",
              "      <td>317120</td>\n",
              "      <td>approved</td>\n",
              "      <td>0</td>\n",
              "      <td>0</td>\n",
              "      <td>...</td>\n",
              "      <td>NaN</td>\n",
              "      <td>NaN</td>\n",
              "      <td>NaN</td>\n",
              "      <td>NaN</td>\n",
              "      <td>NaN</td>\n",
              "      <td>NaN</td>\n",
              "      <td>NaN</td>\n",
              "      <td>NaN</td>\n",
              "      <td>0</td>\n",
              "      <td>67</td>\n",
              "    </tr>\n",
              "    <tr>\n",
              "      <th>1</th>\n",
              "      <td>650904</td>\n",
              "      <td>Mad dog will surely put the liberals in mental hospitals. Boorah</td>\n",
              "      <td>bucket3</td>\n",
              "      <td>2016-12-02 16:44:21.329535+00</td>\n",
              "      <td>21</td>\n",
              "      <td>NaN</td>\n",
              "      <td>154086</td>\n",
              "      <td>approved</td>\n",
              "      <td>0</td>\n",
              "      <td>0</td>\n",
              "      <td>...</td>\n",
              "      <td>NaN</td>\n",
              "      <td>NaN</td>\n",
              "      <td>NaN</td>\n",
              "      <td>NaN</td>\n",
              "      <td>NaN</td>\n",
              "      <td>NaN</td>\n",
              "      <td>NaN</td>\n",
              "      <td>NaN</td>\n",
              "      <td>0</td>\n",
              "      <td>76</td>\n",
              "    </tr>\n",
              "    <tr>\n",
              "      <th>2</th>\n",
              "      <td>5902188</td>\n",
              "      <td>And Trump continues his lifelong cowardice by not making this announcement himself.\\n\\nWhat an awful human being .....</td>\n",
              "      <td>bucket1</td>\n",
              "      <td>2017-09-05 19:05:32.341360+00</td>\n",
              "      <td>55</td>\n",
              "      <td>NaN</td>\n",
              "      <td>374342</td>\n",
              "      <td>approved</td>\n",
              "      <td>1</td>\n",
              "      <td>0</td>\n",
              "      <td>...</td>\n",
              "      <td>NaN</td>\n",
              "      <td>NaN</td>\n",
              "      <td>NaN</td>\n",
              "      <td>NaN</td>\n",
              "      <td>NaN</td>\n",
              "      <td>NaN</td>\n",
              "      <td>NaN</td>\n",
              "      <td>NaN</td>\n",
              "      <td>0</td>\n",
              "      <td>63</td>\n",
              "    </tr>\n",
              "    <tr>\n",
              "      <th>3</th>\n",
              "      <td>6290444</td>\n",
              "      <td>Cry me a river, why don't you.\\nDrinking, drugs, dressing like a ho.  Bad recipe for disaster!</td>\n",
              "      <td>bucket2</td>\n",
              "      <td>2017-11-04 22:04:11.596185+00</td>\n",
              "      <td>54</td>\n",
              "      <td>6290143.0</td>\n",
              "      <td>396946</td>\n",
              "      <td>rejected</td>\n",
              "      <td>0</td>\n",
              "      <td>0</td>\n",
              "      <td>...</td>\n",
              "      <td>NaN</td>\n",
              "      <td>NaN</td>\n",
              "      <td>NaN</td>\n",
              "      <td>NaN</td>\n",
              "      <td>NaN</td>\n",
              "      <td>NaN</td>\n",
              "      <td>NaN</td>\n",
              "      <td>NaN</td>\n",
              "      <td>0</td>\n",
              "      <td>59</td>\n",
              "    </tr>\n",
              "    <tr>\n",
              "      <th>4</th>\n",
              "      <td>5167187</td>\n",
              "      <td>That's right. They are not normal. And I am starting from the premise that they are ABNORMAL. Proceed wth the typical racist, bigot, sexist rubbish.\\nThanks!</td>\n",
              "      <td>bucket5</td>\n",
              "      <td>2017-04-23 05:37:53.975562+00</td>\n",
              "      <td>21</td>\n",
              "      <td>5166939.0</td>\n",
              "      <td>328935</td>\n",
              "      <td>rejected</td>\n",
              "      <td>0</td>\n",
              "      <td>0</td>\n",
              "      <td>...</td>\n",
              "      <td>NaN</td>\n",
              "      <td>NaN</td>\n",
              "      <td>NaN</td>\n",
              "      <td>NaN</td>\n",
              "      <td>NaN</td>\n",
              "      <td>NaN</td>\n",
              "      <td>NaN</td>\n",
              "      <td>NaN</td>\n",
              "      <td>0</td>\n",
              "      <td>61</td>\n",
              "    </tr>\n",
              "  </tbody>\n",
              "</table>\n",
              "<p>5 rows × 46 columns</p>\n",
              "</div>"
            ],
            "text/plain": [
              "        id  \\\n",
              "0  1083994   \n",
              "1   650904   \n",
              "2  5902188   \n",
              "3  6290444   \n",
              "4  5167187   \n",
              "\n",
              "                                                                                                                                                                                   comment_text  \\\n",
              "0  He got his money... now he lies in wait till after the election in 2 yrs.... dirty politicians need to be afraid of Tar and feathers again... but they aren't and so the people get screwed.   \n",
              "1                                                                                                                              Mad dog will surely put the liberals in mental hospitals. Boorah   \n",
              "2                                                                        And Trump continues his lifelong cowardice by not making this announcement himself.\\n\\nWhat an awful human being .....   \n",
              "3                                                                                                Cry me a river, why don't you.\\nDrinking, drugs, dressing like a ho.  Bad recipe for disaster!   \n",
              "4                                 That's right. They are not normal. And I am starting from the premise that they are ABNORMAL. Proceed wth the typical racist, bigot, sexist rubbish.\\nThanks!   \n",
              "\n",
              "  data_set                   created_date  publication_id  parent_id  \\\n",
              "0  bucket4  2017-03-06 15:21:53.675241+00              21        NaN   \n",
              "1  bucket3  2016-12-02 16:44:21.329535+00              21        NaN   \n",
              "2  bucket1  2017-09-05 19:05:32.341360+00              55        NaN   \n",
              "3  bucket2  2017-11-04 22:04:11.596185+00              54  6290143.0   \n",
              "4  bucket5  2017-04-23 05:37:53.975562+00              21  5166939.0   \n",
              "\n",
              "   article_id    rating  funny  wow            ...             white  asian  \\\n",
              "0      317120  approved      0    0            ...               NaN    NaN   \n",
              "1      154086  approved      0    0            ...               NaN    NaN   \n",
              "2      374342  approved      1    0            ...               NaN    NaN   \n",
              "3      396946  rejected      0    0            ...               NaN    NaN   \n",
              "4      328935  rejected      0    0            ...               NaN    NaN   \n",
              "\n",
              "   latino  other_race_or_ethnicity  physical_disability  \\\n",
              "0     NaN                      NaN                  NaN   \n",
              "1     NaN                      NaN                  NaN   \n",
              "2     NaN                      NaN                  NaN   \n",
              "3     NaN                      NaN                  NaN   \n",
              "4     NaN                      NaN                  NaN   \n",
              "\n",
              "   intellectual_or_learning_disability  psychiatric_or_mental_illness  \\\n",
              "0                                  NaN                            NaN   \n",
              "1                                  NaN                            NaN   \n",
              "2                                  NaN                            NaN   \n",
              "3                                  NaN                            NaN   \n",
              "4                                  NaN                            NaN   \n",
              "\n",
              "   other_disability  identity_annotator_count  toxicity_annotator_count  \n",
              "0               NaN                         0                        67  \n",
              "1               NaN                         0                        76  \n",
              "2               NaN                         0                        63  \n",
              "3               NaN                         0                        59  \n",
              "4               NaN                         0                        61  \n",
              "\n",
              "[5 rows x 46 columns]"
            ]
          },
          "metadata": {
            "tags": []
          },
          "execution_count": 3
        }
      ]
    },
    {
      "metadata": {
        "id": "Fw889hkUGEkI",
        "colab_type": "text"
      },
      "cell_type": "markdown",
      "source": [
        "# Understanding the data\n",
        "\n",
        "There are many column in the data set, however some columns you may want to pay closer attention to are:\n",
        "* comment_text: this is the the text which we will pass into our model.\n",
        "* toxicity: this is the percentage of raters who labeled this comment as being toxic.\n",
        "* identity columns, such as \"male\", \"female\", \"white\", \"black\", and others: there are the percentage of raters who labeled this comment as refering to a given identity.  Unlike comment_text and toxicity, these columns may be missing for many rows and will display as NaN initially.\n",
        "\n",
        "Let's now look at some unprocessed rows.  We will filter the output to only show the \"toxicity\", \"male\", and \"comment_text\" columns, however keep in mind that there are 24 total identity columns."
      ]
    },
    {
      "metadata": {
        "id": "fIniPQgVGEJ9",
        "colab_type": "code",
        "outputId": "9f4f5bf7-cfb4-4436-eb34-b03825e61dfd",
        "colab": {
          "base_uri": "https://localhost:8080/",
          "height": 408
        }
      },
      "cell_type": "code",
      "source": [
        "pd.concat([\n",
        "    # Select 3 rows where 100% of raters said it applied to the male identity.\n",
        "    train_df_float[['toxicity', 'male', 'comment_text']].query('male == 1').head(3),\n",
        "    # Select 3 rows where 50% of raters said it applied to the male identity.\n",
        "    train_df_float[['toxicity', 'male', 'comment_text']].query('male == 0.5').head(3),\n",
        "    # Select 3 rows where 0% of raters said it applied to the male identity.\n",
        "    train_df_float[['toxicity', 'male', 'comment_text']].query('male == 0.0').head(3),\n",
        "    # Select 3 rows that were not labeled for the male identity (have NaN values).\n",
        "    # See https://stackoverflow.com/questions/26535563 if you would like to\n",
        "    # understand this Pandas behavior.\n",
        "    train_df_float[['toxicity', 'male', 'comment_text']].query('male != male').head(3)])"
      ],
      "execution_count": 4,
      "outputs": [
        {
          "output_type": "execute_result",
          "data": {
            "text/html": [
              "<div>\n",
              "<style scoped>\n",
              "    .dataframe tbody tr th:only-of-type {\n",
              "        vertical-align: middle;\n",
              "    }\n",
              "\n",
              "    .dataframe tbody tr th {\n",
              "        vertical-align: top;\n",
              "    }\n",
              "\n",
              "    .dataframe thead th {\n",
              "        text-align: right;\n",
              "    }\n",
              "</style>\n",
              "<table border=\"1\" class=\"dataframe\">\n",
              "  <thead>\n",
              "    <tr style=\"text-align: right;\">\n",
              "      <th></th>\n",
              "      <th>toxicity</th>\n",
              "      <th>male</th>\n",
              "      <th>comment_text</th>\n",
              "    </tr>\n",
              "  </thead>\n",
              "  <tbody>\n",
              "    <tr>\n",
              "      <th>4988</th>\n",
              "      <td>0.545455</td>\n",
              "      <td>1.0</td>\n",
              "      <td>Blame men.  There's always an excuse to blame men for the failures of women.</td>\n",
              "    </tr>\n",
              "    <tr>\n",
              "      <th>4994</th>\n",
              "      <td>0.800000</td>\n",
              "      <td>1.0</td>\n",
              "      <td>Are you a Pilgrim?\\nWhy arn't you growing your own veggies? \\nAnd do you haul them in a covered wagon?\\n\\nThankfully it isn't up to \"white man\" to determine what is traditional for the First Peoples of Alaska.\\nBut they try to all the time and it looks pathetic.</td>\n",
              "    </tr>\n",
              "    <tr>\n",
              "      <th>4999</th>\n",
              "      <td>0.363636</td>\n",
              "      <td>1.0</td>\n",
              "      <td>No, he was accused of being a racist white man.</td>\n",
              "    </tr>\n",
              "    <tr>\n",
              "      <th>5426</th>\n",
              "      <td>0.646154</td>\n",
              "      <td>0.5</td>\n",
              "      <td>You come from the 'veins of polygamy'.... is Zuma your father?? Polygamy is wholly primitive, debasing women! \\nOK, not certain about paternity, but I am certain that Mbabula is a crass racist e=who has enriched himself while, so far, making an idiot of himself as a Minister in his 'father's' Go...</td>\n",
              "    </tr>\n",
              "    <tr>\n",
              "      <th>5644</th>\n",
              "      <td>0.737500</td>\n",
              "      <td>0.5</td>\n",
              "      <td>53% of white women voted for the guy who advises to grab 'em by the p*ssy. So much for the sisterhood.</td>\n",
              "    </tr>\n",
              "    <tr>\n",
              "      <th>5854</th>\n",
              "      <td>0.657143</td>\n",
              "      <td>0.5</td>\n",
              "      <td>\"remarkable woman\"??? Are you nuts? What am I saying, of course you're nuts. She was a flawed woman who would tell two lies to two different people to get a vote. She flip flopped like a fish on the dock. She cheated and lied her way through 3 decades of public service like we have never seen be...</td>\n",
              "    </tr>\n",
              "    <tr>\n",
              "      <th>4986</th>\n",
              "      <td>0.757143</td>\n",
              "      <td>0.0</td>\n",
              "      <td>Why is this black racist crap still on the G&amp;M website?\\n\\nI stopped talking to black people long ago because I was afraid for my life!!!!!\\nSince 80%-90% of all crime is by black people it kinda makes sense doesn't it.\\nOh wait thats profiling or is it driving while black? \\nI don't know you LE...</td>\n",
              "    </tr>\n",
              "    <tr>\n",
              "      <th>4987</th>\n",
              "      <td>0.688525</td>\n",
              "      <td>0.0</td>\n",
              "      <td>even up here.......BLACKS!</td>\n",
              "    </tr>\n",
              "    <tr>\n",
              "      <th>4989</th>\n",
              "      <td>0.728571</td>\n",
              "      <td>0.0</td>\n",
              "      <td>And the woman exposing herself saying grab this pussy is an offer I take? She definitely is the sane and high class American that you gloat about trying to represent</td>\n",
              "    </tr>\n",
              "    <tr>\n",
              "      <th>0</th>\n",
              "      <td>0.373134</td>\n",
              "      <td>NaN</td>\n",
              "      <td>He got his money... now he lies in wait till after the election in 2 yrs.... dirty politicians need to be afraid of Tar and feathers again... but they aren't and so the people get screwed.</td>\n",
              "    </tr>\n",
              "    <tr>\n",
              "      <th>1</th>\n",
              "      <td>0.605263</td>\n",
              "      <td>NaN</td>\n",
              "      <td>Mad dog will surely put the liberals in mental hospitals. Boorah</td>\n",
              "    </tr>\n",
              "    <tr>\n",
              "      <th>2</th>\n",
              "      <td>0.666667</td>\n",
              "      <td>NaN</td>\n",
              "      <td>And Trump continues his lifelong cowardice by not making this announcement himself.\\n\\nWhat an awful human being .....</td>\n",
              "    </tr>\n",
              "  </tbody>\n",
              "</table>\n",
              "</div>"
            ],
            "text/plain": [
              "      toxicity  male  \\\n",
              "4988  0.545455   1.0   \n",
              "4994  0.800000   1.0   \n",
              "4999  0.363636   1.0   \n",
              "5426  0.646154   0.5   \n",
              "5644  0.737500   0.5   \n",
              "5854  0.657143   0.5   \n",
              "4986  0.757143   0.0   \n",
              "4987  0.688525   0.0   \n",
              "4989  0.728571   0.0   \n",
              "0     0.373134   NaN   \n",
              "1     0.605263   NaN   \n",
              "2     0.666667   NaN   \n",
              "\n",
              "                                                                                                                                                                                                                                                                                                     comment_text  \n",
              "4988                                                                                                                                                                                                                                 Blame men.  There's always an excuse to blame men for the failures of women.  \n",
              "4994                                       Are you a Pilgrim?\\nWhy arn't you growing your own veggies? \\nAnd do you haul them in a covered wagon?\\n\\nThankfully it isn't up to \"white man\" to determine what is traditional for the First Peoples of Alaska.\\nBut they try to all the time and it looks pathetic.  \n",
              "4999                                                                                                                                                                                                                                                              No, he was accused of being a racist white man.  \n",
              "5426  You come from the 'veins of polygamy'.... is Zuma your father?? Polygamy is wholly primitive, debasing women! \\nOK, not certain about paternity, but I am certain that Mbabula is a crass racist e=who has enriched himself while, so far, making an idiot of himself as a Minister in his 'father's' Go...  \n",
              "5644                                                                                                                                                                                                       53% of white women voted for the guy who advises to grab 'em by the p*ssy. So much for the sisterhood.  \n",
              "5854  \"remarkable woman\"??? Are you nuts? What am I saying, of course you're nuts. She was a flawed woman who would tell two lies to two different people to get a vote. She flip flopped like a fish on the dock. She cheated and lied her way through 3 decades of public service like we have never seen be...  \n",
              "4986  Why is this black racist crap still on the G&M website?\\n\\nI stopped talking to black people long ago because I was afraid for my life!!!!!\\nSince 80%-90% of all crime is by black people it kinda makes sense doesn't it.\\nOh wait thats profiling or is it driving while black? \\nI don't know you LE...  \n",
              "4987                                                                                                                                                                                                                                                                                   even up here.......BLACKS!  \n",
              "4989                                                                                                                                        And the woman exposing herself saying grab this pussy is an offer I take? She definitely is the sane and high class American that you gloat about trying to represent  \n",
              "0                                                                                                                    He got his money... now he lies in wait till after the election in 2 yrs.... dirty politicians need to be afraid of Tar and feathers again... but they aren't and so the people get screwed.  \n",
              "1                                                                                                                                                                                                                                                Mad dog will surely put the liberals in mental hospitals. Boorah  \n",
              "2                                                                                                                                                                                          And Trump continues his lifelong cowardice by not making this announcement himself.\\n\\nWhat an awful human being .....  "
            ]
          },
          "metadata": {
            "tags": []
          },
          "execution_count": 4
        }
      ]
    },
    {
      "metadata": {
        "id": "c0SpGASQXm7O",
        "colab_type": "text"
      },
      "cell_type": "markdown",
      "source": [
        "We will need to convert toxicity and identity columns to booleans, in order to work with our neural net and metrics calculcations.  For this tutorial, we will consider any value >= 0.5 as True (i.e. a comment should be considered toxic if 50% or more crowd raters labeled it as toxic).  Note that this code also converts missing identity fields to False."
      ]
    },
    {
      "metadata": {
        "id": "gf_Ra3fGVwK7",
        "colab_type": "code",
        "outputId": "80b43f55-f1ed-4a41-aefc-2bc40c34cf3a",
        "colab": {
          "base_uri": "https://localhost:8080/",
          "height": 198
        }
      },
      "cell_type": "code",
      "source": [
        "# List all identities\n",
        "identity_columns = [\n",
        "    'male', 'female', 'transgender', 'other_gender', 'heterosexual',\n",
        "    'homosexual_gay_or_lesbian', 'bisexual', 'other_sexual_orientation', 'christian',\n",
        "    'jewish', 'muslim', 'hindu', 'buddhist', 'atheist', 'other_religion', 'black',\n",
        "    'white', 'asian', 'latino', 'other_race_or_ethnicity',\n",
        "    'physical_disability', 'intellectual_or_learning_disability',\n",
        "    'psychiatric_or_mental_illness', 'other_disability']\n",
        "\n",
        "def convert_to_bool(df, col_name):\n",
        "  df[col_name] = np.where(df[col_name] >= 0.5, True, False)\n",
        "\n",
        "def convert_dataframe_to_bool(df):\n",
        "  bool_df = df.copy()\n",
        "  for col in ['toxicity'] + identity_columns:\n",
        "      convert_to_bool(bool_df, col)\n",
        "  return bool_df\n",
        "\n",
        "train_df = convert_dataframe_to_bool(train_df_float)\n",
        "validate_df = convert_dataframe_to_bool(validate_df_float)\n",
        "test_df = convert_dataframe_to_bool(test_df_float)\n",
        "    \n",
        "train_df[['toxicity', 'male', 'comment_text']].head()"
      ],
      "execution_count": 5,
      "outputs": [
        {
          "output_type": "execute_result",
          "data": {
            "text/html": [
              "<div>\n",
              "<style scoped>\n",
              "    .dataframe tbody tr th:only-of-type {\n",
              "        vertical-align: middle;\n",
              "    }\n",
              "\n",
              "    .dataframe tbody tr th {\n",
              "        vertical-align: top;\n",
              "    }\n",
              "\n",
              "    .dataframe thead th {\n",
              "        text-align: right;\n",
              "    }\n",
              "</style>\n",
              "<table border=\"1\" class=\"dataframe\">\n",
              "  <thead>\n",
              "    <tr style=\"text-align: right;\">\n",
              "      <th></th>\n",
              "      <th>toxicity</th>\n",
              "      <th>male</th>\n",
              "      <th>comment_text</th>\n",
              "    </tr>\n",
              "  </thead>\n",
              "  <tbody>\n",
              "    <tr>\n",
              "      <th>0</th>\n",
              "      <td>False</td>\n",
              "      <td>False</td>\n",
              "      <td>He got his money... now he lies in wait till after the election in 2 yrs.... dirty politicians need to be afraid of Tar and feathers again... but they aren't and so the people get screwed.</td>\n",
              "    </tr>\n",
              "    <tr>\n",
              "      <th>1</th>\n",
              "      <td>True</td>\n",
              "      <td>False</td>\n",
              "      <td>Mad dog will surely put the liberals in mental hospitals. Boorah</td>\n",
              "    </tr>\n",
              "    <tr>\n",
              "      <th>2</th>\n",
              "      <td>True</td>\n",
              "      <td>False</td>\n",
              "      <td>And Trump continues his lifelong cowardice by not making this announcement himself.\\n\\nWhat an awful human being .....</td>\n",
              "    </tr>\n",
              "    <tr>\n",
              "      <th>3</th>\n",
              "      <td>False</td>\n",
              "      <td>False</td>\n",
              "      <td>Cry me a river, why don't you.\\nDrinking, drugs, dressing like a ho.  Bad recipe for disaster!</td>\n",
              "    </tr>\n",
              "    <tr>\n",
              "      <th>4</th>\n",
              "      <td>True</td>\n",
              "      <td>False</td>\n",
              "      <td>That's right. They are not normal. And I am starting from the premise that they are ABNORMAL. Proceed wth the typical racist, bigot, sexist rubbish.\\nThanks!</td>\n",
              "    </tr>\n",
              "  </tbody>\n",
              "</table>\n",
              "</div>"
            ],
            "text/plain": [
              "   toxicity   male  \\\n",
              "0     False  False   \n",
              "1      True  False   \n",
              "2      True  False   \n",
              "3     False  False   \n",
              "4      True  False   \n",
              "\n",
              "                                                                                                                                                                                   comment_text  \n",
              "0  He got his money... now he lies in wait till after the election in 2 yrs.... dirty politicians need to be afraid of Tar and feathers again... but they aren't and so the people get screwed.  \n",
              "1                                                                                                                              Mad dog will surely put the liberals in mental hospitals. Boorah  \n",
              "2                                                                        And Trump continues his lifelong cowardice by not making this announcement himself.\\n\\nWhat an awful human being .....  \n",
              "3                                                                                                Cry me a river, why don't you.\\nDrinking, drugs, dressing like a ho.  Bad recipe for disaster!  \n",
              "4                                 That's right. They are not normal. And I am starting from the premise that they are ABNORMAL. Proceed wth the typical racist, bigot, sexist rubbish.\\nThanks!  "
            ]
          },
          "metadata": {
            "tags": []
          },
          "execution_count": 5
        }
      ]
    },
    {
      "metadata": {
        "id": "n7z7uXEwTK65",
        "colab_type": "text"
      },
      "cell_type": "markdown",
      "source": [
        "#Exercise #1\n",
        "* Count the number of comments in the training set which are labeled as referring to the \"female\" group.\n",
        "* What percentage of comments which are labeled as referring to the \"female\" group are toxic?\n",
        "* How does this percentage compare to other identity groups in the training set?\n",
        "* How does this compare to the percentage of toxic comments in the entire training set?"
      ]
    },
    {
      "metadata": {
        "id": "LnRl75igTOy_",
        "colab_type": "code",
        "colab": {}
      },
      "cell_type": "code",
      "source": [
        "# Your code here\n",
        "#\n",
        "# HINT: you can query dataframes for identities using code like:\n",
        "#   train_df.query('black == True')\n",
        "# and \n",
        "#   train_df.query('toxicity == True')\n",
        "#\n",
        "# You can print the identity_columns variable to see the full list of identities\n",
        "# labeled by crowd raters.\n",
        "#\n",
        "# Pandas Dataframe documentation is available at https://pandas.pydata.org/pandas-docs/stable/api.html#dataframe"
      ],
      "execution_count": 0,
      "outputs": []
    },
    {
      "metadata": {
        "id": "Dk7Tw_JRTPpG",
        "colab_type": "text"
      },
      "cell_type": "markdown",
      "source": [
        "## Solution (click to expand)"
      ]
    },
    {
      "metadata": {
        "id": "xN_O7k1OTO1_",
        "colab_type": "code",
        "outputId": "d2aea435-96d8-4b56-9468-4f8d221ed8dc",
        "colab": {
          "base_uri": "https://localhost:8080/",
          "height": 72
        }
      },
      "cell_type": "code",
      "source": [
        "def print_count_and_percent_toxic(df, identity):\n",
        "  # Query all training comments where the identity column equals True.\n",
        "  identity_comments = train_df.query(identity + ' == True')\n",
        "\n",
        "  # Query which of those comments also have \"toxicity\" equals True\n",
        "  toxic_identity_comments = identity_comments.query('toxicity == True')\n",
        "  # Alternatively you could also write a query using & (and), e.g.:\n",
        "  # toxic_identity_comments = train_df.query(identity  + ' == True & toxicity == True')\n",
        "\n",
        "  # Print the results.\n",
        "  num_comments = len(identity_comments)\n",
        "  percent_toxic = len(toxic_identity_comments) / num_comments \n",
        "  print('%d comments refer to the %s identity, %.2f%% are toxic' % (\n",
        "    num_comments,\n",
        "    identity,\n",
        "    # multiply percent_toxic by 100 for easier reading.\n",
        "    100 * percent_toxic))\n",
        "\n",
        "# Print values for comments labeled as referring to the female identity\n",
        "print_count_and_percent_toxic(train_df, 'female')\n",
        "\n",
        "# Compare this with comments labeled as referring to the male identity\n",
        "print_count_and_percent_toxic(train_df, 'male')\n",
        "\n",
        "# Print the percent toxicity for the entire training set\n",
        "all_toxic_df = train_df.query('toxicity == True')\n",
        "print('%.2f%% of all comments are toxic' %\n",
        "  (100 * len(all_toxic_df) / len(train_df)))"
      ],
      "execution_count": 25,
      "outputs": [
        {
          "output_type": "stream",
          "text": [
            "36981 comments refer to the female identity, 13.78% are toxic\n",
            "31083 comments refer to the male identity, 15.30% are toxic\n",
            "8.00% of all comments are toxic\n"
          ],
          "name": "stdout"
        }
      ]
    },
    {
      "metadata": {
        "id": "rt8ow-2WXqpG",
        "colab_type": "text"
      },
      "cell_type": "markdown",
      "source": [
        "## Define a text classification model\n",
        "\n",
        "This code creates and trains a convolutional neural net using the Keras framework.  This neural net accepts a text comment, encoded using GloVe embeddings, and outputs a probably that the comment is toxic.  Don't worry if you do not understand all of this code, as we will be treating this neural *net* as a black box later in the tutorial.\n",
        "\n",
        "Note that for this colab, we will be loading pretrained models from disk, rather than using this code to train a new model which would take over 30 minutes."
      ]
    },
    {
      "metadata": {
        "id": "NRJAO2YLlOku",
        "colab_type": "code",
        "colab": {}
      },
      "cell_type": "code",
      "source": [
        "MAX_NUM_WORDS = 10000\n",
        "TOXICITY_COLUMN = 'toxicity'\n",
        "TEXT_COLUMN = 'comment_text'\n",
        "\n",
        "# Create a text tokenizer.\n",
        "tokenizer = Tokenizer(num_words=MAX_NUM_WORDS)\n",
        "tokenizer.fit_on_texts(train_df[TEXT_COLUMN])\n",
        "\n",
        "# All comments must be truncated or padded to be the same length.\n",
        "MAX_SEQUENCE_LENGTH = 250\n",
        "def pad_text(texts, tokenizer):\n",
        "    return pad_sequences(tokenizer.texts_to_sequences(texts), maxlen=MAX_SEQUENCE_LENGTH)\n",
        "\n",
        "# Load the first model from disk.\n",
        "model = load_model('model_2_3_4.h5')"
      ],
      "execution_count": 0,
      "outputs": []
    },
    {
      "metadata": {
        "id": "0gV3zRBcleCV",
        "colab_type": "text"
      },
      "cell_type": "markdown",
      "source": [
        "### Optional: dive into model architecture\n",
        "\n",
        "Expand this code to see how our text classification model is defined, and optionally train your own model.  Warning: training a new model maybe take over 30 minutes."
      ]
    },
    {
      "metadata": {
        "id": "ak2l-frLWYjx",
        "colab_type": "code",
        "colab": {}
      },
      "cell_type": "code",
      "source": [
        "EMBEDDINGS_PATH = 'glove.6B.100d.txt'\n",
        "EMBEDDINGS_DIMENSION = 100\n",
        "DROPOUT_RATE = 0.3\n",
        "LEARNING_RATE = 0.00005\n",
        "NUM_EPOCHS = 10\n",
        "BATCH_SIZE = 128\n",
        "\n",
        "def train_model(train_df, validate_df, tokenizer):\n",
        "    # Prepare data\n",
        "    train_text = pad_text(train_df[TEXT_COLUMN], tokenizer)\n",
        "    train_labels = to_categorical(train_df[TOXICITY_COLUMN])\n",
        "    validate_text = pad_text(validate_df[TEXT_COLUMN], tokenizer)\n",
        "    validate_labels = to_categorical(validate_df[TOXICITY_COLUMN])\n",
        "\n",
        "    # Load embeddings\n",
        "    embeddings_index = {}\n",
        "    with open(EMBEDDINGS_PATH) as f:\n",
        "        for line in f:\n",
        "            values = line.split()\n",
        "            word = values[0]\n",
        "            coefs = np.asarray(values[1:], dtype='float32')\n",
        "            embeddings_index[word] = coefs\n",
        "\n",
        "    embedding_matrix = np.zeros((len(tokenizer.word_index) + 1,\n",
        "                                 EMBEDDINGS_DIMENSION))\n",
        "    num_words_in_embedding = 0\n",
        "    for word, i in tokenizer.word_index.items():\n",
        "        embedding_vector = embeddings_index.get(word)\n",
        "        if embedding_vector is not None:\n",
        "            num_words_in_embedding += 1\n",
        "            # words not found in embedding index will be all-zeros.\n",
        "            embedding_matrix[i] = embedding_vector\n",
        "\n",
        "    # Create model layers.\n",
        "    def get_convolutional_neural_net_layers():\n",
        "        \"\"\"Returns (input_layer, output_layer)\"\"\"\n",
        "        sequence_input = Input(shape=(MAX_SEQUENCE_LENGTH,), dtype='int32')\n",
        "        embedding_layer = Embedding(len(tokenizer.word_index) + 1,\n",
        "                                    EMBEDDINGS_DIMENSION,\n",
        "                                    weights=[embedding_matrix],\n",
        "                                    input_length=MAX_SEQUENCE_LENGTH,\n",
        "                                    trainable=False)\n",
        "        x = embedding_layer(sequence_input)\n",
        "        x = Conv1D(128, 2, activation='relu', padding='same')(x)\n",
        "        x = MaxPooling1D(5, padding='same')(x)\n",
        "        x = Conv1D(128, 3, activation='relu', padding='same')(x)\n",
        "        x = MaxPooling1D(5, padding='same')(x)\n",
        "        x = Conv1D(128, 4, activation='relu', padding='same')(x)\n",
        "        x = MaxPooling1D(40, padding='same')(x)\n",
        "        x = Flatten()(x)\n",
        "        x = Dropout(DROPOUT_RATE)(x)\n",
        "        x = Dense(128, activation='relu')(x)\n",
        "        preds = Dense(2, activation='softmax')(x)\n",
        "        return sequence_input, preds\n",
        "\n",
        "    # Compile model.\n",
        "    input_layer, output_layer = get_convolutional_neural_net_layers()\n",
        "    model = Model(input_layer, output_layer)\n",
        "    model.compile(loss='categorical_crossentropy',\n",
        "                  optimizer=RMSprop(lr=LEARNING_RATE),\n",
        "                  metrics=['acc'])\n",
        "\n",
        "    # Train model.\n",
        "    model.fit(train_text,\n",
        "              train_labels,\n",
        "              batch_size=BATCH_SIZE,\n",
        "              epochs=NUM_EPOCHS,\n",
        "              validation_data=(validate_text, validate_labels),\n",
        "              verbose=2)\n",
        "\n",
        "    return model\n",
        "\n",
        "# Uncomment this code to run model training\n",
        "# model = train_model(train_df, validate_df, tokenizer)"
      ],
      "execution_count": 0,
      "outputs": []
    },
    {
      "metadata": {
        "id": "_8RfGq2lX2EY",
        "colab_type": "text"
      },
      "cell_type": "markdown",
      "source": [
        "## Score test set with our text classification model\n",
        "\n",
        "Using our new model, we can score the set of test comments for toxicity.\n"
      ]
    },
    {
      "metadata": {
        "id": "V0YjAtUBWa1p",
        "colab_type": "code",
        "colab": {}
      },
      "cell_type": "code",
      "source": [
        "# Use the model to score the test set.\n",
        "test_comments_padded = pad_text(test_df[TEXT_COLUMN], tokenizer)\n",
        "MODEL_NAME = 'fat_star_tutorial'\n",
        "test_df[MODEL_NAME] = model.predict(test_comments_padded)[:, 1]"
      ],
      "execution_count": 0,
      "outputs": []
    },
    {
      "metadata": {
        "id": "x2xJ-qE9I_Kb",
        "colab_type": "text"
      },
      "cell_type": "markdown",
      "source": [
        "Let's see how our model performed against the test set.  We can compare the models predictions against the actual labels, and calculate the overall ROC-AUC for the model."
      ]
    },
    {
      "metadata": {
        "id": "SXh3p5FKphKG",
        "colab_type": "code",
        "outputId": "d900a740-81b3-46a6-89e8-e52a7e0460b3",
        "colab": {
          "base_uri": "https://localhost:8080/",
          "height": 228
        }
      },
      "cell_type": "code",
      "source": [
        "# Print some records to compare our model results with the correct labels\n",
        "pd.concat([\n",
        "    test_df.query('toxicity == False').sample(3),\n",
        "    test_df.query('toxicity == True').sample(3)])[[TOXICITY_COLUMN, MODEL_NAME, TEXT_COLUMN]]"
      ],
      "execution_count": 11,
      "outputs": [
        {
          "output_type": "execute_result",
          "data": {
            "text/html": [
              "<div>\n",
              "<style scoped>\n",
              "    .dataframe tbody tr th:only-of-type {\n",
              "        vertical-align: middle;\n",
              "    }\n",
              "\n",
              "    .dataframe tbody tr th {\n",
              "        vertical-align: top;\n",
              "    }\n",
              "\n",
              "    .dataframe thead th {\n",
              "        text-align: right;\n",
              "    }\n",
              "</style>\n",
              "<table border=\"1\" class=\"dataframe\">\n",
              "  <thead>\n",
              "    <tr style=\"text-align: right;\">\n",
              "      <th></th>\n",
              "      <th>toxicity</th>\n",
              "      <th>fat_star_tutorial</th>\n",
              "      <th>comment_text</th>\n",
              "    </tr>\n",
              "  </thead>\n",
              "  <tbody>\n",
              "    <tr>\n",
              "      <th>39634</th>\n",
              "      <td>False</td>\n",
              "      <td>0.105464</td>\n",
              "      <td>Well, if we did not look like a banana republic before, these guys certainly make us look like one now. Burning flags, burning effigies, marching down the street at the results of an election, doing violence and promising more. Ahh yes, Liberals so filled with compassion carrying signs filled wi...</td>\n",
              "    </tr>\n",
              "    <tr>\n",
              "      <th>153962</th>\n",
              "      <td>False</td>\n",
              "      <td>0.010171</td>\n",
              "      <td>Mark this is a bold statement coming from a fail one term senator. A  senator who only got his seat because of false charges against the late Ted Stevens. So you article I think will only fall on deaf ears.</td>\n",
              "    </tr>\n",
              "    <tr>\n",
              "      <th>12397</th>\n",
              "      <td>False</td>\n",
              "      <td>0.059405</td>\n",
              "      <td>If you mean the Indian extradition case:\\n\\n1.  The two have not been convicted of anything.  Your comment they are \"stone cold killers\" is premature and inflammatory.\\n\\n2.  You write \"WE want to give them a sponge bath.\"  Did you miss the fact that it's the government of Canada arguing that th...</td>\n",
              "    </tr>\n",
              "    <tr>\n",
              "      <th>11</th>\n",
              "      <td>True</td>\n",
              "      <td>0.959504</td>\n",
              "      <td>She is delusional. Russia, IMHO, only has interest in stirring up trouble within the US government for fun and to make us look divided and stupid. Why would they want to get rid of MW?</td>\n",
              "    </tr>\n",
              "    <tr>\n",
              "      <th>4404</th>\n",
              "      <td>True</td>\n",
              "      <td>0.627820</td>\n",
              "      <td>Just think of the 1300 Superfund cleanup sites! Us American's sure know how to pollute the crap out of our planet.</td>\n",
              "    </tr>\n",
              "    <tr>\n",
              "      <th>138702</th>\n",
              "      <td>True</td>\n",
              "      <td>0.084225</td>\n",
              "      <td>Discreditable conduct in climate science is quite widespread Mark, and the basis upon which you attempt to discredit certain individuals is facile.\\n\\nBeing retired from climate science implies independence from current economic incentives, as does working in an unrelated field.  For example, re...</td>\n",
              "    </tr>\n",
              "  </tbody>\n",
              "</table>\n",
              "</div>"
            ],
            "text/plain": [
              "        toxicity  fat_star_tutorial  \\\n",
              "39634      False           0.105464   \n",
              "153962     False           0.010171   \n",
              "12397      False           0.059405   \n",
              "11          True           0.959504   \n",
              "4404        True           0.627820   \n",
              "138702      True           0.084225   \n",
              "\n",
              "                                                                                                                                                                                                                                                                                                       comment_text  \n",
              "39634   Well, if we did not look like a banana republic before, these guys certainly make us look like one now. Burning flags, burning effigies, marching down the street at the results of an election, doing violence and promising more. Ahh yes, Liberals so filled with compassion carrying signs filled wi...  \n",
              "153962                                                                                               Mark this is a bold statement coming from a fail one term senator. A  senator who only got his seat because of false charges against the late Ted Stevens. So you article I think will only fall on deaf ears.  \n",
              "12397   If you mean the Indian extradition case:\\n\\n1.  The two have not been convicted of anything.  Your comment they are \"stone cold killers\" is premature and inflammatory.\\n\\n2.  You write \"WE want to give them a sponge bath.\"  Did you miss the fact that it's the government of Canada arguing that th...  \n",
              "11                                                                                                                         She is delusional. Russia, IMHO, only has interest in stirring up trouble within the US government for fun and to make us look divided and stupid. Why would they want to get rid of MW?  \n",
              "4404                                                                                                                                                                                             Just think of the 1300 Superfund cleanup sites! Us American's sure know how to pollute the crap out of our planet.  \n",
              "138702  Discreditable conduct in climate science is quite widespread Mark, and the basis upon which you attempt to discredit certain individuals is facile.\\n\\nBeing retired from climate science implies independence from current economic incentives, as does working in an unrelated field.  For example, re...  "
            ]
          },
          "metadata": {
            "tags": []
          },
          "execution_count": 11
        }
      ]
    },
    {
      "metadata": {
        "id": "P31u4dyyaKKE",
        "colab_type": "text"
      },
      "cell_type": "markdown",
      "source": [
        "# Evaluate the overall ROC-AUC\n",
        "\n",
        "This calculates the models performance on the entire test set using the ROC-AUC metric."
      ]
    },
    {
      "metadata": {
        "id": "wMj48wLHX93N",
        "colab_type": "code",
        "outputId": "7a57f073-5e79-48ab-d9b8-20020111567d",
        "colab": {
          "base_uri": "https://localhost:8080/",
          "height": 35
        }
      },
      "cell_type": "code",
      "source": [
        "def calculate_overall_auc(df, model_name):\n",
        "    true_labels = df[TOXICITY_COLUMN]\n",
        "    predicted_labels = df[model_name]\n",
        "    return metrics.roc_auc_score(true_labels, predicted_labels)\n",
        "\n",
        "calculate_overall_auc(test_df, MODEL_NAME)"
      ],
      "execution_count": 12,
      "outputs": [
        {
          "output_type": "execute_result",
          "data": {
            "text/plain": [
              "0.9312436123306336"
            ]
          },
          "metadata": {
            "tags": []
          },
          "execution_count": 12
        }
      ]
    },
    {
      "metadata": {
        "id": "Nukre_ZpX5tW",
        "colab_type": "text"
      },
      "cell_type": "markdown",
      "source": [
        "# Compute Bias Metrics\n",
        "\n",
        "Using metrics based on ROC-AUC, we can measure our model for biases against different identity groups.  We only calculate bias metrics on identities that are refered to in 100 or more comments, to minimize noise.\n",
        "\n",
        "The 3 bias metrics compare different subsets of the data as illustrated in the following image:\n",
        "![alt text](https://storage.googleapis.com/civil_comments/fat_star_tutorial/bias%20metrics.png)"
      ]
    },
    {
      "metadata": {
        "id": "o6IClt8eplMn",
        "colab_type": "code",
        "colab": {}
      },
      "cell_type": "code",
      "source": [
        "# Get a list of identity columns that have >= 100 True records.  This will remove groups such\n",
        "# as \"other_disability\" which do not have enough records to calculate meaningful metrics.\n",
        "identities_with_over_100_records = []\n",
        "for identity in identity_columns:\n",
        "    num_records = len(test_df.query(identity + '==True'))\n",
        "    if num_records >= 100:\n",
        "        identities_with_over_100_records.append(identity)\n",
        "\n",
        "SUBGROUP_AUC = 'subgroup_auc'\n",
        "BACKGROUND_POSITIVE_SUBGROUP_NEGATIVE_AUC = 'background_positive_subgroup_negative_auc'\n",
        "BACKGROUND_NEGATIVE_SUBGROUP_POSITIVE_AUC = 'background_negative_subgroup_positive_auc'\n",
        "\n",
        "def compute_auc(y_true, y_pred):\n",
        "  try:\n",
        "    return metrics.roc_auc_score(y_true, y_pred)\n",
        "  except ValueError:\n",
        "    return np.nan\n",
        "\n",
        "\n",
        "def compute_subgroup_auc(df, subgroup, label, model_name):\n",
        "  subgroup_examples = df[df[subgroup]]\n",
        "  return compute_auc(subgroup_examples[label], subgroup_examples[model_name])\n",
        "\n",
        "\n",
        "def compute_background_positive_subgroup_negative_auc(df, subgroup, label, model_name):\n",
        "  \"\"\"Computes the AUC of the within-subgroup negative examples and the background positive examples.\"\"\"\n",
        "  subgroup_negative_examples = df[df[subgroup] & ~df[label]]\n",
        "  non_subgroup_positive_examples = df[~df[subgroup] & df[label]]\n",
        "  examples = subgroup_negative_examples.append(non_subgroup_positive_examples)\n",
        "  return compute_auc(examples[label], examples[model_name])\n",
        "\n",
        "\n",
        "def compute_background_negative_subgroup_positive_auc(df, subgroup, label, model_name):\n",
        "  \"\"\"Computes the AUC of the within-subgroup positive examples and the background negative examples.\"\"\"\n",
        "  subgroup_positive_examples = df[df[subgroup] & df[label]]\n",
        "  non_subgroup_negative_examples = df[~df[subgroup] & ~df[label]]\n",
        "  examples = subgroup_positive_examples.append(non_subgroup_negative_examples)\n",
        "  return compute_auc(examples[label], examples[model_name])\n",
        "\n",
        "\n",
        "def compute_bias_metrics_for_model(dataset,\n",
        "                                   subgroups,\n",
        "                                   model,\n",
        "                                   label_col,\n",
        "                                   include_asegs=False):\n",
        "  \"\"\"Computes per-subgroup metrics for all subgroups and one model.\"\"\"\n",
        "  records = []\n",
        "  for subgroup in subgroups:\n",
        "    record = {\n",
        "        'subgroup': subgroup,\n",
        "        'subgroup_size': len(dataset[dataset[subgroup]])\n",
        "    }\n",
        "    record[SUBGROUP_AUC] = compute_subgroup_auc(\n",
        "        dataset, subgroup, label_col, model)\n",
        "    record[BACKGROUND_POSITIVE_SUBGROUP_NEGATIVE_AUC] = compute_background_positive_subgroup_negative_auc(\n",
        "        dataset, subgroup, label_col, model)\n",
        "    record[BACKGROUND_NEGATIVE_SUBGROUP_POSITIVE_AUC] = compute_background_negative_subgroup_positive_auc(\n",
        "        dataset, subgroup, label_col, model)\n",
        "    records.append(record)\n",
        "  return pd.DataFrame(records).sort_values('subgroup_auc', ascending=True)\n",
        "\n",
        "bias_metrics_df = compute_bias_metrics_for_model(test_df, identities_with_over_100_records, MODEL_NAME, TOXICITY_COLUMN)"
      ],
      "execution_count": 0,
      "outputs": []
    },
    {
      "metadata": {
        "id": "GS9t687KogDQ",
        "colab_type": "text"
      },
      "cell_type": "markdown",
      "source": [
        "# Plot a heatmap of bias metrics"
      ]
    },
    {
      "metadata": {
        "id": "B5OxkxMqNvaB",
        "colab_type": "text"
      },
      "cell_type": "markdown",
      "source": [
        "Plot a heatmap of the bias metrics.  Higher scores indicate better results.\n",
        "* Subgroup AUC measures the ability to separate toxic and non-toxic comments for this identity.\n",
        "* Negative cross AUC measures the ability to separate non-toxic comments for this identity from toxic comments from the background distribution.\n",
        "* Positive cross AUC measures the ability to separate toxic comments for this identity from non-toxic comments from the background distribution."
      ]
    },
    {
      "metadata": {
        "id": "AGb1CQn2PZVX",
        "colab_type": "code",
        "outputId": "e504cda5-0a50-4a2f-d3b6-5e84bbcea997",
        "colab": {
          "base_uri": "https://localhost:8080/",
          "height": 646
        }
      },
      "cell_type": "code",
      "source": [
        "def plot_auc_heatmap(bias_metrics_results, models):\n",
        "  metrics_list = [SUBGROUP_AUC, BACKGROUND_POSITIVE_SUBGROUP_NEGATIVE_AUC, BACKGROUND_NEGATIVE_SUBGROUP_POSITIVE_AUC]\n",
        "  df = bias_metrics_results.set_index('subgroup')\n",
        "  columns = []\n",
        "  vlines = [i * len(models) for i in range(len(metrics_list))]\n",
        "  for metric in metrics_list:\n",
        "    for model in models:\n",
        "      columns.append(metric)\n",
        "  num_rows = len(df)\n",
        "  num_columns = len(columns)\n",
        "  fig = plt.figure(figsize=(num_columns, 0.5 * num_rows))\n",
        "  ax = sns.heatmap(df[columns], annot=True, fmt='.2', cbar=True, cmap='Reds_r',\n",
        "                   vmin=0.5, vmax=1.0)\n",
        "  ax.xaxis.tick_top()\n",
        "  plt.xticks(rotation=90)\n",
        "  ax.vlines(vlines, *ax.get_ylim())\n",
        "  return ax\n",
        "\n",
        "plot_auc_heatmap(bias_metrics_df, [MODEL_NAME])"
      ],
      "execution_count": 14,
      "outputs": [
        {
          "output_type": "execute_result",
          "data": {
            "text/plain": [
              "<matplotlib.axes._subplots.AxesSubplot at 0x7f7450db1898>"
            ]
          },
          "metadata": {
            "tags": []
          },
          "execution_count": 14
        },
        {
          "output_type": "display_data",
          "data": {
            "image/png": "[encoded data removed]",
            "text/plain": [
              "<Figure size 216x504 with 2 Axes>"
            ]
          },
          "metadata": {
            "tags": []
          }
        }
      ]
    },
    {
      "metadata": {
        "id": "MoMN4vfCXoJ4",
        "colab_type": "text"
      },
      "cell_type": "markdown",
      "source": [
        "# Exercise #2:\n",
        "Examine the bias heatmap above - what biases can you spot?  Do the biases appear to be false positives (non-toxic comments incorrectly classified as toxic) or false negatives (toxic comments incorrectly classified as non-toxic)?"
      ]
    },
    {
      "metadata": {
        "id": "8bArd_iUqujQ",
        "colab_type": "text"
      },
      "cell_type": "markdown",
      "source": [
        "## Solution: click to expand"
      ]
    },
    {
      "metadata": {
        "id": "3pBX9TjPqopb",
        "colab_type": "text"
      },
      "cell_type": "markdown",
      "source": [
        "Some groups have lower subgroup AUC scores, for example the groups \"heterosexual\", \"transgender\", and \"homosexual_gay_or_lesbian\".  Because the \"Negative Cross AUC\" is lower than the \"Positive Cross AUC\" for this group, it appears that this groups has more false positives, i.e. many non-toxic comments about homosexuals are scoring higher for toxicity than actually toxic comments about other topics."
      ]
    },
    {
      "metadata": {
        "id": "cyv6n0GxpCwb",
        "colab_type": "text"
      },
      "cell_type": "markdown",
      "source": [
        "# Plot histograms showing comment scores"
      ]
    },
    {
      "metadata": {
        "id": "AKm925FWX_Fd",
        "colab_type": "text"
      },
      "cell_type": "markdown",
      "source": [
        "We can graph a histogram of comment scores in each identity.  In the following graphs, the X axis represents the toxicity score given by our new model, and the Y axis represents the comment count.  Blue values are comment whose true label is non-toxic, while red values are those whose true label is toxic."
      ]
    },
    {
      "metadata": {
        "id": "iMSpM0U1YAN1",
        "colab_type": "code",
        "outputId": "53cee5b4-687e-4be4-ae51-922846a8b9c4",
        "colab": {
          "base_uri": "https://localhost:8080/",
          "height": 1923
        }
      },
      "cell_type": "code",
      "source": [
        "def plot_histogram(non_toxic_scores, toxic_scores, description):\n",
        "  NUM_BINS=10\n",
        "  sns.distplot(non_toxic_scores, norm_hist=True, bins=NUM_BINS, color=\"skyblue\", label='non-toxic ' + description, kde=False)\n",
        "  ax = sns.distplot(toxic_scores, norm_hist=True, bins=NUM_BINS, color=\"red\", label='toxic ' + description, kde=False)\n",
        "  ax.set(xlabel='model toxicity score', ylabel='relative % of comments', yticklabels=[])\n",
        "  plt.legend()\n",
        "  plt.figure()\n",
        "\n",
        "# Plot toxicity distributions of different identities to visualize bias.\n",
        "def plot_histogram_for_identity(df, identity):\n",
        "  toxic_scores = df.query(identity + ' == True & toxicity == True')[MODEL_NAME]\n",
        "  non_toxic_scores = df.query(identity + ' == True & toxicity == False')[MODEL_NAME]\n",
        "  plot_histogram(non_toxic_scores, toxic_scores, 'labeled for ' + identity)\n",
        "\n",
        "def plot_background_histogram(df):\n",
        "  toxic_scores = df.query('toxicity == True')[MODEL_NAME]\n",
        "  non_toxic_scores = df.query('toxicity == False')[MODEL_NAME]\n",
        "  plot_histogram(non_toxic_scores, toxic_scores, 'for all test data')\n",
        "\n",
        "# Plot the histogram for the background data, and for a few identities\n",
        "plot_background_histogram(test_df)\n",
        "plot_histogram_for_identity(test_df, 'heterosexual')\n",
        "plot_histogram_for_identity(test_df, 'transgender')\n",
        "plot_histogram_for_identity(test_df, 'homosexual_gay_or_lesbian')\n",
        "plot_histogram_for_identity(test_df, 'atheist')\n",
        "plot_histogram_for_identity(test_df, 'christian')\n",
        "plot_histogram_for_identity(test_df, 'asian')"
      ],
      "execution_count": 15,
      "outputs": [
        {
          "output_type": "stream",
          "text": [
            "/usr/local/lib/python3.6/dist-packages/matplotlib/axes/_axes.py:6521: MatplotlibDeprecationWarning: \n",
            "The 'normed' kwarg was deprecated in Matplotlib 2.1 and will be removed in 3.1. Use 'density' instead.\n",
            "  alternative=\"'density'\", removal=\"3.1\")\n"
          ],
          "name": "stderr"
        },
        {
          "output_type": "display_data",
          "data": {
            "image/png": "[encoded data removed]",
            "text/plain": [
              "<Figure size 432x288 with 1 Axes>"
            ]
          },
          "metadata": {
            "tags": []
          }
        },
        {
          "output_type": "display_data",
          "data": {
            "image/png": "[encoded data removed]",
            "text/plain": [
              "<Figure size 432x288 with 1 Axes>"
            ]
          },
          "metadata": {
            "tags": []
          }
        },
        {
          "output_type": "display_data",
          "data": {
            "image/png": "[encoded data removed]",
            "text/plain": [
              "<Figure size 432x288 with 1 Axes>"
            ]
          },
          "metadata": {
            "tags": []
          }
        },
        {
          "output_type": "display_data",
          "data": {
            "image/png": "[encoded data removed]",
            "text/plain": [
              "<Figure size 432x288 with 1 Axes>"
            ]
          },
          "metadata": {
            "tags": []
          }
        },
        {
          "output_type": "display_data",
          "data": {
            "image/png": "[encoded data removed]",
            "text/plain": [
              "<Figure size 432x288 with 1 Axes>"
            ]
          },
          "metadata": {
            "tags": []
          }
        },
        {
          "output_type": "display_data",
          "data": {
            "image/png": "[encoded data removed]",
            "text/plain": [
              "<Figure size 432x288 with 1 Axes>"
            ]
          },
          "metadata": {
            "tags": []
          }
        },
        {
          "output_type": "display_data",
          "data": {
            "image/png": "[encoded data removed]",
            "text/plain": [
              "<Figure size 432x288 with 1 Axes>"
            ]
          },
          "metadata": {
            "tags": []
          }
        },
        {
          "output_type": "display_data",
          "data": {
            "text/plain": [
              "<Figure size 432x288 with 0 Axes>"
            ]
          },
          "metadata": {
            "tags": []
          }
        }
      ]
    },
    {
      "metadata": {
        "id": "fWa4WeQ61-TW",
        "colab_type": "text"
      },
      "cell_type": "markdown",
      "source": [
        "# Execise 3\n",
        "\n",
        "By comparing the toxicity histograms for comments that refer to different groups with each other, and with the background distribution, what additional information can we learn about bias in our model?"
      ]
    },
    {
      "metadata": {
        "id": "odq8KSh43i3i",
        "colab_type": "code",
        "colab": {}
      },
      "cell_type": "code",
      "source": [
        "# Your code here\n",
        "#\n",
        "# HINT: you can display the background distribution by running:\n",
        "#   plot_background_histogram(test_df)\n",
        "#\n",
        "# You can plot the distribution for a given identity by running\n",
        "#   plot_histogram_for_identity(test_df, identity_name)\n",
        "#   e.g. plot_histogram_for_identity(test_df, 'male')"
      ],
      "execution_count": 0,
      "outputs": []
    },
    {
      "metadata": {
        "id": "XWDNrP0tX09f",
        "colab_type": "text"
      },
      "cell_type": "markdown",
      "source": [
        "## Solution (click to expand)"
      ]
    },
    {
      "metadata": {
        "id": "-ghDtgLdX5XR",
        "colab_type": "text"
      },
      "cell_type": "markdown",
      "source": [
        "This is one possible interpretation of the data.  We encourage you to explore other identity categories and come up with your own conclusions.\n",
        "\n",
        "We can see that for some identities such as Asian, the model scores most non-toxic comments as less than 0.2 and most toxic comments as greater than 0.2.  This indicates that for the Asian identity, our model is able to distinguish between toxic and non-toxic comments.  However, for the black identity, there are many non-toxic comments with scores over 0.5, along with many toxic comments with scores of less than 0.5.  This shows that for the black identity, our model will be less accurate at separating toxic comments from non-toxic comments.  We can see that the model also has difficulty separating toxic from non-toxic data for comments labeled as applying to the \"white\" identity."
      ]
    },
    {
      "metadata": {
        "id": "zt9oMk6LOxC8",
        "colab_type": "code",
        "outputId": "3e143127-8141-4e95-d93a-c43cac1d554a",
        "colab": {
          "base_uri": "https://localhost:8080/",
          "height": 895
        }
      },
      "cell_type": "code",
      "source": [
        "plot_histogram_for_identity(test_df, 'asian')\n",
        "plot_histogram_for_identity(test_df, 'black')\n",
        "plot_histogram_for_identity(test_df, 'white')"
      ],
      "execution_count": 17,
      "outputs": [
        {
          "output_type": "stream",
          "text": [
            "/usr/local/lib/python3.6/dist-packages/matplotlib/axes/_axes.py:6521: MatplotlibDeprecationWarning: \n",
            "The 'normed' kwarg was deprecated in Matplotlib 2.1 and will be removed in 3.1. Use 'density' instead.\n",
            "  alternative=\"'density'\", removal=\"3.1\")\n"
          ],
          "name": "stderr"
        },
        {
          "output_type": "display_data",
          "data": {
            "image/png": "[encoded data removed]",
            "text/plain": [
              "<Figure size 432x288 with 1 Axes>"
            ]
          },
          "metadata": {
            "tags": []
          }
        },
        {
          "output_type": "display_data",
          "data": {
            "image/png": "[encoded data removed]",
            "text/plain": [
              "<Figure size 432x288 with 1 Axes>"
            ]
          },
          "metadata": {
            "tags": []
          }
        },
        {
          "output_type": "display_data",
          "data": {
            "image/png": "[encoded data removed]",
            "text/plain": [
              "<Figure size 432x288 with 1 Axes>"
            ]
          },
          "metadata": {
            "tags": []
          }
        },
        {
          "output_type": "display_data",
          "data": {
            "text/plain": [
              "<Figure size 432x288 with 0 Axes>"
            ]
          },
          "metadata": {
            "tags": []
          }
        }
      ]
    },
    {
      "metadata": {
        "id": "6DndQDHZY0Gg",
        "colab_type": "text"
      },
      "cell_type": "markdown",
      "source": [
        "# Additional topics to explore\n",
        "* How does toxicity and bias change if we restrict the dataset to long or short comments?\n",
        "* What patterns exist for comments containing multiple identities?  Do some identities often appear together?  Are these comments more likely to be toxic?  Is our model more or less biased against these comments?\n",
        "* What biases exist when classifying the other \"toxicity subtypes\" (obscene, sexual_explicit, identity_attack, insult, and threat)?\n",
        "* Are there other ways we might be able to mitigate bias?\n"
      ]
    },
    {
      "metadata": {
        "id": "2aZwZNqRZP5l",
        "colab_type": "text"
      },
      "cell_type": "markdown",
      "source": [
        "# Experimental code, TODO: remove before tutorial"
      ]
    },
    {
      "metadata": {
        "id": "h0xkzngYZVot",
        "colab_type": "code",
        "colab": {}
      },
      "cell_type": "code",
      "source": [
        "train_df['comment_text_len'] = train_df['comment_text'].apply(lambda x: len(x))"
      ],
      "execution_count": 0,
      "outputs": []
    },
    {
      "metadata": {
        "id": "Lo_tnnmSaiXY",
        "colab_type": "code",
        "colab": {}
      },
      "cell_type": "code",
      "source": [
        "SHORT_CUTOFF = 140\n",
        "SHORT_TOXICITY_LABEL = '%% toxicity, <= %d characters' % SHORT_CUTOFF\n",
        "LONG_TOXICITY_LABEL = '%% toxicity, > %d characters' % SHORT_CUTOFF\n",
        "short_df = train_df.query('comment_text_len <= %d' % SHORT_CUTOFF)\n",
        "long_df = train_df.query('comment_text_len > %d' % SHORT_CUTOFF)"
      ],
      "execution_count": 0,
      "outputs": []
    },
    {
      "metadata": {
        "id": "mUbPOoolbAt0",
        "colab_type": "code",
        "outputId": "014634c5-cc3a-4660-ddce-b7b5dbf5bbd9",
        "colab": {
          "base_uri": "https://localhost:8080/",
          "height": 272
        }
      },
      "cell_type": "code",
      "source": [
        "data = []\n",
        "for identity in identities_with_over_100_records:\n",
        "  short_identity = short_df.query('%s == True' % identity)\n",
        "  percent_toxic_short = 100 * len(short_identity.query('toxicity == True')) / len(short_identity)\n",
        "  long_identity = long_df.query('%s == True' % identity)\n",
        "  percent_toxic_long = 100 * len(long_identity.query('toxicity == True')) / len(long_identity)\n",
        "  print('%s, short %f, long %f' % (identity, percent_toxic_short, percent_toxic_long))\n",
        "  data.append({'identity': identity, SHORT_TOXICITY_LABEL: percent_toxic_short, LONG_TOXICITY_LABEL: percent_toxic_long})\n",
        "length_analysis_df = pd.DataFrame(data)"
      ],
      "execution_count": 20,
      "outputs": [
        {
          "output_type": "stream",
          "text": [
            "male, short 16.362039, long 15.067144\n",
            "female, short 16.845389, long 13.283310\n",
            "transgender, short 35.826772, long 19.513842\n",
            "heterosexual, short 21.428571, long 22.906404\n",
            "homosexual_gay_or_lesbian, short 46.016771, long 25.883763\n",
            "christian, short 12.176871, long 8.881167\n",
            "jewish, short 24.349442, long 15.217849\n",
            "muslim, short 30.486078, long 21.407809\n",
            "atheist, short 10.400000, long 13.769752\n",
            "black, short 49.511855, long 28.381681\n",
            "white, short 36.871123, long 26.191717\n",
            "asian, short 13.284133, long 12.136445\n",
            "latino, short 23.618090, long 18.444266\n",
            "psychiatric_or_mental_illness, short 42.404007, long 16.730702\n"
          ],
          "name": "stdout"
        }
      ]
    },
    {
      "metadata": {
        "id": "RbOD5QCHcbx-",
        "colab_type": "code",
        "colab": {}
      },
      "cell_type": "code",
      "source": [
        "length_analysis_df = length_analysis_df.sort_values('identity')"
      ],
      "execution_count": 0,
      "outputs": []
    },
    {
      "metadata": {
        "id": "x6JaqclccmX3",
        "colab_type": "code",
        "outputId": "7612178c-4f20-4122-d40d-021fcf6af8ff",
        "colab": {
          "base_uri": "https://localhost:8080/",
          "height": 565
        }
      },
      "cell_type": "code",
      "source": [
        "def plot_length_analysis_heatmap(df):\n",
        "  metrics_list = [SHORT_TOXICITY_LABEL, LONG_TOXICITY_LABEL]\n",
        "  df = df.set_index('identity')\n",
        "  columns = []\n",
        "  vlines = [i for i in range(len(metrics_list))]\n",
        "  for metric in metrics_list:\n",
        "    columns.append(metric)\n",
        "  num_rows = len(df)\n",
        "  num_columns = len(columns)\n",
        "  fig = plt.figure(figsize=(num_columns, 0.5 * num_rows))\n",
        "  ax = sns.heatmap(df[columns], annot=True, fmt='.1f', cbar=True, cmap='Reds',\n",
        "                   vmin=0, vmax=100)\n",
        "  ax.xaxis.tick_top()\n",
        "  plt.xticks(rotation=90)\n",
        "  ax.vlines(vlines, *ax.get_ylim())\n",
        "  return ax\n",
        "\n",
        "plot_length_analysis_heatmap(length_analysis_df)"
      ],
      "execution_count": 22,
      "outputs": [
        {
          "output_type": "execute_result",
          "data": {
            "text/plain": [
              "<matplotlib.axes._subplots.AxesSubplot at 0x7f743bcb5898>"
            ]
          },
          "metadata": {
            "tags": []
          },
          "execution_count": 22
        },
        {
          "output_type": "display_data",
          "data": {
            "image/png": "[encoded data removed]",
            "text/plain": [
              "<Figure size 144x504 with 2 Axes>"
            ]
          },
          "metadata": {
            "tags": []
          }
        }
      ]
    },
    {
      "metadata": {
        "id": "5rGvWrNUxllm",
        "colab_type": "code",
        "outputId": "d4c6d481-1ebc-489b-9d59-e2c44f31200f",
        "colab": {
          "base_uri": "https://localhost:8080/",
          "height": 348
        }
      },
      "cell_type": "code",
      "source": [
        "train_df[['toxicity', 'heterosexual', 'comment_text']].query('heterosexual == True').head(10)"
      ],
      "execution_count": 23,
      "outputs": [
        {
          "output_type": "execute_result",
          "data": {
            "text/html": [
              "<div>\n",
              "<style scoped>\n",
              "    .dataframe tbody tr th:only-of-type {\n",
              "        vertical-align: middle;\n",
              "    }\n",
              "\n",
              "    .dataframe tbody tr th {\n",
              "        vertical-align: top;\n",
              "    }\n",
              "\n",
              "    .dataframe thead th {\n",
              "        text-align: right;\n",
              "    }\n",
              "</style>\n",
              "<table border=\"1\" class=\"dataframe\">\n",
              "  <thead>\n",
              "    <tr style=\"text-align: right;\">\n",
              "      <th></th>\n",
              "      <th>toxicity</th>\n",
              "      <th>heterosexual</th>\n",
              "      <th>comment_text</th>\n",
              "    </tr>\n",
              "  </thead>\n",
              "  <tbody>\n",
              "    <tr>\n",
              "      <th>5149</th>\n",
              "      <td>True</td>\n",
              "      <td>True</td>\n",
              "      <td>It's amazing that the women who voted for the pussy-grabber in chief - a heterosexual man who bragged about barging unannounced into teenage girls dressing rooms - and other sexual predations, to lead our country, are stupid enough to think anyone believes they're concerned about the privacy of ...</td>\n",
              "    </tr>\n",
              "    <tr>\n",
              "      <th>5172</th>\n",
              "      <td>False</td>\n",
              "      <td>True</td>\n",
              "      <td>Transgender soldiers can kill just as efficiently as straight soldiers.</td>\n",
              "    </tr>\n",
              "    <tr>\n",
              "      <th>6272</th>\n",
              "      <td>False</td>\n",
              "      <td>True</td>\n",
              "      <td>never ceases to amaze me that abnormal sex is celebrated so much in our society... and if you do not celebrate this abnormal sex, there is something wrong with YOU. Shows just how screwed up priorities in society are....  unless of course, the argument is that non heterosexual people are another...</td>\n",
              "    </tr>\n",
              "    <tr>\n",
              "      <th>6325</th>\n",
              "      <td>True</td>\n",
              "      <td>True</td>\n",
              "      <td>I can already name the homophobic commenters who will quickly make the leap from this one [alleged] rapist to all gay men, as though they would similarly indict all straight men because some men rape women.</td>\n",
              "    </tr>\n",
              "    <tr>\n",
              "      <th>6535</th>\n",
              "      <td>False</td>\n",
              "      <td>True</td>\n",
              "      <td>Many times better than they do straight men in general.  They know we aren't going to molest or rape them.</td>\n",
              "    </tr>\n",
              "    <tr>\n",
              "      <th>6571</th>\n",
              "      <td>True</td>\n",
              "      <td>True</td>\n",
              "      <td>Straight* Learn how to spell, and bullshit. No one hates straight people. Only those who are close minded and self centered religious bigots that have nothing better to do then make a big deal out of someone for not being christian or for being LGBT.</td>\n",
              "    </tr>\n",
              "    <tr>\n",
              "      <th>6620</th>\n",
              "      <td>True</td>\n",
              "      <td>True</td>\n",
              "      <td>If wonder if this means feminists will be going back and disowning things like Valerie Solanas' S.C.U.M. Manifiesto. S.C.U.M.? Society for Cutting Up Men. And statements likening all heterosexual sex to rape? Andrea Dworkin, Catharine MacKinnon and their activist sisters all to be disowned now?</td>\n",
              "    </tr>\n",
              "    <tr>\n",
              "      <th>6668</th>\n",
              "      <td>True</td>\n",
              "      <td>True</td>\n",
              "      <td>Heterosexuals do not have sex with juvenile males.\\n\\nGay pedophiles do.</td>\n",
              "    </tr>\n",
              "    <tr>\n",
              "      <th>6742</th>\n",
              "      <td>True</td>\n",
              "      <td>True</td>\n",
              "      <td>Victimhood is pathetic and your whining is sad, especially as a straight white man. White men still have the world on a silver platter, I should know, I am one too.</td>\n",
              "    </tr>\n",
              "    <tr>\n",
              "      <th>19600</th>\n",
              "      <td>True</td>\n",
              "      <td>True</td>\n",
              "      <td>Gay folk don't define themselves by sexual acts any more than heterosexuals to. It is the sodomy-obsessed gay-haters who try to impose such a definition.</td>\n",
              "    </tr>\n",
              "  </tbody>\n",
              "</table>\n",
              "</div>"
            ],
            "text/plain": [
              "       toxicity  heterosexual  \\\n",
              "5149       True          True   \n",
              "5172      False          True   \n",
              "6272      False          True   \n",
              "6325       True          True   \n",
              "6535      False          True   \n",
              "6571       True          True   \n",
              "6620       True          True   \n",
              "6668       True          True   \n",
              "6742       True          True   \n",
              "19600      True          True   \n",
              "\n",
              "                                                                                                                                                                                                                                                                                                      comment_text  \n",
              "5149   It's amazing that the women who voted for the pussy-grabber in chief - a heterosexual man who bragged about barging unannounced into teenage girls dressing rooms - and other sexual predations, to lead our country, are stupid enough to think anyone believes they're concerned about the privacy of ...  \n",
              "5172                                                                                                                                                                                                                                       Transgender soldiers can kill just as efficiently as straight soldiers.  \n",
              "6272   never ceases to amaze me that abnormal sex is celebrated so much in our society... and if you do not celebrate this abnormal sex, there is something wrong with YOU. Shows just how screwed up priorities in society are....  unless of course, the argument is that non heterosexual people are another...  \n",
              "6325                                                                                                I can already name the homophobic commenters who will quickly make the leap from this one [alleged] rapist to all gay men, as though they would similarly indict all straight men because some men rape women.  \n",
              "6535                                                                                                                                                                                                    Many times better than they do straight men in general.  They know we aren't going to molest or rape them.  \n",
              "6571                                                    Straight* Learn how to spell, and bullshit. No one hates straight people. Only those who are close minded and self centered religious bigots that have nothing better to do then make a big deal out of someone for not being christian or for being LGBT.  \n",
              "6620       If wonder if this means feminists will be going back and disowning things like Valerie Solanas' S.C.U.M. Manifiesto. S.C.U.M.? Society for Cutting Up Men. And statements likening all heterosexual sex to rape? Andrea Dworkin, Catharine MacKinnon and their activist sisters all to be disowned now?  \n",
              "6668                                                                                                                                                                                                                                      Heterosexuals do not have sex with juvenile males.\\n\\nGay pedophiles do.  \n",
              "6742                                                                                                                                          Victimhood is pathetic and your whining is sad, especially as a straight white man. White men still have the world on a silver platter, I should know, I am one too.  \n",
              "19600                                                                                                                                                    Gay folk don't define themselves by sexual acts any more than heterosexuals to. It is the sodomy-obsessed gay-haters who try to impose such a definition.  "
            ]
          },
          "metadata": {
            "tags": []
          },
          "execution_count": 23
        }
      ]
    }
  ]
}