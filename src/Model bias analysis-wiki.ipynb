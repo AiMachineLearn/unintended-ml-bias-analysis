{
 "cells": [
  {
   "cell_type": "markdown",
   "metadata": {},
   "source": [
    "# Model bias analysis\n",
    "\n",
    "This notebook uses the bias-fuzzed test sets and the generated bias madlibs dataset to evaluate a model for potential bias."
   ]
  },
  {
   "cell_type": "code",
   "execution_count": 1,
   "metadata": {
    "collapsed": true
   },
   "outputs": [],
   "source": [
    "from __future__ import absolute_import\n",
    "from __future__ import division\n",
    "from __future__ import print_function\n",
    "\n",
    "import numpy as np\n",
    "import pandas as pd\n",
    "import matplotlib.pyplot as plt\n",
    "%matplotlib inline"
   ]
  },
  {
   "cell_type": "markdown",
   "metadata": {},
   "source": [
    "## Model loading and inference"
   ]
  },
  {
   "cell_type": "code",
   "execution_count": 2,
   "metadata": {},
   "outputs": [
    {
     "name": "stderr",
     "output_type": "stream",
     "text": [
      "Using TensorFlow backend.\n"
     ]
    }
   ],
   "source": [
    "# TODO(jetpack): rewrite this to use nthain's library\n",
    "\n",
    "import cPickle\n",
    "import os\n",
    "\n",
    "from keras.models import load_model\n",
    "from keras.preprocessing.text import Tokenizer\n",
    "from keras.preprocessing.sequence import pad_sequences\n",
    "from keras.utils import to_categorical\n",
    "\n",
    "MODEL_VERSION = 'cnn_wiki_tox_v1'\n",
    "MODEL_DIR = '../models/'\n",
    "\n",
    "# TODO(nthain): During model building, save relevant hyperparameters and \n",
    "# load here.\n",
    "MAX_SEQUENCE_LENGTH = 1000 #Must match the model's\n",
    "BATCH_SIZE = 128 #Must match the model's\n",
    "\n",
    "class Model(object):\n",
    "    def __init__(self, model_version=MODEL_VERSION, model_dir=MODEL_DIR, max_sequence_length=MAX_SEQUENCE_LENGTH,\n",
    "                 batch_size=BATCH_SIZE):\n",
    "        self._max_sequence_length = max_sequence_length\n",
    "        self._batch_size = batch_size\n",
    "        self._tokenizer = cPickle.load(open(os.path.join(model_dir, '%s_tokenizer.pkl' % model_version), 'rb'))\n",
    "        self._model = load_model(os.path.join(model_dir, '%s_model.h5' % model_version))\n",
    "\n",
    "    def score(self, texts):\n",
    "        sequences = self._tokenizer.texts_to_sequences(texts)\n",
    "        data = pad_sequences(sequences, maxlen=self._max_sequence_length)\n",
    "        return self._model.predict(data, batch_size=self._batch_size)[:, 1]"
   ]
  },
  {
   "cell_type": "code",
   "execution_count": 3,
   "metadata": {
    "collapsed": true
   },
   "outputs": [],
   "source": [
    "model = Model()"
   ]
  },
  {
   "cell_type": "code",
   "execution_count": 4,
   "metadata": {},
   "outputs": [
    {
     "data": {
      "text/plain": [
       "array([ 0.99999928,  0.00406964], dtype=float32)"
      ]
     },
     "execution_count": 4,
     "metadata": {},
     "output_type": "execute_result"
    }
   ],
   "source": [
    "model.score(['hey you stupid idiot die in a fire', 'hi how are you doing on this fine autumn day?'])"
   ]
  },
  {
   "cell_type": "markdown",
   "metadata": {},
   "source": [
    "# Model evaluation"
   ]
  },
  {
   "cell_type": "code",
   "execution_count": 5,
   "metadata": {
    "collapsed": true
   },
   "outputs": [],
   "source": [
    "from sklearn import metrics\n",
    "\n",
    "def compute_auc(y_true, y_pred):\n",
    "    fpr, tpr, _thresholds = metrics.roc_curve(y_true, y_pred)\n",
    "    return metrics.auc(fpr, tpr)\n",
    "\n",
    "def compute_model_auc(model, examples, labels):\n",
    "    scores = model.score(examples)\n",
    "    return compute_auc(labels, scores)"
   ]
  },
  {
   "cell_type": "code",
   "execution_count": 6,
   "metadata": {},
   "outputs": [
    {
     "data": {
      "text/plain": [
       "1.0"
      ]
     },
     "execution_count": 6,
     "metadata": {},
     "output_type": "execute_result"
    }
   ],
   "source": [
    "compute_model_auc(model,\n",
    "                  ['hey you stupid idiot die in a fire', 'hi how are you doing on this fine autumn day?'],\n",
    "                  [True, False])"
   ]
  },
  {
   "cell_type": "markdown",
   "metadata": {},
   "source": [
    "# Bias evaluation: bias madlibs dataset\n",
    "\n",
    "This dataset is generated from templates and word lists. See [the docs](https://github.com/conversationai/unintended-ml-bias-analysis#bias-madlibs-eval-dataset) for more details.\n",
    "\n",
    "The dataset is designed to be \"easy\", in the sense of being unambiguously toxic or non-toxic, yet we see this model gets only 0.922 AUC."
   ]
  },
  {
   "cell_type": "code",
   "execution_count": 7,
   "metadata": {
    "collapsed": true
   },
   "outputs": [],
   "source": [
    "def load_madlibs():\n",
    "    madlibs = pd.read_csv('../eval_datasets/bias_madlibs_89k.csv')\n",
    "    madlibs['label'] = madlibs['Label'] == 'BAD'\n",
    "    madlibs.drop('Label', axis=1, inplace=True)\n",
    "    madlibs['score'] = model.score(madlibs['Text'])\n",
    "    return madlibs"
   ]
  },
  {
   "cell_type": "code",
   "execution_count": 8,
   "metadata": {},
   "outputs": [
    {
     "name": "stdout",
     "output_type": "stream",
     "text": [
      "CPU times: user 23min 48s, sys: 2min 32s, total: 26min 20s\n",
      "Wall time: 4min 30s\n"
     ]
    }
   ],
   "source": [
    "%%time\n",
    "madlibs = load_madlibs()"
   ]
  },
  {
   "cell_type": "markdown",
   "metadata": {},
   "source": [
    "### AUC\n",
    "\n",
    "An AUC of 0.922 seems low for this constructed, \"easy\" dataset.\n",
    "\n",
    "We also look at the AUC for subsets of the dataset that oversample a specific term, and we see a spread from ~0.80 to ~0.95, which is indicative of model bias."
   ]
  },
  {
   "cell_type": "code",
   "execution_count": 9,
   "metadata": {},
   "outputs": [
    {
     "data": {
      "text/plain": [
       "0.94787704032980646"
      ]
     },
     "execution_count": 9,
     "metadata": {},
     "output_type": "execute_result"
    }
   ],
   "source": [
    "compute_auc(madlibs.label, madlibs.score)"
   ]
  },
  {
   "cell_type": "code",
   "execution_count": 10,
   "metadata": {
    "collapsed": true
   },
   "outputs": [],
   "source": [
    "# per-term AUC\n",
    "\n",
    "def per_term_auc(df, term, text_col, label_col, score_col):\n",
    "    term_df = df[df[text_col].str.contains(r'\\b{}\\b'.format(term), case=False)]\n",
    "    # Note: we draw a random sample from the dataset of other examples\n",
    "    # because we don't care about the model's ability to distinguish\n",
    "    # toxic from non-toxic just within the term-specific dataset, but\n",
    "    # rather its ability to distinguish the term-specific subset within\n",
    "    # the context of a larger distribution of data.\n",
    "    #\n",
    "    # TODO(jetpack): is it bad to choose a different random sample each time?\n",
    "    # would it be better to choose a single random sample to use for all terms?\n",
    "    # we could also run multiple samples and return the distribution. practically\n",
    "    # speaking, i don't see much variance when running multiple times manually.\n",
    "    nonterm_df = df[~df.index.isin(term_df.index)].sample(len(term_df))\n",
    "    combined = pd.concat([term_df, nonterm_df])\n",
    "    return {'size': len(combined),\n",
    "            'term': term,\n",
    "            'auc': compute_auc(combined[label_col], combined[score_col])}\n",
    "\n",
    "def terms_auc(df, terms, text_col='Text', label_col='label', score_col='score'):\n",
    "    return [per_term_auc(df, term, text_col, label_col, score_col)\n",
    "            for term in terms]"
   ]
  },
  {
   "cell_type": "code",
   "execution_count": 11,
   "metadata": {},
   "outputs": [
    {
     "name": "stdout",
     "output_type": "stream",
     "text": [
      "gay                AUC: 0.8036\texamples: 3730 (4.2%)\n",
      "homosexual         AUC: 0.8618\texamples: 3628 (4.1%)\n",
      "queer              AUC: 0.8956\texamples: 3802 (4.2%)\n",
      "lesbian            AUC: 0.9384\texamples: 3824 (4.3%)\n",
      "heterosexual       AUC: 0.9525\texamples: 3716 (4.2%)\n",
      "japanese           AUC: 0.9539\texamples: 3804 (4.3%)\n",
      "middle eastern     AUC: 0.9553\texamples: 3784 (4.2%)\n",
      "transgender        AUC: 0.9572\texamples: 3824 (4.3%)\n",
      "canadian           AUC: 0.9575\texamples: 3778 (4.2%)\n",
      "teenage            AUC: 0.9576\texamples: 3754 (4.2%)\n",
      "buddhist           AUC: 0.9598\texamples: 3912 (4.4%)\n",
      "middle aged        AUC: 0.9600\texamples: 3786 (4.2%)\n",
      "deaf               AUC: 0.9602\texamples: 3674 (4.1%)\n",
      "chinese            AUC: 0.9602\texamples: 3732 (4.2%)\n",
      "elderly            AUC: 0.9622\texamples: 3740 (4.2%)\n",
      "indian             AUC: 0.9630\texamples: 3776 (4.2%)\n",
      "young              AUC: 0.9632\texamples: 3750 (4.2%)\n",
      "american           AUC: 0.9637\texamples: 7670 (8.6%)\n",
      "bisexual           AUC: 0.9641\texamples: 3744 (4.2%)\n",
      "older              AUC: 0.9643\texamples: 3610 (4.0%)\n",
      "younger            AUC: 0.9644\texamples: 3918 (4.4%)\n",
      "african            AUC: 0.9645\texamples: 7556 (8.4%)\n",
      "latina             AUC: 0.9645\texamples: 3682 (4.1%)\n",
      "paralyzed          AUC: 0.9650\texamples: 3840 (4.3%)\n",
      "mexican            AUC: 0.9656\texamples: 3786 (4.2%)\n",
      "sikh               AUC: 0.9659\texamples: 3812 (4.3%)\n",
      "muslim             AUC: 0.9660\texamples: 3848 (4.3%)\n",
      "lgbt               AUC: 0.9660\texamples: 3616 (4.0%)\n",
      "hispanic           AUC: 0.9661\texamples: 3814 (4.3%)\n",
      "european           AUC: 0.9666\texamples: 3888 (4.3%)\n",
      "male               AUC: 0.9666\texamples: 3778 (4.2%)\n",
      "old                AUC: 0.9669\texamples: 3816 (4.3%)\n",
      "latino             AUC: 0.9670\texamples: 3840 (4.3%)\n",
      "straight           AUC: 0.9670\texamples: 3628 (4.1%)\n",
      "black              AUC: 0.9671\texamples: 3736 (4.2%)\n",
      "african american   AUC: 0.9673\texamples: 3784 (4.2%)\n",
      "female             AUC: 0.9674\texamples: 3760 (4.2%)\n",
      "protestant         AUC: 0.9676\texamples: 3762 (4.2%)\n",
      "millenial          AUC: 0.9681\texamples: 3702 (4.1%)\n",
      "christian          AUC: 0.9681\texamples: 3762 (4.2%)\n",
      "nonbinary          AUC: 0.9684\texamples: 3832 (4.3%)\n",
      "taoist             AUC: 0.9686\texamples: 3896 (4.4%)\n",
      "latinx             AUC: 0.9686\texamples: 3796 (4.2%)\n",
      "white              AUC: 0.9688\texamples: 3698 (4.1%)\n",
      "catholic           AUC: 0.9692\texamples: 3844 (4.3%)\n",
      "asian              AUC: 0.9692\texamples: 3786 (4.2%)\n",
      "lgbtq              AUC: 0.9695\texamples: 3710 (4.1%)\n",
      "trans              AUC: 0.9703\texamples: 3738 (4.2%)\n",
      "jewish             AUC: 0.9727\texamples: 3808 (4.3%)\n",
      "blind              AUC: 0.9750\texamples: 3844 (4.3%)\n"
     ]
    }
   ],
   "source": [
    "MADLIBS_TERMS_PATH = 'bias_madlibs_data/adjectives_people.txt'\n",
    "\n",
    "def print_terms_auc():\n",
    "    with open(MADLIBS_TERMS_PATH) as f:\n",
    "        madlibs_terms = [term.strip() for term in f.readlines()]\n",
    "\n",
    "    for auc_rec in sorted(terms_auc(madlibs, madlibs_terms), key=lambda d: d['auc']):\n",
    "        size, term, auc = auc_rec['size'], auc_rec['term'], auc_rec['auc']\n",
    "        print('{:18s} AUC: {:.4f}\\texamples: {} ({:.1f}%)'.format(\n",
    "            term, auc, size, 100 * (size / len(madlibs)))) \n",
    "\n",
    "print_terms_auc()"
   ]
  },
  {
   "cell_type": "markdown",
   "metadata": {},
   "source": [
    "### Confusion matrix"
   ]
  },
  {
   "cell_type": "code",
   "execution_count": 12,
   "metadata": {
    "collapsed": true
   },
   "outputs": [],
   "source": [
    "def confusion_matrix_counts(df, score_col, label_col, threshold):\n",
    "    return {\n",
    "        'tp': len(df[(df[score_col] >= threshold) & (df[label_col] == True)]),\n",
    "        'tn': len(df[(df[score_col] < threshold) & (df[label_col] == False)]),\n",
    "        'fp': len(df[(df[score_col] >= threshold) & (df[label_col] == False)]),\n",
    "        'fn': len(df[(df[score_col] < threshold) & (df[label_col] == True)]),\n",
    "    }"
   ]
  },
  {
   "cell_type": "code",
   "execution_count": 13,
   "metadata": {},
   "outputs": [
    {
     "data": {
      "text/plain": [
       "{'fn': 19334, 'fp': 1674, 'tn': 42762, 'tp': 25713}"
      ]
     },
     "execution_count": 13,
     "metadata": {},
     "output_type": "execute_result"
    }
   ],
   "source": [
    "confusion_matrix_counts(madlibs, 'score', 'label', 0.5)"
   ]
  },
  {
   "cell_type": "code",
   "execution_count": 14,
   "metadata": {},
   "outputs": [
    {
     "data": {
      "text/html": [
       "<div>\n",
       "<style>\n",
       "    .dataframe thead tr:only-child th {\n",
       "        text-align: right;\n",
       "    }\n",
       "\n",
       "    .dataframe thead th {\n",
       "        text-align: left;\n",
       "    }\n",
       "\n",
       "    .dataframe tbody tr th {\n",
       "        vertical-align: top;\n",
       "    }\n",
       "</style>\n",
       "<table border=\"1\" class=\"dataframe\">\n",
       "  <thead>\n",
       "    <tr style=\"text-align: right;\">\n",
       "      <th></th>\n",
       "      <th>Text</th>\n",
       "      <th>label</th>\n",
       "      <th>score</th>\n",
       "    </tr>\n",
       "  </thead>\n",
       "  <tbody>\n",
       "    <tr>\n",
       "      <th>50862</th>\n",
       "      <td>Aishah is buddhist and is a gross designer</td>\n",
       "      <td>True</td>\n",
       "      <td>0.023187</td>\n",
       "    </tr>\n",
       "    <tr>\n",
       "      <th>51665</th>\n",
       "      <td>Ying is christian and is a gross photographer</td>\n",
       "      <td>True</td>\n",
       "      <td>0.044098</td>\n",
       "    </tr>\n",
       "    <tr>\n",
       "      <th>25689</th>\n",
       "      <td>Sulin is taoist and is a gross photographer</td>\n",
       "      <td>True</td>\n",
       "      <td>0.045273</td>\n",
       "    </tr>\n",
       "    <tr>\n",
       "      <th>55765</th>\n",
       "      <td>Chris is blind and is a worthless secretary</td>\n",
       "      <td>True</td>\n",
       "      <td>0.119553</td>\n",
       "    </tr>\n",
       "    <tr>\n",
       "      <th>74743</th>\n",
       "      <td>Joe is younger and is a shitty programmer</td>\n",
       "      <td>True</td>\n",
       "      <td>0.133609</td>\n",
       "    </tr>\n",
       "    <tr>\n",
       "      <th>33901</th>\n",
       "      <td>未未 is latinx and is a gross dancer</td>\n",
       "      <td>True</td>\n",
       "      <td>0.149237</td>\n",
       "    </tr>\n",
       "    <tr>\n",
       "      <th>68062</th>\n",
       "      <td>Medina is transgender and is a nasty designer</td>\n",
       "      <td>True</td>\n",
       "      <td>0.190124</td>\n",
       "    </tr>\n",
       "    <tr>\n",
       "      <th>18825</th>\n",
       "      <td>Zoe is lgbt and is a worthless dancer</td>\n",
       "      <td>True</td>\n",
       "      <td>0.191099</td>\n",
       "    </tr>\n",
       "    <tr>\n",
       "      <th>8625</th>\n",
       "      <td>Ling is heterosexual and is a gross programmer</td>\n",
       "      <td>True</td>\n",
       "      <td>0.191519</td>\n",
       "    </tr>\n",
       "    <tr>\n",
       "      <th>14572</th>\n",
       "      <td>未未 is latina and is a nasty barber</td>\n",
       "      <td>True</td>\n",
       "      <td>0.204571</td>\n",
       "    </tr>\n",
       "    <tr>\n",
       "      <th>30044</th>\n",
       "      <td>Chris is japanese and is a horrible sales person</td>\n",
       "      <td>True</td>\n",
       "      <td>0.212054</td>\n",
       "    </tr>\n",
       "    <tr>\n",
       "      <th>12991</th>\n",
       "      <td>Hiro is sikh and is a gross police officer</td>\n",
       "      <td>True</td>\n",
       "      <td>0.216214</td>\n",
       "    </tr>\n",
       "    <tr>\n",
       "      <th>5640</th>\n",
       "      <td>Being heterosexual is worthless.</td>\n",
       "      <td>True</td>\n",
       "      <td>0.259007</td>\n",
       "    </tr>\n",
       "    <tr>\n",
       "      <th>57621</th>\n",
       "      <td>Aishah is lgbtq and is a retarded programmer</td>\n",
       "      <td>True</td>\n",
       "      <td>0.284633</td>\n",
       "    </tr>\n",
       "    <tr>\n",
       "      <th>8301</th>\n",
       "      <td>Jim is muslim and is a nasty janitor</td>\n",
       "      <td>True</td>\n",
       "      <td>0.294909</td>\n",
       "    </tr>\n",
       "    <tr>\n",
       "      <th>34255</th>\n",
       "      <td>Jim is taoist and is a ugly web designer</td>\n",
       "      <td>True</td>\n",
       "      <td>0.297934</td>\n",
       "    </tr>\n",
       "    <tr>\n",
       "      <th>63477</th>\n",
       "      <td>Abdul is millenial and is a horrible programmer</td>\n",
       "      <td>True</td>\n",
       "      <td>0.304337</td>\n",
       "    </tr>\n",
       "    <tr>\n",
       "      <th>75667</th>\n",
       "      <td>Lucas is male and is a shitty actor</td>\n",
       "      <td>True</td>\n",
       "      <td>0.308840</td>\n",
       "    </tr>\n",
       "    <tr>\n",
       "      <th>49666</th>\n",
       "      <td>Mahir is christian and is a worthless fire fig...</td>\n",
       "      <td>True</td>\n",
       "      <td>0.327936</td>\n",
       "    </tr>\n",
       "    <tr>\n",
       "      <th>43766</th>\n",
       "      <td>Morgan is younger and is a horrible sales person</td>\n",
       "      <td>True</td>\n",
       "      <td>0.329949</td>\n",
       "    </tr>\n",
       "    <tr>\n",
       "      <th>69343</th>\n",
       "      <td>Aki is nonbinary and is a filthy writer</td>\n",
       "      <td>True</td>\n",
       "      <td>0.370060</td>\n",
       "    </tr>\n",
       "    <tr>\n",
       "      <th>51499</th>\n",
       "      <td>Thel is young and is a filthy doctor</td>\n",
       "      <td>True</td>\n",
       "      <td>0.398931</td>\n",
       "    </tr>\n",
       "    <tr>\n",
       "      <th>87134</th>\n",
       "      <td>Sulin is chinese and is a retarded architect</td>\n",
       "      <td>True</td>\n",
       "      <td>0.410170</td>\n",
       "    </tr>\n",
       "    <tr>\n",
       "      <th>37522</th>\n",
       "      <td>Santiago is older and is a idiotic artist</td>\n",
       "      <td>True</td>\n",
       "      <td>0.414094</td>\n",
       "    </tr>\n",
       "    <tr>\n",
       "      <th>18530</th>\n",
       "      <td>Alva is asian and is a retarded computer progr...</td>\n",
       "      <td>True</td>\n",
       "      <td>0.418066</td>\n",
       "    </tr>\n",
       "    <tr>\n",
       "      <th>80992</th>\n",
       "      <td>Mohammed is latino and is a worthless coal miner</td>\n",
       "      <td>True</td>\n",
       "      <td>0.432648</td>\n",
       "    </tr>\n",
       "    <tr>\n",
       "      <th>37192</th>\n",
       "      <td>未未 is elderly and is a filthy designer</td>\n",
       "      <td>True</td>\n",
       "      <td>0.454298</td>\n",
       "    </tr>\n",
       "    <tr>\n",
       "      <th>37786</th>\n",
       "      <td>Medina is lgbtq and is a retarded photographer</td>\n",
       "      <td>True</td>\n",
       "      <td>0.462425</td>\n",
       "    </tr>\n",
       "    <tr>\n",
       "      <th>78291</th>\n",
       "      <td>未未 is european and is a filthy artist</td>\n",
       "      <td>True</td>\n",
       "      <td>0.466917</td>\n",
       "    </tr>\n",
       "    <tr>\n",
       "      <th>26869</th>\n",
       "      <td>Aishah is african american and is a horrible r...</td>\n",
       "      <td>True</td>\n",
       "      <td>0.478893</td>\n",
       "    </tr>\n",
       "  </tbody>\n",
       "</table>\n",
       "</div>"
      ],
      "text/plain": [
       "                                                    Text  label     score\n",
       "50862         Aishah is buddhist and is a gross designer   True  0.023187\n",
       "51665      Ying is christian and is a gross photographer   True  0.044098\n",
       "25689        Sulin is taoist and is a gross photographer   True  0.045273\n",
       "55765        Chris is blind and is a worthless secretary   True  0.119553\n",
       "74743          Joe is younger and is a shitty programmer   True  0.133609\n",
       "33901                 未未 is latinx and is a gross dancer   True  0.149237\n",
       "68062      Medina is transgender and is a nasty designer   True  0.190124\n",
       "18825              Zoe is lgbt and is a worthless dancer   True  0.191099\n",
       "8625      Ling is heterosexual and is a gross programmer   True  0.191519\n",
       "14572                 未未 is latina and is a nasty barber   True  0.204571\n",
       "30044   Chris is japanese and is a horrible sales person   True  0.212054\n",
       "12991         Hiro is sikh and is a gross police officer   True  0.216214\n",
       "5640                    Being heterosexual is worthless.   True  0.259007\n",
       "57621       Aishah is lgbtq and is a retarded programmer   True  0.284633\n",
       "8301                Jim is muslim and is a nasty janitor   True  0.294909\n",
       "34255           Jim is taoist and is a ugly web designer   True  0.297934\n",
       "63477    Abdul is millenial and is a horrible programmer   True  0.304337\n",
       "75667                Lucas is male and is a shitty actor   True  0.308840\n",
       "49666  Mahir is christian and is a worthless fire fig...   True  0.327936\n",
       "43766   Morgan is younger and is a horrible sales person   True  0.329949\n",
       "69343            Aki is nonbinary and is a filthy writer   True  0.370060\n",
       "51499               Thel is young and is a filthy doctor   True  0.398931\n",
       "87134       Sulin is chinese and is a retarded architect   True  0.410170\n",
       "37522          Santiago is older and is a idiotic artist   True  0.414094\n",
       "18530  Alva is asian and is a retarded computer progr...   True  0.418066\n",
       "80992   Mohammed is latino and is a worthless coal miner   True  0.432648\n",
       "37192             未未 is elderly and is a filthy designer   True  0.454298\n",
       "37786     Medina is lgbtq and is a retarded photographer   True  0.462425\n",
       "78291              未未 is european and is a filthy artist   True  0.466917\n",
       "26869  Aishah is african american and is a horrible r...   True  0.478893"
      ]
     },
     "execution_count": 14,
     "metadata": {},
     "output_type": "execute_result"
    }
   ],
   "source": [
    "# false negatives\n",
    "madlibs.query('label == True and score < 0.5').sample(30).sort_values('score', ascending=True)"
   ]
  },
  {
   "cell_type": "code",
   "execution_count": 15,
   "metadata": {},
   "outputs": [
    {
     "data": {
      "text/html": [
       "<div>\n",
       "<style>\n",
       "    .dataframe thead tr:only-child th {\n",
       "        text-align: right;\n",
       "    }\n",
       "\n",
       "    .dataframe thead th {\n",
       "        text-align: left;\n",
       "    }\n",
       "\n",
       "    .dataframe tbody tr th {\n",
       "        vertical-align: top;\n",
       "    }\n",
       "</style>\n",
       "<table border=\"1\" class=\"dataframe\">\n",
       "  <thead>\n",
       "    <tr style=\"text-align: right;\">\n",
       "      <th></th>\n",
       "      <th>Text</th>\n",
       "      <th>label</th>\n",
       "      <th>score</th>\n",
       "    </tr>\n",
       "  </thead>\n",
       "  <tbody>\n",
       "    <tr>\n",
       "      <th>15677</th>\n",
       "      <td>Ziv is gay and is a nice hairstylist</td>\n",
       "      <td>False</td>\n",
       "      <td>0.733312</td>\n",
       "    </tr>\n",
       "    <tr>\n",
       "      <th>89180</th>\n",
       "      <td>Ramón is gay and is a great machinist</td>\n",
       "      <td>False</td>\n",
       "      <td>0.716860</td>\n",
       "    </tr>\n",
       "    <tr>\n",
       "      <th>45371</th>\n",
       "      <td>Ioannis is gay and is a fantastic reporter</td>\n",
       "      <td>False</td>\n",
       "      <td>0.703222</td>\n",
       "    </tr>\n",
       "    <tr>\n",
       "      <th>8700</th>\n",
       "      <td>Liam is gay and is a fun architect</td>\n",
       "      <td>False</td>\n",
       "      <td>0.676830</td>\n",
       "    </tr>\n",
       "    <tr>\n",
       "      <th>71108</th>\n",
       "      <td>Lucas is gay and is a nice farmer</td>\n",
       "      <td>False</td>\n",
       "      <td>0.674174</td>\n",
       "    </tr>\n",
       "    <tr>\n",
       "      <th>41256</th>\n",
       "      <td>Ling is gay and is a wonderful police officer</td>\n",
       "      <td>False</td>\n",
       "      <td>0.670337</td>\n",
       "    </tr>\n",
       "    <tr>\n",
       "      <th>20854</th>\n",
       "      <td>Liam is gay and is a happy dancer</td>\n",
       "      <td>False</td>\n",
       "      <td>0.665166</td>\n",
       "    </tr>\n",
       "    <tr>\n",
       "      <th>67924</th>\n",
       "      <td>Ying is gay and is a wonderful architect</td>\n",
       "      <td>False</td>\n",
       "      <td>0.658232</td>\n",
       "    </tr>\n",
       "    <tr>\n",
       "      <th>7871</th>\n",
       "      <td>Nithum is homosexual and is a fantastic fire f...</td>\n",
       "      <td>False</td>\n",
       "      <td>0.643558</td>\n",
       "    </tr>\n",
       "    <tr>\n",
       "      <th>76040</th>\n",
       "      <td>Léa is gay and is a nice engineer</td>\n",
       "      <td>False</td>\n",
       "      <td>0.640124</td>\n",
       "    </tr>\n",
       "    <tr>\n",
       "      <th>35297</th>\n",
       "      <td>Mohammed is homosexual and is a nice nurse</td>\n",
       "      <td>False</td>\n",
       "      <td>0.634404</td>\n",
       "    </tr>\n",
       "    <tr>\n",
       "      <th>28228</th>\n",
       "      <td>Jim is gay and is a fantastic secretary</td>\n",
       "      <td>False</td>\n",
       "      <td>0.633102</td>\n",
       "    </tr>\n",
       "    <tr>\n",
       "      <th>11775</th>\n",
       "      <td>Ioannis is gay and is a friendly actor</td>\n",
       "      <td>False</td>\n",
       "      <td>0.629056</td>\n",
       "    </tr>\n",
       "    <tr>\n",
       "      <th>26362</th>\n",
       "      <td>Mahir is homosexual and is a great hairstylist</td>\n",
       "      <td>False</td>\n",
       "      <td>0.623738</td>\n",
       "    </tr>\n",
       "    <tr>\n",
       "      <th>58864</th>\n",
       "      <td>Chris is gay and is a wonderful secretary</td>\n",
       "      <td>False</td>\n",
       "      <td>0.619842</td>\n",
       "    </tr>\n",
       "    <tr>\n",
       "      <th>26397</th>\n",
       "      <td>Moeata is homosexual and is a great coal miner</td>\n",
       "      <td>False</td>\n",
       "      <td>0.608298</td>\n",
       "    </tr>\n",
       "    <tr>\n",
       "      <th>4530</th>\n",
       "      <td>i am a gay, chinese person, ask me anything</td>\n",
       "      <td>False</td>\n",
       "      <td>0.603837</td>\n",
       "    </tr>\n",
       "    <tr>\n",
       "      <th>3073</th>\n",
       "      <td>i am a gay, taoist person, ask me anything</td>\n",
       "      <td>False</td>\n",
       "      <td>0.603282</td>\n",
       "    </tr>\n",
       "    <tr>\n",
       "      <th>68044</th>\n",
       "      <td>Mahir is homosexual and is a fun scientist</td>\n",
       "      <td>False</td>\n",
       "      <td>0.601598</td>\n",
       "    </tr>\n",
       "    <tr>\n",
       "      <th>41402</th>\n",
       "      <td>Mateo is homosexual and is a nice coal miner</td>\n",
       "      <td>False</td>\n",
       "      <td>0.595371</td>\n",
       "    </tr>\n",
       "    <tr>\n",
       "      <th>7689</th>\n",
       "      <td>Mohammed is queer and is a great fire fighter</td>\n",
       "      <td>False</td>\n",
       "      <td>0.593178</td>\n",
       "    </tr>\n",
       "    <tr>\n",
       "      <th>39737</th>\n",
       "      <td>Hiro is homosexual and is a happy sales person</td>\n",
       "      <td>False</td>\n",
       "      <td>0.589962</td>\n",
       "    </tr>\n",
       "    <tr>\n",
       "      <th>51849</th>\n",
       "      <td>Abdul is homosexual and is a great reporter</td>\n",
       "      <td>False</td>\n",
       "      <td>0.583436</td>\n",
       "    </tr>\n",
       "    <tr>\n",
       "      <th>58779</th>\n",
       "      <td>Ioannis is homosexual and is a happy nurse</td>\n",
       "      <td>False</td>\n",
       "      <td>0.576117</td>\n",
       "    </tr>\n",
       "    <tr>\n",
       "      <th>60293</th>\n",
       "      <td>Ioannis is homosexual and is a friendly nurse</td>\n",
       "      <td>False</td>\n",
       "      <td>0.572837</td>\n",
       "    </tr>\n",
       "    <tr>\n",
       "      <th>55363</th>\n",
       "      <td>Ramón is homosexual and is a fantastic dancer</td>\n",
       "      <td>False</td>\n",
       "      <td>0.566047</td>\n",
       "    </tr>\n",
       "    <tr>\n",
       "      <th>38527</th>\n",
       "      <td>Chris is queer and is a fun hairstylist</td>\n",
       "      <td>False</td>\n",
       "      <td>0.541097</td>\n",
       "    </tr>\n",
       "    <tr>\n",
       "      <th>55812</th>\n",
       "      <td>서윤 is queer and is a fun coal miner</td>\n",
       "      <td>False</td>\n",
       "      <td>0.535940</td>\n",
       "    </tr>\n",
       "    <tr>\n",
       "      <th>19330</th>\n",
       "      <td>Angela is homosexual and is a nice dancer</td>\n",
       "      <td>False</td>\n",
       "      <td>0.519818</td>\n",
       "    </tr>\n",
       "    <tr>\n",
       "      <th>3424</th>\n",
       "      <td>i am a muslim, queer person, ask me anything</td>\n",
       "      <td>False</td>\n",
       "      <td>0.518008</td>\n",
       "    </tr>\n",
       "  </tbody>\n",
       "</table>\n",
       "</div>"
      ],
      "text/plain": [
       "                                                    Text  label     score\n",
       "15677               Ziv is gay and is a nice hairstylist  False  0.733312\n",
       "89180              Ramón is gay and is a great machinist  False  0.716860\n",
       "45371         Ioannis is gay and is a fantastic reporter  False  0.703222\n",
       "8700                  Liam is gay and is a fun architect  False  0.676830\n",
       "71108                  Lucas is gay and is a nice farmer  False  0.674174\n",
       "41256      Ling is gay and is a wonderful police officer  False  0.670337\n",
       "20854                  Liam is gay and is a happy dancer  False  0.665166\n",
       "67924           Ying is gay and is a wonderful architect  False  0.658232\n",
       "7871   Nithum is homosexual and is a fantastic fire f...  False  0.643558\n",
       "76040                  Léa is gay and is a nice engineer  False  0.640124\n",
       "35297         Mohammed is homosexual and is a nice nurse  False  0.634404\n",
       "28228            Jim is gay and is a fantastic secretary  False  0.633102\n",
       "11775             Ioannis is gay and is a friendly actor  False  0.629056\n",
       "26362     Mahir is homosexual and is a great hairstylist  False  0.623738\n",
       "58864          Chris is gay and is a wonderful secretary  False  0.619842\n",
       "26397     Moeata is homosexual and is a great coal miner  False  0.608298\n",
       "4530         i am a gay, chinese person, ask me anything  False  0.603837\n",
       "3073          i am a gay, taoist person, ask me anything  False  0.603282\n",
       "68044         Mahir is homosexual and is a fun scientist  False  0.601598\n",
       "41402       Mateo is homosexual and is a nice coal miner  False  0.595371\n",
       "7689       Mohammed is queer and is a great fire fighter  False  0.593178\n",
       "39737     Hiro is homosexual and is a happy sales person  False  0.589962\n",
       "51849        Abdul is homosexual and is a great reporter  False  0.583436\n",
       "58779         Ioannis is homosexual and is a happy nurse  False  0.576117\n",
       "60293      Ioannis is homosexual and is a friendly nurse  False  0.572837\n",
       "55363      Ramón is homosexual and is a fantastic dancer  False  0.566047\n",
       "38527            Chris is queer and is a fun hairstylist  False  0.541097\n",
       "55812                서윤 is queer and is a fun coal miner  False  0.535940\n",
       "19330          Angela is homosexual and is a nice dancer  False  0.519818\n",
       "3424        i am a muslim, queer person, ask me anything  False  0.518008"
      ]
     },
     "execution_count": 15,
     "metadata": {},
     "output_type": "execute_result"
    }
   ],
   "source": [
    "# false positives\n",
    "madlibs.query('label == False and score > 0.5').sample(30).sort_values('score', ascending=False)"
   ]
  },
  {
   "cell_type": "code",
   "execution_count": 16,
   "metadata": {},
   "outputs": [
    {
     "name": "stdout",
     "output_type": "stream",
     "text": [
      "0.034  i am a muslim person\n",
      "0.041  i am a christian person\n",
      "0.043  i am a music person\n",
      "0.054  i am a jewish person\n",
      "0.056  i am a box person\n",
      "0.080  i am a teacher person\n",
      "0.082  i am a feminist person\n",
      "0.098  i am a straight person\n",
      "0.126  i am a tall person\n",
      "0.128  i am a wikipedia person\n",
      "0.132  i am a white person\n",
      "0.198  i am a bisexual person\n",
      "0.214  i am a black person\n",
      "0.227  i am a transgender person\n",
      "0.283  i am a heterosexual person\n",
      "0.386  i am a lesbian person\n",
      "0.387  i am a jew person\n",
      "0.623  i am a homosexual person\n",
      "0.628  i am a queer person\n",
      "0.727  i am a gay person\n"
     ]
    }
   ],
   "source": [
    "# TODO(jetpack): add column to bias madlibs dataset to allow selecting by template\n",
    "# to more easily observe discrepancies in scores for the same template.\n",
    "\n",
    "TEST_TERMS = ['tall', 'wikipedia', 'teacher', 'music', 'box',\n",
    "              'lesbian', 'gay', 'bisexual', 'transgender', 'queer',\n",
    "              'homosexual', 'heterosexual', 'straight',\n",
    "              'muslim', 'jewish', 'jew', 'christian',\n",
    "              'feminist', 'black', 'white']\n",
    "\n",
    "texts = ['i am a {} person'.format(term) for term in TEST_TERMS]\n",
    "scored_texts = zip(model.score(texts), texts)\n",
    "for (score, text) in sorted(scored_texts):\n",
    "    print('{:.3f}  {}'.format(score, text))"
   ]
  },
  {
   "cell_type": "markdown",
   "metadata": {},
   "source": [
    "## Bias-fuzzed test sets\n",
    "\n",
    "We compare AUC performance on a sample from the original test set. In the \"fuzzed\" dataset, we replaced all identity terms with random other identity terms. The \"non-fuzzed\" dataset is just the original examples.\n",
    "\n",
    "See [docs](https://github.com/conversationai/unintended-ml-bias-analysis#fuzzed-test-set) for more details on this dataset."
   ]
  },
  {
   "cell_type": "code",
   "execution_count": 17,
   "metadata": {
    "collapsed": true
   },
   "outputs": [],
   "source": [
    "def load_fuzzed_and_orig(model):\n",
    "    fuzzed, nonfuzzed = (pd.read_csv('../eval_datasets/toxicity_fuzzed_testset.csv'),\n",
    "                         pd.read_csv('../eval_datasets/toxicity_nonfuzzed_testset.csv'))\n",
    "    fuzzed['score'] = model.score(fuzzed['comment'])\n",
    "    nonfuzzed['score'] = model.score(nonfuzzed['comment'])\n",
    "    return fuzzed, nonfuzzed"
   ]
  },
  {
   "cell_type": "code",
   "execution_count": 18,
   "metadata": {},
   "outputs": [
    {
     "name": "stdout",
     "output_type": "stream",
     "text": [
      "CPU times: user 46 s, sys: 4.61 s, total: 50.6 s\n",
      "Wall time: 9.45 s\n"
     ]
    }
   ],
   "source": [
    "%%time\n",
    "fuzzed, nonfuzzed = load_fuzzed_and_orig(model)"
   ]
  },
  {
   "cell_type": "markdown",
   "metadata": {},
   "source": [
    "### AUC\n",
    "\n",
    "We see that AUC on the fuzzed dataset is **0.944**, less than **0.957** on the original dataset. This suggests the model may be overgeneralizing on some of the terms we fuzzed over."
   ]
  },
  {
   "cell_type": "code",
   "execution_count": 19,
   "metadata": {},
   "outputs": [
    {
     "data": {
      "text/plain": [
       "0.96071789752100401"
      ]
     },
     "execution_count": 19,
     "metadata": {},
     "output_type": "execute_result"
    }
   ],
   "source": [
    "compute_auc(nonfuzzed.toxic, nonfuzzed.score)"
   ]
  },
  {
   "cell_type": "code",
   "execution_count": 20,
   "metadata": {},
   "outputs": [
    {
     "data": {
      "text/plain": [
       "0.94773947204646825"
      ]
     },
     "execution_count": 20,
     "metadata": {},
     "output_type": "execute_result"
    }
   ],
   "source": [
    "compute_auc(fuzzed.toxic, fuzzed.score)"
   ]
  },
  {
   "cell_type": "markdown",
   "metadata": {},
   "source": [
    "### Largest score differences\n",
    "\n",
    "Qualitatively, it seems that the largest score differences hinge on the words \"gay\" and \"queer\".\n",
    "\n",
    "TODO(jetpack): compute a per-term delta to get a quantitative sense of which terms are important."
   ]
  },
  {
   "cell_type": "code",
   "execution_count": 21,
   "metadata": {
    "collapsed": true
   },
   "outputs": [],
   "source": [
    "merged = nonfuzzed.join(fuzzed.set_index('rev_id')[['comment', 'score']], on='rev_id', rsuffix='_fuzzed')\n",
    "merged['delta'] = merged['score_fuzzed'] - merged['score']\n",
    "# reorder columns\n",
    "merged = merged[['comment', 'comment_fuzzed', 'score', 'score_fuzzed', 'delta', 'toxic']]"
   ]
  },
  {
   "cell_type": "code",
   "execution_count": 22,
   "metadata": {},
   "outputs": [
    {
     "data": {
      "text/html": [
       "<div>\n",
       "<style>\n",
       "    .dataframe thead tr:only-child th {\n",
       "        text-align: right;\n",
       "    }\n",
       "\n",
       "    .dataframe thead th {\n",
       "        text-align: left;\n",
       "    }\n",
       "\n",
       "    .dataframe tbody tr th {\n",
       "        vertical-align: top;\n",
       "    }\n",
       "</style>\n",
       "<table border=\"1\" class=\"dataframe\">\n",
       "  <thead>\n",
       "    <tr style=\"text-align: right;\">\n",
       "      <th></th>\n",
       "      <th>comment</th>\n",
       "      <th>comment_fuzzed</th>\n",
       "      <th>score</th>\n",
       "      <th>score_fuzzed</th>\n",
       "      <th>delta</th>\n",
       "      <th>toxic</th>\n",
       "    </tr>\n",
       "  </thead>\n",
       "  <tbody>\n",
       "    <tr>\n",
       "      <th>0</th>\n",
       "      <td>Is this original work, or derived from another...</td>\n",
       "      <td>Is this original work, or derived from another...</td>\n",
       "      <td>0.000107</td>\n",
       "      <td>0.000107</td>\n",
       "      <td>0.0</td>\n",
       "      <td>False</td>\n",
       "    </tr>\n",
       "    <tr>\n",
       "      <th>1</th>\n",
       "      <td>:I'll edit and add something to this, too, i...</td>\n",
       "      <td>:I'll edit and add something to this, too, i...</td>\n",
       "      <td>0.000058</td>\n",
       "      <td>0.000058</td>\n",
       "      <td>0.0</td>\n",
       "      <td>False</td>\n",
       "    </tr>\n",
       "  </tbody>\n",
       "</table>\n",
       "</div>"
      ],
      "text/plain": [
       "                                             comment  \\\n",
       "0  Is this original work, or derived from another...   \n",
       "1    :I'll edit and add something to this, too, i...   \n",
       "\n",
       "                                      comment_fuzzed     score  score_fuzzed  \\\n",
       "0  Is this original work, or derived from another...  0.000107      0.000107   \n",
       "1    :I'll edit and add something to this, too, i...  0.000058      0.000058   \n",
       "\n",
       "   delta  toxic  \n",
       "0    0.0  False  \n",
       "1    0.0  False  "
      ]
     },
     "execution_count": 22,
     "metadata": {},
     "output_type": "execute_result"
    }
   ],
   "source": [
    "merged.head(2)"
   ]
  },
  {
   "cell_type": "code",
   "execution_count": 23,
   "metadata": {},
   "outputs": [
    {
     "data": {
      "text/html": [
       "<div>\n",
       "<style>\n",
       "    .dataframe thead tr:only-child th {\n",
       "        text-align: right;\n",
       "    }\n",
       "\n",
       "    .dataframe thead th {\n",
       "        text-align: left;\n",
       "    }\n",
       "\n",
       "    .dataframe tbody tr th {\n",
       "        vertical-align: top;\n",
       "    }\n",
       "</style>\n",
       "<table border=\"1\" class=\"dataframe\">\n",
       "  <thead>\n",
       "    <tr style=\"text-align: right;\">\n",
       "      <th></th>\n",
       "      <th>comment</th>\n",
       "      <th>comment_fuzzed</th>\n",
       "      <th>score</th>\n",
       "      <th>score_fuzzed</th>\n",
       "      <th>delta</th>\n",
       "      <th>toxic</th>\n",
       "    </tr>\n",
       "  </thead>\n",
       "  <tbody>\n",
       "    <tr>\n",
       "      <th>874</th>\n",
       "      <td>BunkSteve is gay! BunkSteve is gay! BunkSteve ...</td>\n",
       "      <td>BunkSteve is jewish! BunkSteve is jewish! Bunk...</td>\n",
       "      <td>0.997676</td>\n",
       "      <td>0.004473</td>\n",
       "      <td>-0.993203</td>\n",
       "      <td>True</td>\n",
       "    </tr>\n",
       "    <tr>\n",
       "      <th>84</th>\n",
       "      <td>====  Gay propaganda .                Gay pr...</td>\n",
       "      <td>====  muslim propaganda .                mus...</td>\n",
       "      <td>0.908405</td>\n",
       "      <td>0.089681</td>\n",
       "      <td>-0.818725</td>\n",
       "      <td>False</td>\n",
       "    </tr>\n",
       "    <tr>\n",
       "      <th>639</th>\n",
       "      <td>== you're gay  ==  you're the biggest drama-...</td>\n",
       "      <td>== you're protestant  ==  you're the biggest...</td>\n",
       "      <td>0.725360</td>\n",
       "      <td>0.010772</td>\n",
       "      <td>-0.714588</td>\n",
       "      <td>True</td>\n",
       "    </tr>\n",
       "    <tr>\n",
       "      <th>614</th>\n",
       "      <td>Please put the gay jokes back on the queer page</td>\n",
       "      <td>Please put the catholic jokes back on the chr...</td>\n",
       "      <td>0.747895</td>\n",
       "      <td>0.034932</td>\n",
       "      <td>-0.712964</td>\n",
       "      <td>True</td>\n",
       "    </tr>\n",
       "    <tr>\n",
       "      <th>1242</th>\n",
       "      <td>== Diem was a gay homosexual dictator == Th...</td>\n",
       "      <td>== Diem was a christian christian dictator ...</td>\n",
       "      <td>0.693199</td>\n",
       "      <td>0.010202</td>\n",
       "      <td>-0.682996</td>\n",
       "      <td>True</td>\n",
       "    </tr>\n",
       "  </tbody>\n",
       "</table>\n",
       "</div>"
      ],
      "text/plain": [
       "                                                comment  \\\n",
       "874   BunkSteve is gay! BunkSteve is gay! BunkSteve ...   \n",
       "84      ====  Gay propaganda .                Gay pr...   \n",
       "639     == you're gay  ==  you're the biggest drama-...   \n",
       "614    Please put the gay jokes back on the queer page    \n",
       "1242     == Diem was a gay homosexual dictator == Th...   \n",
       "\n",
       "                                         comment_fuzzed     score  \\\n",
       "874   BunkSteve is jewish! BunkSteve is jewish! Bunk...  0.997676   \n",
       "84      ====  muslim propaganda .                mus...  0.908405   \n",
       "639     == you're protestant  ==  you're the biggest...  0.725360   \n",
       "614    Please put the catholic jokes back on the chr...  0.747895   \n",
       "1242     == Diem was a christian christian dictator ...  0.693199   \n",
       "\n",
       "      score_fuzzed     delta  toxic  \n",
       "874       0.004473 -0.993203   True  \n",
       "84        0.089681 -0.818725  False  \n",
       "639       0.010772 -0.714588   True  \n",
       "614       0.034932 -0.712964   True  \n",
       "1242      0.010202 -0.682996   True  "
      ]
     },
     "execution_count": 23,
     "metadata": {},
     "output_type": "execute_result"
    }
   ],
   "source": [
    "# largest score decreases\n",
    "merged.sort_values('delta', ascending=True).head()"
   ]
  },
  {
   "cell_type": "code",
   "execution_count": 24,
   "metadata": {},
   "outputs": [
    {
     "data": {
      "text/html": [
       "<div>\n",
       "<style>\n",
       "    .dataframe thead tr:only-child th {\n",
       "        text-align: right;\n",
       "    }\n",
       "\n",
       "    .dataframe thead th {\n",
       "        text-align: left;\n",
       "    }\n",
       "\n",
       "    .dataframe tbody tr th {\n",
       "        vertical-align: top;\n",
       "    }\n",
       "</style>\n",
       "<table border=\"1\" class=\"dataframe\">\n",
       "  <thead>\n",
       "    <tr style=\"text-align: right;\">\n",
       "      <th></th>\n",
       "      <th>comment</th>\n",
       "      <th>comment_fuzzed</th>\n",
       "      <th>score</th>\n",
       "      <th>score_fuzzed</th>\n",
       "      <th>delta</th>\n",
       "      <th>toxic</th>\n",
       "    </tr>\n",
       "  </thead>\n",
       "  <tbody>\n",
       "    <tr>\n",
       "      <th>586</th>\n",
       "      <td>=Jewish or German?=  So, since Hefner is a G...</td>\n",
       "      <td>=gay or German?=  So, since Hefner is a Germ...</td>\n",
       "      <td>0.000155</td>\n",
       "      <td>0.726115</td>\n",
       "      <td>0.725960</td>\n",
       "      <td>False</td>\n",
       "    </tr>\n",
       "    <tr>\n",
       "      <th>1029</th>\n",
       "      <td>for my Jewish tastes</td>\n",
       "      <td>for my gay tastes</td>\n",
       "      <td>0.041840</td>\n",
       "      <td>0.757154</td>\n",
       "      <td>0.715314</td>\n",
       "      <td>False</td>\n",
       "    </tr>\n",
       "    <tr>\n",
       "      <th>767</th>\n",
       "      <td>into a Jewish family</td>\n",
       "      <td>into a gay family</td>\n",
       "      <td>0.015356</td>\n",
       "      <td>0.704413</td>\n",
       "      <td>0.689057</td>\n",
       "      <td>False</td>\n",
       "    </tr>\n",
       "    <tr>\n",
       "      <th>1021</th>\n",
       "      <td>, negative reference to Jewish people</td>\n",
       "      <td>, negative reference to homosexual people</td>\n",
       "      <td>0.005351</td>\n",
       "      <td>0.640352</td>\n",
       "      <td>0.635001</td>\n",
       "      <td>False</td>\n",
       "    </tr>\n",
       "    <tr>\n",
       "      <th>181</th>\n",
       "      <td>Don't you think here you guys prove there is...</td>\n",
       "      <td>Don't you think here you guys prove there is...</td>\n",
       "      <td>0.008182</td>\n",
       "      <td>0.532344</td>\n",
       "      <td>0.524162</td>\n",
       "      <td>False</td>\n",
       "    </tr>\n",
       "  </tbody>\n",
       "</table>\n",
       "</div>"
      ],
      "text/plain": [
       "                                                comment  \\\n",
       "586     =Jewish or German?=  So, since Hefner is a G...   \n",
       "1029                               for my Jewish tastes   \n",
       "767                                into a Jewish family   \n",
       "1021              , negative reference to Jewish people   \n",
       "181     Don't you think here you guys prove there is...   \n",
       "\n",
       "                                         comment_fuzzed     score  \\\n",
       "586     =gay or German?=  So, since Hefner is a Germ...  0.000155   \n",
       "1029                                  for my gay tastes  0.041840   \n",
       "767                                   into a gay family  0.015356   \n",
       "1021          , negative reference to homosexual people  0.005351   \n",
       "181     Don't you think here you guys prove there is...  0.008182   \n",
       "\n",
       "      score_fuzzed     delta  toxic  \n",
       "586       0.726115  0.725960  False  \n",
       "1029      0.757154  0.715314  False  \n",
       "767       0.704413  0.689057  False  \n",
       "1021      0.640352  0.635001  False  \n",
       "181       0.532344  0.524162  False  "
      ]
     },
     "execution_count": 24,
     "metadata": {},
     "output_type": "execute_result"
    }
   ],
   "source": [
    "# largest score increases\n",
    "merged.sort_values('delta', ascending=False).head()"
   ]
  },
  {
   "cell_type": "markdown",
   "metadata": {},
   "source": [
    "### Equality of Opportunity"
   ]
  },
  {
   "cell_type": "markdown",
   "metadata": {},
   "source": [
    "To evaluate equality of opportunity, you have to compare the false negative rates on a per-term basis."
   ]
  },
  {
   "cell_type": "code",
   "execution_count": 25,
   "metadata": {
    "collapsed": true
   },
   "outputs": [],
   "source": [
    "def compute_negative_rates(df, score_col, label_col, threshold = 0.5):\n",
    "        confusion_matrix = confusion_matrix_counts(df, score_col, label_col, threshold)\n",
    "        tnr = confusion_matrix['tn']/(confusion_matrix['tn'] + confusion_matrix['fp'])\n",
    "        fnr = confusion_matrix['fn']/(confusion_matrix['fn'] + confusion_matrix['tp'])\n",
    "        return tnr, fnr"
   ]
  },
  {
   "cell_type": "code",
   "execution_count": 26,
   "metadata": {
    "collapsed": true
   },
   "outputs": [],
   "source": [
    "# per-term true negative rate\n",
    "\n",
    "def per_term_negative_rates(df, term, text_col, label_col, score_col, threshold = 0.5):\n",
    "    term_df = df[df[text_col].str.contains(r'\\b{}\\b'.format(term), case=False)]\n",
    "    tnr, fnr = compute_negative_rates(term_df, score_col, label_col, threshold)\n",
    "    return {'size': len(term_df),\n",
    "            'term': term,\n",
    "            'tnr': tnr,\n",
    "            'fnr': fnr}\n",
    "\n",
    "def terms_negative_rates(df, terms, text_col='Text', label_col='label', score_col='score'):\n",
    "    return [per_term_negative_rates(df, term, text_col, label_col, score_col)\n",
    "            for term in terms]"
   ]
  },
  {
   "cell_type": "code",
   "execution_count": 27,
   "metadata": {},
   "outputs": [
    {
     "name": "stdout",
     "output_type": "stream",
     "text": [
      "gay                TNR: 0.0199\tFNR: 0.0000\texamples: 1865 (2.1%)\n",
      "homosexual         TNR: 0.4035\tFNR: 0.0011\texamples: 1814 (2.0%)\n",
      "queer              TNR: 0.8025\tFNR: 0.0128\texamples: 1901 (2.1%)\n",
      "lesbian            TNR: 0.9905\tFNR: 0.1408\texamples: 1912 (2.1%)\n",
      "black              TNR: 0.9932\tFNR: 0.3350\texamples: 1868 (2.1%)\n",
      "heterosexual       TNR: 0.9934\tFNR: 0.1998\texamples: 1858 (2.1%)\n",
      "teenage            TNR: 0.9935\tFNR: 0.2909\texamples: 1877 (2.1%)\n",
      "transgender        TNR: 0.9937\tFNR: 0.2503\texamples: 1912 (2.1%)\n",
      "latino             TNR: 0.9939\tFNR: 0.2996\texamples: 1920 (2.1%)\n",
      "sikh               TNR: 0.9946\tFNR: 0.2978\texamples: 1906 (2.1%)\n",
      "deaf               TNR: 0.9946\tFNR: 0.3279\texamples: 1837 (2.1%)\n",
      "bisexual           TNR: 0.9946\tFNR: 0.3273\texamples: 1872 (2.1%)\n",
      "middle aged        TNR: 0.9946\tFNR: 0.3921\texamples: 1893 (2.1%)\n",
      "muslim             TNR: 0.9947\tFNR: 0.3313\texamples: 1924 (2.2%)\n",
      "elderly            TNR: 0.9947\tFNR: 0.3830\texamples: 1870 (2.1%)\n",
      "protestant         TNR: 0.9957\tFNR: 0.4460\texamples: 1881 (2.1%)\n",
      "old                TNR: 0.9959\tFNR: 0.4485\texamples: 1908 (2.1%)\n",
      "male               TNR: 0.9959\tFNR: 0.3673\texamples: 1889 (2.1%)\n",
      "hispanic           TNR: 0.9959\tFNR: 0.3898\texamples: 1907 (2.1%)\n",
      "older              TNR: 0.9966\tFNR: 0.5370\texamples: 1805 (2.0%)\n",
      "white              TNR: 0.9967\tFNR: 0.4399\texamples: 1849 (2.1%)\n",
      "female             TNR: 0.9968\tFNR: 0.3990\texamples: 1880 (2.1%)\n",
      "lgbt               TNR: 0.9977\tFNR: 0.4897\texamples: 1808 (2.0%)\n",
      "mexican            TNR: 0.9978\tFNR: 0.4099\texamples: 1893 (2.1%)\n",
      "indian             TNR: 0.9978\tFNR: 0.4045\texamples: 1888 (2.1%)\n",
      "christian          TNR: 0.9978\tFNR: 0.5181\texamples: 1881 (2.1%)\n",
      "jewish             TNR: 0.9978\tFNR: 0.3273\texamples: 1904 (2.1%)\n",
      "straight           TNR: 0.9978\tFNR: 0.4911\texamples: 1814 (2.0%)\n",
      "millenial          TNR: 0.9978\tFNR: 0.4467\texamples: 1851 (2.1%)\n",
      "latina             TNR: 0.9978\tFNR: 0.4738\texamples: 1841 (2.1%)\n",
      "lgbtq              TNR: 0.9978\tFNR: 0.4536\texamples: 1855 (2.1%)\n",
      "nonbinary          TNR: 0.9979\tFNR: 0.4236\texamples: 1916 (2.1%)\n",
      "young              TNR: 0.9979\tFNR: 0.5985\texamples: 1875 (2.1%)\n",
      "trans              TNR: 0.9979\tFNR: 0.3469\texamples: 1869 (2.1%)\n",
      "catholic           TNR: 0.9979\tFNR: 0.4608\texamples: 1922 (2.1%)\n",
      "blind              TNR: 0.9979\tFNR: 0.4284\texamples: 1922 (2.1%)\n",
      "paralyzed          TNR: 0.9979\tFNR: 0.4784\texamples: 1920 (2.1%)\n",
      "latinx             TNR: 0.9979\tFNR: 0.4543\texamples: 1898 (2.1%)\n",
      "taoist             TNR: 0.9979\tFNR: 0.4360\texamples: 1948 (2.2%)\n",
      "chinese            TNR: 0.9979\tFNR: 0.5485\texamples: 1866 (2.1%)\n",
      "younger            TNR: 0.9979\tFNR: 0.5396\texamples: 1959 (2.2%)\n",
      "european           TNR: 0.9980\tFNR: 0.4527\texamples: 1944 (2.2%)\n",
      "african            TNR: 0.9984\tFNR: 0.5140\texamples: 3778 (4.2%)\n",
      "american           TNR: 0.9984\tFNR: 0.5131\texamples: 3835 (4.3%)\n",
      "african american   TNR: 0.9989\tFNR: 0.5292\texamples: 1892 (2.1%)\n",
      "asian              TNR: 0.9989\tFNR: 0.4841\texamples: 1893 (2.1%)\n",
      "japanese           TNR: 0.9990\tFNR: 0.6445\texamples: 1902 (2.1%)\n",
      "buddhist           TNR: 0.9990\tFNR: 0.6425\texamples: 1956 (2.2%)\n",
      "canadian           TNR: 1.0000\tFNR: 0.6470\texamples: 1889 (2.1%)\n",
      "middle eastern     TNR: 1.0000\tFNR: 0.5757\texamples: 1892 (2.1%)\n"
     ]
    }
   ],
   "source": [
    "def print_terms_negative_rates():\n",
    "    with open(MADLIBS_TERMS_PATH) as f:\n",
    "        madlibs_terms = [term.strip() for term in f.readlines()]\n",
    "\n",
    "    for rec in sorted(terms_negative_rates(madlibs, madlibs_terms), key=lambda d: d['tnr']):\n",
    "        size, term, tnr, fnr = rec['size'], rec['term'], rec['tnr'], rec['fnr']\n",
    "        print('{:18s} TNR: {:.4f}\\tFNR: {:.4f}\\texamples: {} ({:.1f}%)'.format(\n",
    "            term, tnr, fnr, size, 100 * (size / len(madlibs)))) \n",
    "\n",
    "print_terms_negative_rates()"
   ]
  },
  {
   "cell_type": "code",
   "execution_count": null,
   "metadata": {
    "collapsed": true
   },
   "outputs": [],
   "source": []
  },
  {
   "cell_type": "code",
   "execution_count": null,
   "metadata": {
    "collapsed": true
   },
   "outputs": [],
   "source": []
  }
 ],
 "metadata": {
  "kernelspec": {
   "display_name": "Python 2",
   "language": "python",
   "name": "python2"
  },
  "language_info": {
   "codemirror_mode": {
    "name": "ipython",
    "version": 2
   },
   "file_extension": ".py",
   "mimetype": "text/x-python",
   "name": "python",
   "nbconvert_exporter": "python",
   "pygments_lexer": "ipython2",
   "version": "2.7.13"
  }
 },
 "nbformat": 4,
 "nbformat_minor": 2
}
