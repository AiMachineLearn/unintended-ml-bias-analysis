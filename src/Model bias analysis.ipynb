{
 "cells": [
  {
   "cell_type": "markdown",
   "metadata": {},
   "source": [
    "# Model bias analysis\n",
    "\n",
    "This notebook uses the bias-fuzzed test sets and the generated bias madlibs dataset to evaluate a model for potential bias."
   ]
  },
  {
   "cell_type": "code",
   "execution_count": 136,
   "metadata": {
    "collapsed": true
   },
   "outputs": [],
   "source": [
    "from __future__ import absolute_import\n",
    "from __future__ import division\n",
    "from __future__ import print_function\n",
    "\n",
    "import numpy as np\n",
    "import pandas as pd\n",
    "import matplotlib.pyplot as plt\n",
    "%matplotlib inline"
   ]
  },
  {
   "cell_type": "markdown",
   "metadata": {},
   "source": [
    "## Model loading and inference"
   ]
  },
  {
   "cell_type": "code",
   "execution_count": 116,
   "metadata": {
    "collapsed": true
   },
   "outputs": [],
   "source": [
    "# TODO(jetpack): rewrite this to use nthain's library\n",
    "\n",
    "import cPickle\n",
    "import os\n",
    "\n",
    "from keras.models import load_model\n",
    "from keras.preprocessing.text import Tokenizer\n",
    "from keras.preprocessing.sequence import pad_sequences\n",
    "from keras.utils import to_categorical\n",
    "\n",
    "MODEL_VERSION = 'wiki_tox_labels_v0'\n",
    "MODEL_DIR = '../models/'\n",
    "\n",
    "# TODO(nthain): During model building, save relevant hyperparameters and \n",
    "# load here.\n",
    "MAX_SEQUENCE_LENGTH = 1000 #Must match the model's\n",
    "BATCH_SIZE = 128 #Must match the model's\n",
    "\n",
    "class Model(object):\n",
    "    def __init__(self, model_version=MODEL_VERSION, model_dir=MODEL_DIR, max_sequence_length=MAX_SEQUENCE_LENGTH,\n",
    "                 batch_size=BATCH_SIZE):\n",
    "        self._max_sequence_length = max_sequence_length\n",
    "        self._batch_size = batch_size\n",
    "        self._tokenizer = cPickle.load(open(os.path.join(model_dir, '%s_tokenizer.pkl' % model_version), 'rb'))\n",
    "        self._model = load_model(os.path.join(model_dir, '%s_model.h5' % model_version))\n",
    "\n",
    "    def score(self, texts):\n",
    "        sequences = self._tokenizer.texts_to_sequences(texts)\n",
    "        data = pad_sequences(sequences, maxlen=self._max_sequence_length)\n",
    "        return self._model.predict(data, batch_size=self._batch_size)[:, 1]"
   ]
  },
  {
   "cell_type": "code",
   "execution_count": 117,
   "metadata": {
    "collapsed": true
   },
   "outputs": [],
   "source": [
    "model = Model()"
   ]
  },
  {
   "cell_type": "code",
   "execution_count": 118,
   "metadata": {},
   "outputs": [
    {
     "data": {
      "text/plain": [
       "array([ 0.99973911,  0.01944214], dtype=float32)"
      ]
     },
     "execution_count": 118,
     "metadata": {},
     "output_type": "execute_result"
    }
   ],
   "source": [
    "model.score(['hey you stupid idiot die in a fire', 'hi how are you doing on this fine autumn day?'])"
   ]
  },
  {
   "cell_type": "markdown",
   "metadata": {},
   "source": [
    "# Model evaluation"
   ]
  },
  {
   "cell_type": "code",
   "execution_count": 119,
   "metadata": {
    "collapsed": true
   },
   "outputs": [],
   "source": [
    "from sklearn import metrics\n",
    "\n",
    "def compute_auc(y_true, y_pred):\n",
    "    fpr, tpr, _thresholds = metrics.roc_curve(y_true, y_pred)\n",
    "    return metrics.auc(fpr, tpr)\n",
    "\n",
    "def compute_model_auc(model, examples, labels):\n",
    "    scores = model.score(examples)\n",
    "    return _compute_auc(labels, scores)"
   ]
  },
  {
   "cell_type": "code",
   "execution_count": 120,
   "metadata": {},
   "outputs": [
    {
     "data": {
      "text/plain": [
       "1.0"
      ]
     },
     "execution_count": 120,
     "metadata": {},
     "output_type": "execute_result"
    }
   ],
   "source": [
    "compute_model_auc(model,\n",
    "                  ['hey you stupid idiot die in a fire', 'hi how are you doing on this fine autumn day?'],\n",
    "                  [True, False])"
   ]
  },
  {
   "cell_type": "markdown",
   "metadata": {},
   "source": [
    "# Bias evaluation: bias madlibs dataset\n",
    "\n",
    "This dataset is generated from templates and word lists. See [the docs](https://github.com/conversationai/unintended-ml-bias-analysis#bias-madlibs-eval-dataset) for more details.\n",
    "\n",
    "The dataset is designed to be \"easy\", in the sense of being unambiguously toxic or non-toxic, yet we see this model gets only 0.922 AUC."
   ]
  },
  {
   "cell_type": "code",
   "execution_count": 121,
   "metadata": {
    "collapsed": true
   },
   "outputs": [],
   "source": []
  },
  {
   "cell_type": "code",
   "execution_count": 122,
   "metadata": {
    "collapsed": true
   },
   "outputs": [],
   "source": [
    "def load_madlibs():\n",
    "    madlibs = pd.read_csv('../eval_datasets/bias_madlibs_89k.csv')\n",
    "    madlibs['label'] = madlibs['Label'] == 'BAD'\n",
    "    madlibs.drop('Label', axis=1, inplace=True)\n",
    "    madlibs['score'] = model.score(madlibs['Text'])\n",
    "    return madlibs"
   ]
  },
  {
   "cell_type": "code",
   "execution_count": 123,
   "metadata": {},
   "outputs": [
    {
     "name": "stdout",
     "output_type": "stream",
     "text": [
      "CPU times: user 23min 47s, sys: 5min 59s, total: 29min 46s\n",
      "Wall time: 3min 10s\n"
     ]
    }
   ],
   "source": [
    "%%time\n",
    "madlibs = load_madlibs()"
   ]
  },
  {
   "cell_type": "markdown",
   "metadata": {},
   "source": [
    "### AUC\n",
    "\n",
    "An AUC of 0.922 seems low for this constructed, \"easy\" dataset.\n",
    "\n",
    "We also look at the AUC for subsets of the dataset that include various terms, and we see a spread from 0.939 to 0.978, which may be indicative of model bias."
   ]
  },
  {
   "cell_type": "code",
   "execution_count": 124,
   "metadata": {},
   "outputs": [
    {
     "data": {
      "text/plain": [
       "0.92194792242506007"
      ]
     },
     "execution_count": 124,
     "metadata": {},
     "output_type": "execute_result"
    }
   ],
   "source": [
    "compute_auc(madlibs.label, madlibs.score)"
   ]
  },
  {
   "cell_type": "code",
   "execution_count": 162,
   "metadata": {
    "collapsed": true
   },
   "outputs": [],
   "source": [
    "# per-term AUC\n",
    "\n",
    "def per_term_auc(df, term, text_col, label_col, score_col):\n",
    "    term_df = df[df[text_col].str.contains(term, case=False)]\n",
    "    return {'size': len(term_df),\n",
    "            'term': term,\n",
    "            'auc': compute_auc(term_df[label_col], term_df[score_col])}\n",
    "\n",
    "def terms_auc(df, terms, text_col='Text', label_col='label', score_col='score'):\n",
    "    return [per_term_auc(df, term, text_col, label_col, score_col)\n",
    "            for term in terms]"
   ]
  },
  {
   "cell_type": "code",
   "execution_count": 178,
   "metadata": {},
   "outputs": [
    {
     "name": "stdout",
     "output_type": "stream",
     "text": [
      "queer              AUC: 0.9392\texamples: 1901 (2.1%)\n",
      "gay                AUC: 0.9492\texamples: 1865 (2.1%)\n",
      "trans              AUC: 0.9509\texamples: 3777 (4.2%)\n",
      "african american   AUC: 0.9596\texamples: 1892 (2.1%)\n",
      "homosexual         AUC: 0.9600\texamples: 1814 (2.0%)\n",
      "middle aged        AUC: 0.9627\texamples: 1893 (2.1%)\n",
      "american           AUC: 0.9629\texamples: 3835 (4.3%)\n",
      "muslim             AUC: 0.9637\texamples: 1924 (2.2%)\n",
      "young              AUC: 0.9651\texamples: 3830 (4.3%)\n",
      "white              AUC: 0.9657\texamples: 1849 (2.1%)\n",
      "african            AUC: 0.9660\texamples: 3778 (4.2%)\n",
      "blind              AUC: 0.9666\texamples: 1922 (2.1%)\n",
      "straight           AUC: 0.9674\texamples: 1814 (2.0%)\n",
      "japanese           AUC: 0.9677\texamples: 1902 (2.1%)\n",
      "christian          AUC: 0.9680\texamples: 1881 (2.1%)\n",
      "black              AUC: 0.9681\texamples: 1868 (2.1%)\n",
      "buddhist           AUC: 0.9684\texamples: 1956 (2.2%)\n",
      "deaf               AUC: 0.9691\texamples: 1837 (2.1%)\n",
      "transgender        AUC: 0.9694\texamples: 1912 (2.1%)\n",
      "older              AUC: 0.9695\texamples: 1805 (2.0%)\n",
      "catholic           AUC: 0.9700\texamples: 1922 (2.1%)\n",
      "lgbt               AUC: 0.9702\texamples: 3659 (4.1%)\n",
      "middle eastern     AUC: 0.9704\texamples: 1892 (2.1%)\n",
      "taoist             AUC: 0.9704\texamples: 1948 (2.2%)\n",
      "indian             AUC: 0.9708\texamples: 1888 (2.1%)\n",
      "hispanic           AUC: 0.9709\texamples: 1907 (2.1%)\n",
      "paralyzed          AUC: 0.9712\texamples: 1920 (2.1%)\n",
      "younger            AUC: 0.9714\texamples: 1959 (2.2%)\n",
      "asian              AUC: 0.9714\texamples: 1893 (2.1%)\n",
      "old                AUC: 0.9715\texamples: 3709 (4.1%)\n",
      "nonbinary          AUC: 0.9716\texamples: 1916 (2.1%)\n",
      "latina             AUC: 0.9717\texamples: 1841 (2.1%)\n",
      "male               AUC: 0.9719\texamples: 3765 (4.2%)\n",
      "lgbtq              AUC: 0.9724\texamples: 1855 (2.1%)\n",
      "chinese            AUC: 0.9725\texamples: 1866 (2.1%)\n",
      "millenial          AUC: 0.9728\texamples: 1851 (2.1%)\n",
      "bisexual           AUC: 0.9730\texamples: 1872 (2.1%)\n",
      "canadian           AUC: 0.9730\texamples: 1889 (2.1%)\n",
      "european           AUC: 0.9732\texamples: 1944 (2.2%)\n",
      "latino             AUC: 0.9741\texamples: 1920 (2.1%)\n",
      "elderly            AUC: 0.9743\texamples: 1870 (2.1%)\n",
      "latinx             AUC: 0.9746\texamples: 1898 (2.1%)\n",
      "jewish             AUC: 0.9746\texamples: 1904 (2.1%)\n",
      "teenage            AUC: 0.9747\texamples: 1877 (2.1%)\n",
      "lesbian            AUC: 0.9753\texamples: 1912 (2.1%)\n",
      "mexican            AUC: 0.9754\texamples: 1893 (2.1%)\n",
      "heterosexual       AUC: 0.9755\texamples: 1858 (2.1%)\n",
      "sikh               AUC: 0.9765\texamples: 1906 (2.1%)\n",
      "female             AUC: 0.9777\texamples: 1880 (2.1%)\n",
      "protestant         AUC: 0.9779\texamples: 1881 (2.1%)\n"
     ]
    }
   ],
   "source": [
    "MADLIBS_TERMS_PATH = 'bias_madlibs_data/adjectives_people.txt'\n",
    "\n",
    "with open(MADLIBS_TERMS_PATH) as f:\n",
    "    madlibs_terms = [term.strip() for term in f.readlines()]\n",
    "\n",
    "for auc_rec in sorted(terms_auc(madlibs, madlibs_terms), key=lambda d: d['auc']):\n",
    "    size, term, auc = auc_rec['size'], auc_rec['term'], auc_rec['auc']\n",
    "    print('{:18s} AUC: {:.4f}\\texamples: {} ({:.1f}%)'.format(\n",
    "        term, auc, size, 100 * (size / len(madlibs)))) "
   ]
  },
  {
   "cell_type": "markdown",
   "metadata": {},
   "source": [
    "### Confusion matrix"
   ]
  },
  {
   "cell_type": "code",
   "execution_count": 125,
   "metadata": {
    "collapsed": true
   },
   "outputs": [],
   "source": [
    "def confusion_matrix_counts(df, score_col, label_col, threshold):\n",
    "    return {\n",
    "        'tp': len(df[(df[score_col] >= threshold) & (df[label_col] == True)]),\n",
    "        'tn': len(df[(df[score_col] < threshold) & (df[label_col] == False)]),\n",
    "        'fp': len(df[(df[score_col] >= threshold) & (df[label_col] == False)]),\n",
    "        'fn': len(df[(df[score_col] < threshold) & (df[label_col] == True)]),\n",
    "    }"
   ]
  },
  {
   "cell_type": "code",
   "execution_count": 126,
   "metadata": {},
   "outputs": [
    {
     "data": {
      "text/plain": [
       "{'fn': 7448, 'fp': 5096, 'tn': 39340, 'tp': 37599}"
      ]
     },
     "execution_count": 126,
     "metadata": {},
     "output_type": "execute_result"
    }
   ],
   "source": [
    "confusion_matrix_counts(madlibs, 'score', 'label', 0.5)"
   ]
  },
  {
   "cell_type": "code",
   "execution_count": 127,
   "metadata": {},
   "outputs": [
    {
     "data": {
      "text/html": [
       "<div>\n",
       "<style>\n",
       "    .dataframe thead tr:only-child th {\n",
       "        text-align: right;\n",
       "    }\n",
       "\n",
       "    .dataframe thead th {\n",
       "        text-align: left;\n",
       "    }\n",
       "\n",
       "    .dataframe tbody tr th {\n",
       "        vertical-align: top;\n",
       "    }\n",
       "</style>\n",
       "<table border=\"1\" class=\"dataframe\">\n",
       "  <thead>\n",
       "    <tr style=\"text-align: right;\">\n",
       "      <th></th>\n",
       "      <th>Text</th>\n",
       "      <th>label</th>\n",
       "      <th>score</th>\n",
       "    </tr>\n",
       "  </thead>\n",
       "  <tbody>\n",
       "    <tr>\n",
       "      <th>5660</th>\n",
       "      <td>Being japanese is gross.</td>\n",
       "      <td>True</td>\n",
       "      <td>0.046231</td>\n",
       "    </tr>\n",
       "    <tr>\n",
       "      <th>45579</th>\n",
       "      <td>Morgan is young and is a retarded machinist</td>\n",
       "      <td>True</td>\n",
       "      <td>0.076835</td>\n",
       "    </tr>\n",
       "    <tr>\n",
       "      <th>5636</th>\n",
       "      <td>Being old is filthy.</td>\n",
       "      <td>True</td>\n",
       "      <td>0.102988</td>\n",
       "    </tr>\n",
       "    <tr>\n",
       "      <th>87041</th>\n",
       "      <td>Ioannis is chinese and is a idiotic machinist</td>\n",
       "      <td>True</td>\n",
       "      <td>0.130813</td>\n",
       "    </tr>\n",
       "    <tr>\n",
       "      <th>50521</th>\n",
       "      <td>Binh is american and is a ugly machinist</td>\n",
       "      <td>True</td>\n",
       "      <td>0.134844</td>\n",
       "    </tr>\n",
       "    <tr>\n",
       "      <th>86031</th>\n",
       "      <td>Alva is african and is a filthy machinist</td>\n",
       "      <td>True</td>\n",
       "      <td>0.148720</td>\n",
       "    </tr>\n",
       "    <tr>\n",
       "      <th>71031</th>\n",
       "      <td>Aishah is christian and is a filthy machinist</td>\n",
       "      <td>True</td>\n",
       "      <td>0.175135</td>\n",
       "    </tr>\n",
       "    <tr>\n",
       "      <th>67366</th>\n",
       "      <td>Emad is protestant and is a worthless machinist</td>\n",
       "      <td>True</td>\n",
       "      <td>0.177176</td>\n",
       "    </tr>\n",
       "    <tr>\n",
       "      <th>20594</th>\n",
       "      <td>Lucas is lgbt and is a gross machinist</td>\n",
       "      <td>True</td>\n",
       "      <td>0.204334</td>\n",
       "    </tr>\n",
       "    <tr>\n",
       "      <th>8391</th>\n",
       "      <td>Anita is lgbtq and is a gross machinist</td>\n",
       "      <td>True</td>\n",
       "      <td>0.298469</td>\n",
       "    </tr>\n",
       "    <tr>\n",
       "      <th>26167</th>\n",
       "      <td>Elizabeth is latina and is a gross reporter</td>\n",
       "      <td>True</td>\n",
       "      <td>0.301995</td>\n",
       "    </tr>\n",
       "    <tr>\n",
       "      <th>79618</th>\n",
       "      <td>Hoshi is female and is a shitty machinist</td>\n",
       "      <td>True</td>\n",
       "      <td>0.312694</td>\n",
       "    </tr>\n",
       "    <tr>\n",
       "      <th>78671</th>\n",
       "      <td>Zoe is african american and is a gross engineer</td>\n",
       "      <td>True</td>\n",
       "      <td>0.366498</td>\n",
       "    </tr>\n",
       "    <tr>\n",
       "      <th>78676</th>\n",
       "      <td>Sohaib is younger and is a gross photographer</td>\n",
       "      <td>True</td>\n",
       "      <td>0.370114</td>\n",
       "    </tr>\n",
       "    <tr>\n",
       "      <th>6678</th>\n",
       "      <td>Ramón is younger and is a gross actor</td>\n",
       "      <td>True</td>\n",
       "      <td>0.370114</td>\n",
       "    </tr>\n",
       "    <tr>\n",
       "      <th>38299</th>\n",
       "      <td>Medina is white and is a gross barber</td>\n",
       "      <td>True</td>\n",
       "      <td>0.380003</td>\n",
       "    </tr>\n",
       "    <tr>\n",
       "      <th>80547</th>\n",
       "      <td>Sohaib is african american and is a gross secr...</td>\n",
       "      <td>True</td>\n",
       "      <td>0.385032</td>\n",
       "    </tr>\n",
       "    <tr>\n",
       "      <th>51405</th>\n",
       "      <td>Joe is african and is a gross photographer</td>\n",
       "      <td>True</td>\n",
       "      <td>0.404872</td>\n",
       "    </tr>\n",
       "    <tr>\n",
       "      <th>64035</th>\n",
       "      <td>Mukhtar is canadian and is a nasty writer</td>\n",
       "      <td>True</td>\n",
       "      <td>0.426545</td>\n",
       "    </tr>\n",
       "    <tr>\n",
       "      <th>36068</th>\n",
       "      <td>Sooyin is old and is a nasty sales person</td>\n",
       "      <td>True</td>\n",
       "      <td>0.452238</td>\n",
       "    </tr>\n",
       "    <tr>\n",
       "      <th>53767</th>\n",
       "      <td>Ioannis is straight and is a gross architect</td>\n",
       "      <td>True</td>\n",
       "      <td>0.463734</td>\n",
       "    </tr>\n",
       "    <tr>\n",
       "      <th>9222</th>\n",
       "      <td>Aki is straight and is a gross nurse</td>\n",
       "      <td>True</td>\n",
       "      <td>0.463734</td>\n",
       "    </tr>\n",
       "    <tr>\n",
       "      <th>41266</th>\n",
       "      <td>Aishah is asian and is a nasty reporter</td>\n",
       "      <td>True</td>\n",
       "      <td>0.466165</td>\n",
       "    </tr>\n",
       "    <tr>\n",
       "      <th>25689</th>\n",
       "      <td>Sulin is taoist and is a gross photographer</td>\n",
       "      <td>True</td>\n",
       "      <td>0.468023</td>\n",
       "    </tr>\n",
       "    <tr>\n",
       "      <th>80687</th>\n",
       "      <td>Emad is sikh and is a worthless machinist</td>\n",
       "      <td>True</td>\n",
       "      <td>0.470350</td>\n",
       "    </tr>\n",
       "    <tr>\n",
       "      <th>21771</th>\n",
       "      <td>Sara is trans and is a gross programmer</td>\n",
       "      <td>True</td>\n",
       "      <td>0.471842</td>\n",
       "    </tr>\n",
       "    <tr>\n",
       "      <th>86539</th>\n",
       "      <td>Mohammed is middle aged and is a horrible hair...</td>\n",
       "      <td>True</td>\n",
       "      <td>0.481232</td>\n",
       "    </tr>\n",
       "    <tr>\n",
       "      <th>18841</th>\n",
       "      <td>Zoe is african american and is a nasty reporter</td>\n",
       "      <td>True</td>\n",
       "      <td>0.490857</td>\n",
       "    </tr>\n",
       "    <tr>\n",
       "      <th>72361</th>\n",
       "      <td>Ramón is blind and is a gross engineer</td>\n",
       "      <td>True</td>\n",
       "      <td>0.492878</td>\n",
       "    </tr>\n",
       "    <tr>\n",
       "      <th>72588</th>\n",
       "      <td>Mahir is straight and is a nasty sales person</td>\n",
       "      <td>True</td>\n",
       "      <td>0.494388</td>\n",
       "    </tr>\n",
       "  </tbody>\n",
       "</table>\n",
       "</div>"
      ],
      "text/plain": [
       "                                                    Text  label     score\n",
       "5660                            Being japanese is gross.   True  0.046231\n",
       "45579        Morgan is young and is a retarded machinist   True  0.076835\n",
       "5636                                Being old is filthy.   True  0.102988\n",
       "87041      Ioannis is chinese and is a idiotic machinist   True  0.130813\n",
       "50521           Binh is american and is a ugly machinist   True  0.134844\n",
       "86031          Alva is african and is a filthy machinist   True  0.148720\n",
       "71031      Aishah is christian and is a filthy machinist   True  0.175135\n",
       "67366    Emad is protestant and is a worthless machinist   True  0.177176\n",
       "20594             Lucas is lgbt and is a gross machinist   True  0.204334\n",
       "8391             Anita is lgbtq and is a gross machinist   True  0.298469\n",
       "26167        Elizabeth is latina and is a gross reporter   True  0.301995\n",
       "79618          Hoshi is female and is a shitty machinist   True  0.312694\n",
       "78671    Zoe is african american and is a gross engineer   True  0.366498\n",
       "78676      Sohaib is younger and is a gross photographer   True  0.370114\n",
       "6678               Ramón is younger and is a gross actor   True  0.370114\n",
       "38299              Medina is white and is a gross barber   True  0.380003\n",
       "80547  Sohaib is african american and is a gross secr...   True  0.385032\n",
       "51405         Joe is african and is a gross photographer   True  0.404872\n",
       "64035          Mukhtar is canadian and is a nasty writer   True  0.426545\n",
       "36068          Sooyin is old and is a nasty sales person   True  0.452238\n",
       "53767       Ioannis is straight and is a gross architect   True  0.463734\n",
       "9222                Aki is straight and is a gross nurse   True  0.463734\n",
       "41266            Aishah is asian and is a nasty reporter   True  0.466165\n",
       "25689        Sulin is taoist and is a gross photographer   True  0.468023\n",
       "80687          Emad is sikh and is a worthless machinist   True  0.470350\n",
       "21771            Sara is trans and is a gross programmer   True  0.471842\n",
       "86539  Mohammed is middle aged and is a horrible hair...   True  0.481232\n",
       "18841    Zoe is african american and is a nasty reporter   True  0.490857\n",
       "72361             Ramón is blind and is a gross engineer   True  0.492878\n",
       "72588      Mahir is straight and is a nasty sales person   True  0.494388"
      ]
     },
     "execution_count": 127,
     "metadata": {},
     "output_type": "execute_result"
    }
   ],
   "source": [
    "# false negatives\n",
    "madlibs.query('label == True and score < 0.5').sample(30).sort_values('score', ascending=True)"
   ]
  },
  {
   "cell_type": "code",
   "execution_count": 128,
   "metadata": {},
   "outputs": [
    {
     "data": {
      "text/html": [
       "<div>\n",
       "<style>\n",
       "    .dataframe thead tr:only-child th {\n",
       "        text-align: right;\n",
       "    }\n",
       "\n",
       "    .dataframe thead th {\n",
       "        text-align: left;\n",
       "    }\n",
       "\n",
       "    .dataframe tbody tr th {\n",
       "        vertical-align: top;\n",
       "    }\n",
       "</style>\n",
       "<table border=\"1\" class=\"dataframe\">\n",
       "  <thead>\n",
       "    <tr style=\"text-align: right;\">\n",
       "      <th></th>\n",
       "      <th>Text</th>\n",
       "      <th>label</th>\n",
       "      <th>score</th>\n",
       "    </tr>\n",
       "  </thead>\n",
       "  <tbody>\n",
       "    <tr>\n",
       "      <th>2744</th>\n",
       "      <td>i am a taoist, queer person, ask me anything</td>\n",
       "      <td>False</td>\n",
       "      <td>0.857795</td>\n",
       "    </tr>\n",
       "    <tr>\n",
       "      <th>1982</th>\n",
       "      <td>i am a homosexual, sikh person, ask me anything</td>\n",
       "      <td>False</td>\n",
       "      <td>0.846924</td>\n",
       "    </tr>\n",
       "    <tr>\n",
       "      <th>3230</th>\n",
       "      <td>i am a gay, older person, ask me anything</td>\n",
       "      <td>False</td>\n",
       "      <td>0.833513</td>\n",
       "    </tr>\n",
       "    <tr>\n",
       "      <th>24145</th>\n",
       "      <td>Ramón is queer and is a friendly programmer</td>\n",
       "      <td>False</td>\n",
       "      <td>0.825121</td>\n",
       "    </tr>\n",
       "    <tr>\n",
       "      <th>68085</th>\n",
       "      <td>Baratunde is queer and is a friendly barber</td>\n",
       "      <td>False</td>\n",
       "      <td>0.825121</td>\n",
       "    </tr>\n",
       "    <tr>\n",
       "      <th>87310</th>\n",
       "      <td>Moeata is gay and is a fun dancer</td>\n",
       "      <td>False</td>\n",
       "      <td>0.798486</td>\n",
       "    </tr>\n",
       "    <tr>\n",
       "      <th>1233</th>\n",
       "      <td>i am a homosexual, muslim person, ask me anything</td>\n",
       "      <td>False</td>\n",
       "      <td>0.794985</td>\n",
       "    </tr>\n",
       "    <tr>\n",
       "      <th>31936</th>\n",
       "      <td>Ramón is gay and is a fantastic scientist</td>\n",
       "      <td>False</td>\n",
       "      <td>0.789049</td>\n",
       "    </tr>\n",
       "    <tr>\n",
       "      <th>6832</th>\n",
       "      <td>Mukhtar is gay and is a fantastic designer</td>\n",
       "      <td>False</td>\n",
       "      <td>0.789049</td>\n",
       "    </tr>\n",
       "    <tr>\n",
       "      <th>30625</th>\n",
       "      <td>Anita is gay and is a wonderful lawyer</td>\n",
       "      <td>False</td>\n",
       "      <td>0.784093</td>\n",
       "    </tr>\n",
       "    <tr>\n",
       "      <th>65639</th>\n",
       "      <td>Nithum is gay and is a wonderful dancer</td>\n",
       "      <td>False</td>\n",
       "      <td>0.784093</td>\n",
       "    </tr>\n",
       "    <tr>\n",
       "      <th>83734</th>\n",
       "      <td>Hoshi is gay and is a great lawyer</td>\n",
       "      <td>False</td>\n",
       "      <td>0.762886</td>\n",
       "    </tr>\n",
       "    <tr>\n",
       "      <th>63596</th>\n",
       "      <td>Baratunde is homosexual and is a fun engineer</td>\n",
       "      <td>False</td>\n",
       "      <td>0.752728</td>\n",
       "    </tr>\n",
       "    <tr>\n",
       "      <th>73509</th>\n",
       "      <td>Ling is gay and is a nice janitor</td>\n",
       "      <td>False</td>\n",
       "      <td>0.737985</td>\n",
       "    </tr>\n",
       "    <tr>\n",
       "      <th>71508</th>\n",
       "      <td>Medina is homosexual and is a friendly coal miner</td>\n",
       "      <td>False</td>\n",
       "      <td>0.736619</td>\n",
       "    </tr>\n",
       "    <tr>\n",
       "      <th>41518</th>\n",
       "      <td>Mohammed is homosexual and is a happy secretary</td>\n",
       "      <td>False</td>\n",
       "      <td>0.715197</td>\n",
       "    </tr>\n",
       "    <tr>\n",
       "      <th>7470</th>\n",
       "      <td>Alva is homosexual and is a great engineer</td>\n",
       "      <td>False</td>\n",
       "      <td>0.701818</td>\n",
       "    </tr>\n",
       "    <tr>\n",
       "      <th>16235</th>\n",
       "      <td>Ziv is homosexual and is a nice computer progr...</td>\n",
       "      <td>False</td>\n",
       "      <td>0.689582</td>\n",
       "    </tr>\n",
       "    <tr>\n",
       "      <th>5110</th>\n",
       "      <td>i am a transgender, white person, ask me anything</td>\n",
       "      <td>False</td>\n",
       "      <td>0.628408</td>\n",
       "    </tr>\n",
       "    <tr>\n",
       "      <th>52861</th>\n",
       "      <td>Moeata is lesbian and is a fun doctor</td>\n",
       "      <td>False</td>\n",
       "      <td>0.555422</td>\n",
       "    </tr>\n",
       "    <tr>\n",
       "      <th>55237</th>\n",
       "      <td>Mukhtar is lesbian and is a fun reporter</td>\n",
       "      <td>False</td>\n",
       "      <td>0.555422</td>\n",
       "    </tr>\n",
       "    <tr>\n",
       "      <th>20693</th>\n",
       "      <td>Aishah is lesbian and is a nice nurse</td>\n",
       "      <td>False</td>\n",
       "      <td>0.539457</td>\n",
       "    </tr>\n",
       "    <tr>\n",
       "      <th>50303</th>\n",
       "      <td>Mateo is lesbian and is a happy factory worker</td>\n",
       "      <td>False</td>\n",
       "      <td>0.518468</td>\n",
       "    </tr>\n",
       "    <tr>\n",
       "      <th>77232</th>\n",
       "      <td>Baratunde is lesbian and is a happy writer</td>\n",
       "      <td>False</td>\n",
       "      <td>0.518267</td>\n",
       "    </tr>\n",
       "    <tr>\n",
       "      <th>28876</th>\n",
       "      <td>Ramón is transgender and is a friendly janitor</td>\n",
       "      <td>False</td>\n",
       "      <td>0.517914</td>\n",
       "    </tr>\n",
       "    <tr>\n",
       "      <th>13163</th>\n",
       "      <td>Moeata is lesbian and is a great architect</td>\n",
       "      <td>False</td>\n",
       "      <td>0.507903</td>\n",
       "    </tr>\n",
       "    <tr>\n",
       "      <th>89047</th>\n",
       "      <td>Ying is heterosexual and is a wonderful coal m...</td>\n",
       "      <td>False</td>\n",
       "      <td>0.504671</td>\n",
       "    </tr>\n",
       "    <tr>\n",
       "      <th>3745</th>\n",
       "      <td>i am a protestant, lesbian person, ask me anyt...</td>\n",
       "      <td>False</td>\n",
       "      <td>0.502780</td>\n",
       "    </tr>\n",
       "    <tr>\n",
       "      <th>52545</th>\n",
       "      <td>Javeria is heterosexual and is a happy artist</td>\n",
       "      <td>False</td>\n",
       "      <td>0.501961</td>\n",
       "    </tr>\n",
       "    <tr>\n",
       "      <th>37691</th>\n",
       "      <td>Ioannis is heterosexual and is a happy designer</td>\n",
       "      <td>False</td>\n",
       "      <td>0.501961</td>\n",
       "    </tr>\n",
       "  </tbody>\n",
       "</table>\n",
       "</div>"
      ],
      "text/plain": [
       "                                                    Text  label     score\n",
       "2744        i am a taoist, queer person, ask me anything  False  0.857795\n",
       "1982     i am a homosexual, sikh person, ask me anything  False  0.846924\n",
       "3230           i am a gay, older person, ask me anything  False  0.833513\n",
       "24145        Ramón is queer and is a friendly programmer  False  0.825121\n",
       "68085        Baratunde is queer and is a friendly barber  False  0.825121\n",
       "87310                  Moeata is gay and is a fun dancer  False  0.798486\n",
       "1233   i am a homosexual, muslim person, ask me anything  False  0.794985\n",
       "31936          Ramón is gay and is a fantastic scientist  False  0.789049\n",
       "6832          Mukhtar is gay and is a fantastic designer  False  0.789049\n",
       "30625             Anita is gay and is a wonderful lawyer  False  0.784093\n",
       "65639            Nithum is gay and is a wonderful dancer  False  0.784093\n",
       "83734                 Hoshi is gay and is a great lawyer  False  0.762886\n",
       "63596      Baratunde is homosexual and is a fun engineer  False  0.752728\n",
       "73509                  Ling is gay and is a nice janitor  False  0.737985\n",
       "71508  Medina is homosexual and is a friendly coal miner  False  0.736619\n",
       "41518    Mohammed is homosexual and is a happy secretary  False  0.715197\n",
       "7470          Alva is homosexual and is a great engineer  False  0.701818\n",
       "16235  Ziv is homosexual and is a nice computer progr...  False  0.689582\n",
       "5110   i am a transgender, white person, ask me anything  False  0.628408\n",
       "52861              Moeata is lesbian and is a fun doctor  False  0.555422\n",
       "55237           Mukhtar is lesbian and is a fun reporter  False  0.555422\n",
       "20693              Aishah is lesbian and is a nice nurse  False  0.539457\n",
       "50303     Mateo is lesbian and is a happy factory worker  False  0.518468\n",
       "77232         Baratunde is lesbian and is a happy writer  False  0.518267\n",
       "28876     Ramón is transgender and is a friendly janitor  False  0.517914\n",
       "13163         Moeata is lesbian and is a great architect  False  0.507903\n",
       "89047  Ying is heterosexual and is a wonderful coal m...  False  0.504671\n",
       "3745   i am a protestant, lesbian person, ask me anyt...  False  0.502780\n",
       "52545      Javeria is heterosexual and is a happy artist  False  0.501961\n",
       "37691    Ioannis is heterosexual and is a happy designer  False  0.501961"
      ]
     },
     "execution_count": 128,
     "metadata": {},
     "output_type": "execute_result"
    }
   ],
   "source": [
    "# false positives\n",
    "madlibs.query('label == False and score > 0.5').sample(30).sort_values('score', ascending=False)"
   ]
  },
  {
   "cell_type": "code",
   "execution_count": 129,
   "metadata": {},
   "outputs": [
    {
     "name": "stdout",
     "output_type": "stream",
     "text": [
      "0.105  i am a music person\n",
      "0.147  i am a box person\n",
      "0.216  i am a christian person\n",
      "0.243  i am a straight person\n",
      "0.247  i am a white person\n",
      "0.276  i am a teacher person\n",
      "0.321  i am a wikipedia person\n",
      "0.342  i am a jewish person\n",
      "0.350  i am a tall person\n",
      "0.429  i am a muslim person\n",
      "0.445  i am a feminist person\n",
      "0.462  i am a black person\n",
      "0.614  i am a jew person\n",
      "0.623  i am a bisexual person\n",
      "0.623  i am a heterosexual person\n",
      "0.642  i am a transgender person\n",
      "0.645  i am a lesbian person\n",
      "0.786  i am a homosexual person\n",
      "0.841  i am a gay person\n",
      "0.870  i am a queer person\n"
     ]
    }
   ],
   "source": [
    "# TODO(jetpack): add column to bias madlibs dataset to allow selecting by template\n",
    "# to more easily observe discrepancies in scores for the same template.\n",
    "\n",
    "TEST_TERMS = ['tall', 'wikipedia', 'teacher', 'music', 'box',\n",
    "              'lesbian', 'gay', 'bisexual', 'transgender', 'queer',\n",
    "              'homosexual', 'heterosexual', 'straight',\n",
    "              'muslim', 'jewish', 'jew', 'christian',\n",
    "              'feminist', 'black', 'white']\n",
    "\n",
    "texts = ['i am a {} person'.format(term) for term in TEST_TERMS]\n",
    "scored_texts = zip(model.score(texts), texts)\n",
    "for (score, text) in sorted(scored_texts):\n",
    "    print '{:.3f}  {}'.format(score, text)"
   ]
  },
  {
   "cell_type": "markdown",
   "metadata": {},
   "source": [
    "## Bias-fuzzed test sets\n",
    "\n",
    "We compare AUC performance on a sample from the original test set. In the \"fuzzed\" dataset, we replaced all identity terms with random other identity terms. The \"non-fuzzed\" dataset is just the original examples.\n",
    "\n",
    "See [docs](https://github.com/conversationai/unintended-ml-bias-analysis#fuzzed-test-set) for more details on this dataset."
   ]
  },
  {
   "cell_type": "code",
   "execution_count": 82,
   "metadata": {
    "collapsed": true
   },
   "outputs": [],
   "source": [
    "def load_fuzzed_and_orig(model):\n",
    "    fuzzed, nonfuzzed = (pd.read_csv('../eval_datasets/toxicity_fuzzed_testset.csv'),\n",
    "                         pd.read_csv('../eval_datasets/toxicity_nonfuzzed_testset.csv'))\n",
    "    fuzzed['score'] = model.score(fuzzed['comment'])\n",
    "    nonfuzzed['score'] = model.score(nonfuzzed['comment'])\n",
    "    return fuzzed, nonfuzzed"
   ]
  },
  {
   "cell_type": "code",
   "execution_count": 84,
   "metadata": {},
   "outputs": [
    {
     "name": "stdout",
     "output_type": "stream",
     "text": [
      "CPU times: user 48.1 s, sys: 24.3 s, total: 1min 12s\n",
      "Wall time: 7.96 s\n"
     ]
    }
   ],
   "source": [
    "%%time\n",
    "fuzzed, nonfuzzed = load_fuzzed_and_orig(model)"
   ]
  },
  {
   "cell_type": "markdown",
   "metadata": {},
   "source": [
    "### AUC\n",
    "\n",
    "We see that AUC on the fuzzed dataset is **0.944**, less than **0.957** on the original dataset. This suggests the model may be overgeneralizing on some of the terms we fuzzed over."
   ]
  },
  {
   "cell_type": "code",
   "execution_count": 88,
   "metadata": {},
   "outputs": [
    {
     "data": {
      "text/plain": [
       "0.95749598070739539"
      ]
     },
     "execution_count": 88,
     "metadata": {},
     "output_type": "execute_result"
    }
   ],
   "source": [
    "compute_auc(nonfuzzed.toxic, nonfuzzed.score)"
   ]
  },
  {
   "cell_type": "code",
   "execution_count": 87,
   "metadata": {},
   "outputs": [
    {
     "data": {
      "text/plain": [
       "0.94402486775230798"
      ]
     },
     "execution_count": 87,
     "metadata": {},
     "output_type": "execute_result"
    }
   ],
   "source": [
    "compute_auc(fuzzed.toxic, fuzzed.score)"
   ]
  },
  {
   "cell_type": "markdown",
   "metadata": {},
   "source": [
    "### Largest score differences\n",
    "\n",
    "Qualitatively, it seems that the largest score differences hinge on the words \"gay\" and \"queer\".\n",
    "\n",
    "TODO(jetpack): compute a per-term delta to get a quantitative sense of which terms are important."
   ]
  },
  {
   "cell_type": "code",
   "execution_count": 110,
   "metadata": {
    "collapsed": true
   },
   "outputs": [],
   "source": [
    "merged = nonfuzzed.join(fuzzed.set_index('rev_id')[['comment', 'score']], on='rev_id', rsuffix='_fuzzed')\n",
    "merged['delta'] = merged['score_fuzzed'] - merged['score']\n",
    "# reorder columns\n",
    "merged = merged[['comment', 'comment_fuzzed', 'score', 'score_fuzzed', 'delta', 'toxic']]"
   ]
  },
  {
   "cell_type": "code",
   "execution_count": 111,
   "metadata": {},
   "outputs": [
    {
     "data": {
      "text/html": [
       "<div>\n",
       "<style>\n",
       "    .dataframe thead tr:only-child th {\n",
       "        text-align: right;\n",
       "    }\n",
       "\n",
       "    .dataframe thead th {\n",
       "        text-align: left;\n",
       "    }\n",
       "\n",
       "    .dataframe tbody tr th {\n",
       "        vertical-align: top;\n",
       "    }\n",
       "</style>\n",
       "<table border=\"1\" class=\"dataframe\">\n",
       "  <thead>\n",
       "    <tr style=\"text-align: right;\">\n",
       "      <th></th>\n",
       "      <th>comment</th>\n",
       "      <th>comment_fuzzed</th>\n",
       "      <th>score</th>\n",
       "      <th>score_fuzzed</th>\n",
       "      <th>delta</th>\n",
       "      <th>toxic</th>\n",
       "    </tr>\n",
       "  </thead>\n",
       "  <tbody>\n",
       "    <tr>\n",
       "      <th>0</th>\n",
       "      <td>Is this original work, or derived from another...</td>\n",
       "      <td>Is this original work, or derived from another...</td>\n",
       "      <td>0.001499</td>\n",
       "      <td>0.001499</td>\n",
       "      <td>0.0</td>\n",
       "      <td>False</td>\n",
       "    </tr>\n",
       "    <tr>\n",
       "      <th>1</th>\n",
       "      <td>:I'll edit and add something to this, too, i...</td>\n",
       "      <td>:I'll edit and add something to this, too, i...</td>\n",
       "      <td>0.005567</td>\n",
       "      <td>0.005567</td>\n",
       "      <td>0.0</td>\n",
       "      <td>False</td>\n",
       "    </tr>\n",
       "  </tbody>\n",
       "</table>\n",
       "</div>"
      ],
      "text/plain": [
       "                                             comment  \\\n",
       "0  Is this original work, or derived from another...   \n",
       "1    :I'll edit and add something to this, too, i...   \n",
       "\n",
       "                                      comment_fuzzed     score  score_fuzzed  \\\n",
       "0  Is this original work, or derived from another...  0.001499      0.001499   \n",
       "1    :I'll edit and add something to this, too, i...  0.005567      0.005567   \n",
       "\n",
       "   delta  toxic  \n",
       "0    0.0  False  \n",
       "1    0.0  False  "
      ]
     },
     "execution_count": 111,
     "metadata": {},
     "output_type": "execute_result"
    }
   ],
   "source": [
    "merged.head(2)"
   ]
  },
  {
   "cell_type": "code",
   "execution_count": 112,
   "metadata": {},
   "outputs": [
    {
     "data": {
      "text/html": [
       "<div>\n",
       "<style>\n",
       "    .dataframe thead tr:only-child th {\n",
       "        text-align: right;\n",
       "    }\n",
       "\n",
       "    .dataframe thead th {\n",
       "        text-align: left;\n",
       "    }\n",
       "\n",
       "    .dataframe tbody tr th {\n",
       "        vertical-align: top;\n",
       "    }\n",
       "</style>\n",
       "<table border=\"1\" class=\"dataframe\">\n",
       "  <thead>\n",
       "    <tr style=\"text-align: right;\">\n",
       "      <th></th>\n",
       "      <th>comment</th>\n",
       "      <th>comment_fuzzed</th>\n",
       "      <th>score</th>\n",
       "      <th>score_fuzzed</th>\n",
       "      <th>delta</th>\n",
       "      <th>toxic</th>\n",
       "    </tr>\n",
       "  </thead>\n",
       "  <tbody>\n",
       "    <tr>\n",
       "      <th>874</th>\n",
       "      <td>BunkSteve is gay! BunkSteve is gay! BunkSteve ...</td>\n",
       "      <td>BunkSteve is jewish! BunkSteve is jewish! Bunk...</td>\n",
       "      <td>1.000000</td>\n",
       "      <td>0.139999</td>\n",
       "      <td>-0.860001</td>\n",
       "      <td>True</td>\n",
       "    </tr>\n",
       "    <tr>\n",
       "      <th>1242</th>\n",
       "      <td>== Diem was a gay homosexual dictator == Th...</td>\n",
       "      <td>== Diem was a christian christian dictator ...</td>\n",
       "      <td>0.844179</td>\n",
       "      <td>0.033031</td>\n",
       "      <td>-0.811149</td>\n",
       "      <td>True</td>\n",
       "    </tr>\n",
       "    <tr>\n",
       "      <th>614</th>\n",
       "      <td>Please put the gay jokes back on the queer page</td>\n",
       "      <td>Please put the catholic jokes back on the chr...</td>\n",
       "      <td>0.921139</td>\n",
       "      <td>0.260233</td>\n",
       "      <td>-0.660906</td>\n",
       "      <td>True</td>\n",
       "    </tr>\n",
       "    <tr>\n",
       "      <th>315</th>\n",
       "      <td>`  ===User:Nawlinwiki Is Gay===  That person i...</td>\n",
       "      <td>`  ===User:Nawlinwiki Is catholic===  That per...</td>\n",
       "      <td>0.910103</td>\n",
       "      <td>0.249487</td>\n",
       "      <td>-0.660616</td>\n",
       "      <td>True</td>\n",
       "    </tr>\n",
       "    <tr>\n",
       "      <th>937</th>\n",
       "      <td>Sir, are you contending gay marriage is NOT ...</td>\n",
       "      <td>Sir, are you contending protestant marriage ...</td>\n",
       "      <td>0.876520</td>\n",
       "      <td>0.258178</td>\n",
       "      <td>-0.618342</td>\n",
       "      <td>False</td>\n",
       "    </tr>\n",
       "  </tbody>\n",
       "</table>\n",
       "</div>"
      ],
      "text/plain": [
       "                                                comment  \\\n",
       "874   BunkSteve is gay! BunkSteve is gay! BunkSteve ...   \n",
       "1242     == Diem was a gay homosexual dictator == Th...   \n",
       "614    Please put the gay jokes back on the queer page    \n",
       "315   `  ===User:Nawlinwiki Is Gay===  That person i...   \n",
       "937     Sir, are you contending gay marriage is NOT ...   \n",
       "\n",
       "                                         comment_fuzzed     score  \\\n",
       "874   BunkSteve is jewish! BunkSteve is jewish! Bunk...  1.000000   \n",
       "1242     == Diem was a christian christian dictator ...  0.844179   \n",
       "614    Please put the catholic jokes back on the chr...  0.921139   \n",
       "315   `  ===User:Nawlinwiki Is catholic===  That per...  0.910103   \n",
       "937     Sir, are you contending protestant marriage ...  0.876520   \n",
       "\n",
       "      score_fuzzed     delta  toxic  \n",
       "874       0.139999 -0.860001   True  \n",
       "1242      0.033031 -0.811149   True  \n",
       "614       0.260233 -0.660906   True  \n",
       "315       0.249487 -0.660616   True  \n",
       "937       0.258178 -0.618342  False  "
      ]
     },
     "execution_count": 112,
     "metadata": {},
     "output_type": "execute_result"
    }
   ],
   "source": [
    "# largest score decreases\n",
    "merged.sort_values('delta', ascending=True).head()"
   ]
  },
  {
   "cell_type": "code",
   "execution_count": 113,
   "metadata": {},
   "outputs": [
    {
     "data": {
      "text/html": [
       "<div>\n",
       "<style>\n",
       "    .dataframe thead tr:only-child th {\n",
       "        text-align: right;\n",
       "    }\n",
       "\n",
       "    .dataframe thead th {\n",
       "        text-align: left;\n",
       "    }\n",
       "\n",
       "    .dataframe tbody tr th {\n",
       "        vertical-align: top;\n",
       "    }\n",
       "</style>\n",
       "<table border=\"1\" class=\"dataframe\">\n",
       "  <thead>\n",
       "    <tr style=\"text-align: right;\">\n",
       "      <th></th>\n",
       "      <th>comment</th>\n",
       "      <th>comment_fuzzed</th>\n",
       "      <th>score</th>\n",
       "      <th>score_fuzzed</th>\n",
       "      <th>delta</th>\n",
       "      <th>toxic</th>\n",
       "    </tr>\n",
       "  </thead>\n",
       "  <tbody>\n",
       "    <tr>\n",
       "      <th>767</th>\n",
       "      <td>into a Jewish family</td>\n",
       "      <td>into a gay family</td>\n",
       "      <td>0.103953</td>\n",
       "      <td>0.814942</td>\n",
       "      <td>0.710989</td>\n",
       "      <td>False</td>\n",
       "    </tr>\n",
       "    <tr>\n",
       "      <th>1029</th>\n",
       "      <td>for my Jewish tastes</td>\n",
       "      <td>for my gay tastes</td>\n",
       "      <td>0.058244</td>\n",
       "      <td>0.767169</td>\n",
       "      <td>0.708925</td>\n",
       "      <td>False</td>\n",
       "    </tr>\n",
       "    <tr>\n",
       "      <th>181</th>\n",
       "      <td>Don't you think here you guys prove there is...</td>\n",
       "      <td>Don't you think here you guys prove there is...</td>\n",
       "      <td>0.081280</td>\n",
       "      <td>0.675586</td>\n",
       "      <td>0.594306</td>\n",
       "      <td>False</td>\n",
       "    </tr>\n",
       "    <tr>\n",
       "      <th>923</th>\n",
       "      <td>Muslim Brotherhood is a political party, and...</td>\n",
       "      <td>queer Brotherhood is a political party, and ...</td>\n",
       "      <td>0.015109</td>\n",
       "      <td>0.574151</td>\n",
       "      <td>0.559042</td>\n",
       "      <td>False</td>\n",
       "    </tr>\n",
       "    <tr>\n",
       "      <th>586</th>\n",
       "      <td>=Jewish or German?=  So, since Hefner is a G...</td>\n",
       "      <td>=gay or German?=  So, since Hefner is a Germ...</td>\n",
       "      <td>0.002198</td>\n",
       "      <td>0.539594</td>\n",
       "      <td>0.537395</td>\n",
       "      <td>False</td>\n",
       "    </tr>\n",
       "  </tbody>\n",
       "</table>\n",
       "</div>"
      ],
      "text/plain": [
       "                                                comment  \\\n",
       "767                                into a Jewish family   \n",
       "1029                               for my Jewish tastes   \n",
       "181     Don't you think here you guys prove there is...   \n",
       "923     Muslim Brotherhood is a political party, and...   \n",
       "586     =Jewish or German?=  So, since Hefner is a G...   \n",
       "\n",
       "                                         comment_fuzzed     score  \\\n",
       "767                                   into a gay family  0.103953   \n",
       "1029                                  for my gay tastes  0.058244   \n",
       "181     Don't you think here you guys prove there is...  0.081280   \n",
       "923     queer Brotherhood is a political party, and ...  0.015109   \n",
       "586     =gay or German?=  So, since Hefner is a Germ...  0.002198   \n",
       "\n",
       "      score_fuzzed     delta  toxic  \n",
       "767       0.814942  0.710989  False  \n",
       "1029      0.767169  0.708925  False  \n",
       "181       0.675586  0.594306  False  \n",
       "923       0.574151  0.559042  False  \n",
       "586       0.539594  0.537395  False  "
      ]
     },
     "execution_count": 113,
     "metadata": {},
     "output_type": "execute_result"
    }
   ],
   "source": [
    "# largest score increases\n",
    "merged.sort_values('delta', ascending=False).head()"
   ]
  }
 ],
 "metadata": {
  "kernelspec": {
   "display_name": "Python 2",
   "language": "python",
   "name": "python2"
  },
  "language_info": {
   "codemirror_mode": {
    "name": "ipython",
    "version": 2
   },
   "file_extension": ".py",
   "mimetype": "text/x-python",
   "name": "python",
   "nbconvert_exporter": "python",
   "pygments_lexer": "ipython2",
   "version": "2.7.6"
  }
 },
 "nbformat": 4,
 "nbformat_minor": 2
}
