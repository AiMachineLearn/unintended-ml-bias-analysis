{
 "cells": [
  {
   "cell_type": "code",
   "execution_count": 9,
   "metadata": {},
   "outputs": [
    {
     "name": "stderr",
     "output_type": "stream",
     "text": [
      "Using TensorFlow backend.\n"
     ]
    },
    {
     "name": "stdout",
     "output_type": "stream",
     "text": [
      "HELLO from model_tool\n",
      "The autoreload extension is already loaded. To reload it, use:\n",
      "  %reload_ext autoreload\n"
     ]
    }
   ],
   "source": [
    "from __future__ import absolute_import\n",
    "from __future__ import division\n",
    "from __future__ import print_function\n",
    "\n",
    "import os\n",
    "import pandas as pd\n",
    "import numpy as np\n",
    "import pkg_resources\n",
    "import matplotlib.pyplot as plt\n",
    "import seaborn as sns\n",
    "import time\n",
    "\n",
    "%matplotlib inline\n",
    "\n",
    "import model_bias_analysis\n",
    "\n",
    "# autoreload makes it easier to interactively work on code in the model_bias_analysis module.\n",
    "%load_ext autoreload\n",
    "%autoreload 2"
   ]
  },
  {
   "cell_type": "code",
   "execution_count": null,
   "metadata": {
    "collapsed": true
   },
   "outputs": [],
   "source": [
    "# model_families = [\n",
    "#     ['wiki_cnn_v3_100'],#, 'wiki_cnn_v3_101', 'wiki_cnn_v3_102'],\n",
    "#     #['wiki_debias_cnn_v3_100', 'wiki_debias_cnn_v3_101', 'wiki_debias_cnn_v3_102'],\n",
    "# ]"
   ]
  },
  {
   "cell_type": "code",
   "execution_count": 2,
   "metadata": {},
   "outputs": [
    {
     "data": {
      "text/html": [
       "<div>\n",
       "<style>\n",
       "    .dataframe thead tr:only-child th {\n",
       "        text-align: right;\n",
       "    }\n",
       "\n",
       "    .dataframe thead th {\n",
       "        text-align: left;\n",
       "    }\n",
       "\n",
       "    .dataframe tbody tr th {\n",
       "        vertical-align: top;\n",
       "    }\n",
       "</style>\n",
       "<table border=\"1\" class=\"dataframe\">\n",
       "  <thead>\n",
       "    <tr style=\"text-align: right;\">\n",
       "      <th></th>\n",
       "      <th>Text</th>\n",
       "      <th>Label</th>\n",
       "      <th>Template</th>\n",
       "      <th>RockV5_1:TOXICITY</th>\n",
       "      <th>RockV6_1:TOXICITY</th>\n",
       "      <th>Rock:TOXICITY</th>\n",
       "    </tr>\n",
       "  </thead>\n",
       "  <tbody>\n",
       "    <tr>\n",
       "      <th>0</th>\n",
       "      <td>murder american</td>\n",
       "      <td>BAD</td>\n",
       "      <td>verb_adj</td>\n",
       "      <td>0.847593</td>\n",
       "      <td>0.837852</td>\n",
       "      <td>0.811245</td>\n",
       "    </tr>\n",
       "    <tr>\n",
       "      <th>1</th>\n",
       "      <td>respect trans</td>\n",
       "      <td>NOT_BAD</td>\n",
       "      <td>verb_adj</td>\n",
       "      <td>0.088380</td>\n",
       "      <td>0.066053</td>\n",
       "      <td>0.251805</td>\n",
       "    </tr>\n",
       "    <tr>\n",
       "      <th>2</th>\n",
       "      <td>respect homosexual</td>\n",
       "      <td>NOT_BAD</td>\n",
       "      <td>verb_adj</td>\n",
       "      <td>0.376214</td>\n",
       "      <td>0.188938</td>\n",
       "      <td>0.831167</td>\n",
       "    </tr>\n",
       "    <tr>\n",
       "      <th>3</th>\n",
       "      <td>hug mexican</td>\n",
       "      <td>NOT_BAD</td>\n",
       "      <td>verb_adj</td>\n",
       "      <td>0.091097</td>\n",
       "      <td>0.059981</td>\n",
       "      <td>0.098826</td>\n",
       "    </tr>\n",
       "    <tr>\n",
       "      <th>4</th>\n",
       "      <td>kill sikh</td>\n",
       "      <td>BAD</td>\n",
       "      <td>verb_adj</td>\n",
       "      <td>0.939007</td>\n",
       "      <td>0.743793</td>\n",
       "      <td>0.888041</td>\n",
       "    </tr>\n",
       "  </tbody>\n",
       "</table>\n",
       "</div>"
      ],
      "text/plain": [
       "                 Text    Label  Template  RockV5_1:TOXICITY  \\\n",
       "0     murder american      BAD  verb_adj           0.847593   \n",
       "1       respect trans  NOT_BAD  verb_adj           0.088380   \n",
       "2  respect homosexual  NOT_BAD  verb_adj           0.376214   \n",
       "3         hug mexican  NOT_BAD  verb_adj           0.091097   \n",
       "4           kill sikh      BAD  verb_adj           0.939007   \n",
       "\n",
       "   RockV6_1:TOXICITY  Rock:TOXICITY  \n",
       "0           0.837852       0.811245  \n",
       "1           0.066053       0.251805  \n",
       "2           0.188938       0.831167  \n",
       "3           0.059981       0.098826  \n",
       "4           0.743793       0.888041  "
      ]
     },
     "execution_count": 2,
     "metadata": {},
     "output_type": "execute_result"
    }
   ],
   "source": [
    "# Read the scored data into DataFrame\n",
    "balanced_madlibs = pd.read_csv('eval_datasets/bias_madlibs_77k_scored_prod_models.csv')\n",
    "balanced_madlibs.head()"
   ]
  },
  {
   "cell_type": "code",
   "execution_count": null,
   "metadata": {
    "collapsed": true,
    "scrolled": true
   },
   "outputs": [],
   "source": [
    "# toxic_scores = balanced_madlibs.query('label == True')['wiki_cnn_v3_100']\n",
    "# non_toxic_scores = balanced_madlibs.query('label == False')['wiki_cnn_v3_100']\n",
    "\n",
    "# sns.distplot( non_toxic_scores , color=\"skyblue\", label=\"Sepal Length\")\n",
    "# sns.distplot( toxic_scores , color=\"red\", label=\"Sepal Width\")\n",
    "# #sns.plt.legend()\n"
   ]
  },
  {
   "cell_type": "code",
   "execution_count": 3,
   "metadata": {},
   "outputs": [
    {
     "data": {
      "text/html": [
       "<div>\n",
       "<style>\n",
       "    .dataframe thead tr:only-child th {\n",
       "        text-align: right;\n",
       "    }\n",
       "\n",
       "    .dataframe thead th {\n",
       "        text-align: left;\n",
       "    }\n",
       "\n",
       "    .dataframe tbody tr th {\n",
       "        vertical-align: top;\n",
       "    }\n",
       "</style>\n",
       "<table border=\"1\" class=\"dataframe\">\n",
       "  <thead>\n",
       "    <tr style=\"text-align: right;\">\n",
       "      <th></th>\n",
       "      <th>Text</th>\n",
       "      <th>Label</th>\n",
       "      <th>Template</th>\n",
       "      <th>RockV5_1:TOXICITY</th>\n",
       "      <th>RockV6_1:TOXICITY</th>\n",
       "      <th>Rock:TOXICITY</th>\n",
       "      <th>lesbian</th>\n",
       "      <th>gay</th>\n",
       "      <th>bisexual</th>\n",
       "      <th>transgender</th>\n",
       "      <th>...</th>\n",
       "      <th>young</th>\n",
       "      <th>younger</th>\n",
       "      <th>teenage</th>\n",
       "      <th>millenial</th>\n",
       "      <th>middle aged</th>\n",
       "      <th>elderly</th>\n",
       "      <th>blind</th>\n",
       "      <th>deaf</th>\n",
       "      <th>paralyzed</th>\n",
       "      <th>label_bool</th>\n",
       "    </tr>\n",
       "  </thead>\n",
       "  <tbody>\n",
       "    <tr>\n",
       "      <th>0</th>\n",
       "      <td>murder american</td>\n",
       "      <td>BAD</td>\n",
       "      <td>verb_adj</td>\n",
       "      <td>0.847593</td>\n",
       "      <td>0.837852</td>\n",
       "      <td>0.811245</td>\n",
       "      <td>False</td>\n",
       "      <td>False</td>\n",
       "      <td>False</td>\n",
       "      <td>False</td>\n",
       "      <td>...</td>\n",
       "      <td>False</td>\n",
       "      <td>False</td>\n",
       "      <td>False</td>\n",
       "      <td>False</td>\n",
       "      <td>False</td>\n",
       "      <td>False</td>\n",
       "      <td>False</td>\n",
       "      <td>False</td>\n",
       "      <td>False</td>\n",
       "      <td>True</td>\n",
       "    </tr>\n",
       "    <tr>\n",
       "      <th>1</th>\n",
       "      <td>respect trans</td>\n",
       "      <td>NOT_BAD</td>\n",
       "      <td>verb_adj</td>\n",
       "      <td>0.088380</td>\n",
       "      <td>0.066053</td>\n",
       "      <td>0.251805</td>\n",
       "      <td>False</td>\n",
       "      <td>False</td>\n",
       "      <td>False</td>\n",
       "      <td>False</td>\n",
       "      <td>...</td>\n",
       "      <td>False</td>\n",
       "      <td>False</td>\n",
       "      <td>False</td>\n",
       "      <td>False</td>\n",
       "      <td>False</td>\n",
       "      <td>False</td>\n",
       "      <td>False</td>\n",
       "      <td>False</td>\n",
       "      <td>False</td>\n",
       "      <td>False</td>\n",
       "    </tr>\n",
       "    <tr>\n",
       "      <th>2</th>\n",
       "      <td>respect homosexual</td>\n",
       "      <td>NOT_BAD</td>\n",
       "      <td>verb_adj</td>\n",
       "      <td>0.376214</td>\n",
       "      <td>0.188938</td>\n",
       "      <td>0.831167</td>\n",
       "      <td>False</td>\n",
       "      <td>False</td>\n",
       "      <td>False</td>\n",
       "      <td>False</td>\n",
       "      <td>...</td>\n",
       "      <td>False</td>\n",
       "      <td>False</td>\n",
       "      <td>False</td>\n",
       "      <td>False</td>\n",
       "      <td>False</td>\n",
       "      <td>False</td>\n",
       "      <td>False</td>\n",
       "      <td>False</td>\n",
       "      <td>False</td>\n",
       "      <td>False</td>\n",
       "    </tr>\n",
       "    <tr>\n",
       "      <th>3</th>\n",
       "      <td>hug mexican</td>\n",
       "      <td>NOT_BAD</td>\n",
       "      <td>verb_adj</td>\n",
       "      <td>0.091097</td>\n",
       "      <td>0.059981</td>\n",
       "      <td>0.098826</td>\n",
       "      <td>False</td>\n",
       "      <td>False</td>\n",
       "      <td>False</td>\n",
       "      <td>False</td>\n",
       "      <td>...</td>\n",
       "      <td>False</td>\n",
       "      <td>False</td>\n",
       "      <td>False</td>\n",
       "      <td>False</td>\n",
       "      <td>False</td>\n",
       "      <td>False</td>\n",
       "      <td>False</td>\n",
       "      <td>False</td>\n",
       "      <td>False</td>\n",
       "      <td>False</td>\n",
       "    </tr>\n",
       "    <tr>\n",
       "      <th>4</th>\n",
       "      <td>kill sikh</td>\n",
       "      <td>BAD</td>\n",
       "      <td>verb_adj</td>\n",
       "      <td>0.939007</td>\n",
       "      <td>0.743793</td>\n",
       "      <td>0.888041</td>\n",
       "      <td>False</td>\n",
       "      <td>False</td>\n",
       "      <td>False</td>\n",
       "      <td>False</td>\n",
       "      <td>...</td>\n",
       "      <td>False</td>\n",
       "      <td>False</td>\n",
       "      <td>False</td>\n",
       "      <td>False</td>\n",
       "      <td>False</td>\n",
       "      <td>False</td>\n",
       "      <td>False</td>\n",
       "      <td>False</td>\n",
       "      <td>False</td>\n",
       "      <td>True</td>\n",
       "    </tr>\n",
       "  </tbody>\n",
       "</table>\n",
       "<p>5 rows × 57 columns</p>\n",
       "</div>"
      ],
      "text/plain": [
       "                 Text    Label  Template  RockV5_1:TOXICITY  \\\n",
       "0     murder american      BAD  verb_adj           0.847593   \n",
       "1       respect trans  NOT_BAD  verb_adj           0.088380   \n",
       "2  respect homosexual  NOT_BAD  verb_adj           0.376214   \n",
       "3         hug mexican  NOT_BAD  verb_adj           0.091097   \n",
       "4           kill sikh      BAD  verb_adj           0.939007   \n",
       "\n",
       "   RockV6_1:TOXICITY  Rock:TOXICITY  lesbian    gay  bisexual  transgender  \\\n",
       "0           0.837852       0.811245    False  False     False        False   \n",
       "1           0.066053       0.251805    False  False     False        False   \n",
       "2           0.188938       0.831167    False  False     False        False   \n",
       "3           0.059981       0.098826    False  False     False        False   \n",
       "4           0.743793       0.888041    False  False     False        False   \n",
       "\n",
       "      ...      young  younger  teenage  millenial  middle aged  elderly  \\\n",
       "0     ...      False    False    False      False        False    False   \n",
       "1     ...      False    False    False      False        False    False   \n",
       "2     ...      False    False    False      False        False    False   \n",
       "3     ...      False    False    False      False        False    False   \n",
       "4     ...      False    False    False      False        False    False   \n",
       "\n",
       "   blind   deaf  paralyzed  label_bool  \n",
       "0  False  False      False        True  \n",
       "1  False  False      False       False  \n",
       "2  False  False      False       False  \n",
       "3  False  False      False       False  \n",
       "4  False  False      False        True  \n",
       "\n",
       "[5 rows x 57 columns]"
      ]
     },
     "execution_count": 3,
     "metadata": {},
     "output_type": "execute_result"
    }
   ],
   "source": [
    "# Add columns for each subgroup.\n",
    "f = open('bias_madlibs_data/adjectives_people.txt', 'r')\n",
    "terms = [line.strip() for line in f]\n",
    "model_bias_analysis.add_subgroup_columns_from_text(balanced_madlibs, 'Text', terms)\n",
    "\n",
    "# Create a boolean label column, rather than BAD / NOT_BAD\n",
    "balanced_madlibs['label_bool'] = balanced_madlibs.apply(lambda row: row.Label == 'BAD', axis=1)\n",
    "\n",
    "balanced_madlibs.head()"
   ]
  },
  {
   "cell_type": "code",
   "execution_count": 8,
   "metadata": {},
   "outputs": [
    {
     "name": "stdout",
     "output_type": "stream",
     "text": [
      "757\n",
      "33     0.460955\n",
      "41     0.237544\n",
      "207    0.521128\n",
      "307    0.237544\n",
      "452    0.301782\n",
      "Name: RockV5_1:TOXICITY, dtype: float64\n",
      "757\n",
      "30     0.305247\n",
      "105    0.550362\n",
      "214    0.734981\n",
      "252    0.388942\n",
      "431    0.396309\n",
      "Name: RockV5_1:TOXICITY, dtype: float64\n",
      "757\n",
      "164    0.157876\n",
      "300    0.134346\n",
      "335    0.334831\n",
      "344    0.322095\n",
      "444    0.264961\n",
      "Name: RockV5_1:TOXICITY, dtype: float64\n",
      "757\n",
      "40     0.177398\n",
      "148    0.161045\n",
      "209    0.388942\n",
      "318    0.460046\n",
      "498    0.289129\n",
      "Name: RockV5_1:TOXICITY, dtype: float64\n",
      "757\n",
      "1      0.088380\n",
      "121    0.095635\n",
      "136    0.054563\n",
      "279    0.194884\n",
      "405    0.112380\n",
      "Name: RockV5_1:TOXICITY, dtype: float64\n",
      "757\n",
      "133    0.142500\n",
      "165    0.231068\n",
      "253    0.387586\n",
      "369    0.459734\n",
      "470    0.237544\n",
      "Name: RockV5_1:TOXICITY, dtype: float64\n",
      "757\n",
      "12     0.016288\n",
      "47     0.037033\n",
      "205    0.013621\n",
      "392    0.017253\n",
      "418    0.045816\n",
      "Name: RockV5_1:TOXICITY, dtype: float64\n",
      "757\n",
      "175    0.078364\n",
      "280    0.032460\n",
      "310    0.044979\n",
      "365    0.046166\n",
      "432    0.093326\n",
      "Name: RockV5_1:TOXICITY, dtype: float64\n",
      "1514\n",
      "9      0.020556\n",
      "126    0.045484\n",
      "145    0.142362\n",
      "178    0.064445\n",
      "182    0.019403\n",
      "Name: RockV5_1:TOXICITY, dtype: float64\n",
      "757\n",
      "140    0.008162\n",
      "183    0.047025\n",
      "242    0.018671\n",
      "271    0.036881\n",
      "478    0.045020\n",
      "Name: RockV5_1:TOXICITY, dtype: float64\n",
      "757\n",
      "79     0.028074\n",
      "141    0.047214\n",
      "208    0.024003\n",
      "378    0.033086\n",
      "402    0.054354\n",
      "Name: RockV5_1:TOXICITY, dtype: float64\n",
      "757\n",
      "2      0.376214\n",
      "86     0.677110\n",
      "162    0.503570\n",
      "343    0.373793\n",
      "472    0.302887\n",
      "Name: RockV5_1:TOXICITY, dtype: float64\n"
     ]
    },
    {
     "data": {
      "image/png": "[encoded data removed]",
      "text/plain": [
       "<matplotlib.figure.Figure at 0x7efdab83ff90>"
      ]
     },
     "metadata": {},
     "output_type": "display_data"
    },
    {
     "data": {
      "image/png": "[encoded data removed]",
      "text/plain": [
       "<matplotlib.figure.Figure at 0x7efdab84c550>"
      ]
     },
     "metadata": {},
     "output_type": "display_data"
    },
    {
     "data": {
      "image/png": "[encoded data removed]",
      "text/plain": [
       "<matplotlib.figure.Figure at 0x7efdabb35150>"
      ]
     },
     "metadata": {},
     "output_type": "display_data"
    },
    {
     "data": {
      "image/png": "[encoded data removed]",
      "text/plain": [
       "<matplotlib.figure.Figure at 0x7efdabece9d0>"
      ]
     },
     "metadata": {},
     "output_type": "display_data"
    },
    {
     "data": {
      "image/png": "[encoded data removed]",
      "text/plain": [
       "<matplotlib.figure.Figure at 0x7efdae9ceb90>"
      ]
     },
     "metadata": {},
     "output_type": "display_data"
    },
    {
     "data": {
      "image/png": "[encoded data removed]",
      "text/plain": [
       "<matplotlib.figure.Figure at 0x7efdabc059d0>"
      ]
     },
     "metadata": {},
     "output_type": "display_data"
    },
    {
     "data": {
      "image/png": "[encoded data removed]",
      "text/plain": [
       "<matplotlib.figure.Figure at 0x7efdae9eda90>"
      ]
     },
     "metadata": {},
     "output_type": "display_data"
    },
    {
     "data": {
      "image/png": "[encoded data removed]",
      "text/plain": [
       "<matplotlib.figure.Figure at 0x7efdabb436d0>"
      ]
     },
     "metadata": {},
     "output_type": "display_data"
    },
    {
     "data": {
      "image/png": "[encoded data removed]",
      "text/plain": [
       "<matplotlib.figure.Figure at 0x7efdab4f2790>"
      ]
     },
     "metadata": {},
     "output_type": "display_data"
    },
    {
     "data": {
      "image/png": "[encoded data removed]",
      "text/plain": [
       "<matplotlib.figure.Figure at 0x7efdac20da50>"
      ]
     },
     "metadata": {},
     "output_type": "display_data"
    },
    {
     "data": {
      "image/png": "[encoded data removed]",
      "text/plain": [
       "<matplotlib.figure.Figure at 0x7efdae98b710>"
      ]
     },
     "metadata": {},
     "output_type": "display_data"
    },
    {
     "data": {
      "image/png": "[encoded data removed]",
      "text/plain": [
       "<matplotlib.figure.Figure at 0x7efdae969110>"
      ]
     },
     "metadata": {},
     "output_type": "display_data"
    },
    {
     "data": {
      "text/plain": [
       "<matplotlib.figure.Figure at 0x7efdac1bb750>"
      ]
     },
     "metadata": {},
     "output_type": "display_data"
    }
   ],
   "source": [
    "# Plot toxicity distributions\n",
    "\n",
    "def plot_histogram(identity):\n",
    "    toxic_scores = balanced_madlibs.query(identity + ' == True & label_bool == True')['RockV5_1:TOXICITY']\n",
    "    non_toxic_scores = balanced_madlibs.query(identity + ' == True & label_bool == False')['RockV5_1:TOXICITY']\n",
    "    print(len(non_toxic_scores))\n",
    "    print(non_toxic_scores[0:5])\n",
    "    sns.distplot( non_toxic_scores , color=\"skyblue\", axlabel=identity)\n",
    "    sns.distplot( toxic_scores , color=\"red\", axlabel=identity)\n",
    "    plt.figure()\n",
    "\n",
    "# These are the identities we intentionally skewed\n",
    "for identity in ['lesbian', 'gay', 'bisexual', 'transgender', 'trans', 'queer']:\n",
    "    plot_histogram(identity)\n",
    "\n",
    "# These identities surprising did better with normed pinned auc\n",
    "for identity in ['canadian', 'japanese', 'american', 'teenage']:\n",
    "    plot_histogram(identity)\n",
    "    \n",
    "# These identities did a little worse\n",
    "for identity in ['sikh', 'homosexual']:\n",
    "    plot_histogram(identity)"
   ]
  },
  {
   "cell_type": "code",
   "execution_count": 4,
   "metadata": {
    "collapsed": true
   },
   "outputs": [],
   "source": [
    "# both skews should drop the same number of records\n",
    "def get_skew_size(balanced, subgroup, label):\n",
    "    return len(balanced[balanced[subgroup] & ~balanced[label]]) // 2\n",
    "\n",
    "def skew_group(balanced, subgroup, label):\n",
    "    non_toxic_subgroup_items = balanced[balanced[subgroup] & ~balanced[label]]\n",
    "    drop_indices = np.random.choice(\n",
    "        non_toxic_subgroup_items.index, get_skew_size(balanced, subgroup, label), replace=False)\n",
    "    #print('skew_group len ' + str(len(drop_indices)))\n",
    "    return balanced.drop(drop_indices)\n",
    "\n",
    "# def skew_group_evenly(balanced, subgroup, label):\n",
    "#     subgroup_items = balanced[balanced[subgroup]]\n",
    "#     drop_indices = np.random.choice(\n",
    "#         subgroup_items.index, get_skew_size(balanced, subgroup, label), replace=False)\n",
    "#     #print('skew_group_evenly len ' + str(len(drop_indices)))\n",
    "#     return balanced.drop(drop_indices)"
   ]
  },
  {
   "cell_type": "code",
   "execution_count": 23,
   "metadata": {},
   "outputs": [
    {
     "data": {
      "text/plain": [
       "378"
      ]
     },
     "execution_count": 23,
     "metadata": {},
     "output_type": "execute_result"
    }
   ],
   "source": [
    "#get_skew_size(balanced_madlibs, 'gay', 'label_bool')\n",
    "#len(balanced_madlibs[balanced_madlibs['gay'] & ~balanced_madlibs['label_bool']])\n",
    "757 // 2\n"
   ]
  },
  {
   "cell_type": "code",
   "execution_count": 15,
   "metadata": {
    "collapsed": true,
    "scrolled": true
   },
   "outputs": [],
   "source": [
    "def run_iterations(model_and_attribute_name, num_iterations, identity_array, output_csv_path):\n",
    "    LABEL_NAME = 'label_bool'\n",
    "    df = pd.DataFrame()\n",
    "    for i in xrange(num_iterations):\n",
    "        # print out some steps along the way just to keep track of progress\n",
    "#         if i % 10 == 0:\n",
    "        print('%d iterations complete' % i)\n",
    "        print('balanced_madlibs len %d' % len(balanced_madlibs))\n",
    "            \n",
    "        unbalanced_madlibs = balanced_madlibs\n",
    "        balanced_madlibs_modified = pd.DataFrame.copy(balanced_madlibs)\n",
    "        \n",
    "        #print('before ' + str(len(balanced_madlibs_modified)))\n",
    "        for group in identity_array:\n",
    "            unbalanced_madlibs = skew_group(unbalanced_madlibs, group, LABEL_NAME)\n",
    "#             if shrink_balanced_set:\n",
    "#                 balanced_madlibs_modified = skew_group_evenly(balanced_madlibs_modified, group, LABEL_NAME)\n",
    "        #print('after ' + str(len(balanced_madlibs_modified)))\n",
    "        \n",
    "        # balanced results\n",
    "        balanced_pinned_auc_results = model_bias_analysis.per_subgroup_aucs(balanced_madlibs_modified, terms, [[model_and_attribute_name]], LABEL_NAME)\n",
    "        balanced_pinned_aucs = [a[0] for a in balanced_pinned_auc_results[model_and_attribute_name + '_aucs']]\n",
    "        balanced_normed_pinned_aucs = [a[0] for a in balanced_pinned_auc_results[model_and_attribute_name + '_normalized_pinned_aucs']]\n",
    "        balanced_positive_aegs = [a[0] for a in balanced_pinned_auc_results[model_and_attribute_name + '_within_positive_label_mwus']]\n",
    "        balanced_negative_aegs = [a[0] for a in balanced_pinned_auc_results[model_and_attribute_name + '_within_negative_label_mwus']]\n",
    "        balanced_positive_asegs = [a[0] for a in balanced_pinned_auc_results[model_and_attribute_name + '_positive_asegs']]\n",
    "        balanced_negative_asegs = [a[0] for a in balanced_pinned_auc_results[model_and_attribute_name + '_negative_asegs']]\n",
    "        \n",
    "        #unbalanced results\n",
    "        unbalanced_pinned_auc_results = model_bias_analysis.per_subgroup_aucs(unbalanced_madlibs, terms, [[model_and_attribute_name]], LABEL_NAME)\n",
    "        unbalanced_pinned_aucs = [a[0] for a in unbalanced_pinned_auc_results[model_and_attribute_name + '_aucs']]\n",
    "        unbalanced_normed_pinned_aucs = [a[0] for a in unbalanced_pinned_auc_results[model_and_attribute_name + '_normalized_pinned_aucs']]\n",
    "        unbalanced_positive_aegs = [a[0] for a in unbalanced_pinned_auc_results[model_and_attribute_name + '_within_positive_label_mwus']]\n",
    "        unbalanced_negative_aegs = [a[0] for a in unbalanced_pinned_auc_results[model_and_attribute_name + '_within_negative_label_mwus']]\n",
    "        unbalanced_positive_asegs = [a[0] for a in unbalanced_pinned_auc_results[model_and_attribute_name + '_positive_asegs']]\n",
    "        unbalanced_negative_asegs = [a[0] for a in unbalanced_pinned_auc_results[model_and_attribute_name + '_negative_asegs']]\n",
    "\n",
    "        df = df.append(\n",
    "            pd.DataFrame({\n",
    "                'iteration': i,\n",
    "                'subgroup': list(balanced_pinned_auc_results.subgroup),\n",
    "                'pinned_auc_balanced_set': balanced_pinned_aucs,\n",
    "                'normed_pinned_auc_balanced_set': balanced_normed_pinned_aucs,\n",
    "                'pinned_auc_unbalanced_set': unbalanced_pinned_aucs,\n",
    "                'normed_pinned_auc_unbalanced_set': unbalanced_normed_pinned_aucs,\n",
    "                'balanced_positive_aegs': balanced_positive_aegs,\n",
    "                'balanced_negative_aegs': balanced_negative_aegs,\n",
    "                'unbalanced_positive_aegs': unbalanced_positive_aegs,\n",
    "                'unbalanced_negative_aegs': unbalanced_negative_aegs,\n",
    "                'balanced_positive_asegs': balanced_positive_asegs,\n",
    "                'balanced_negative_asegs': balanced_negative_asegs,\n",
    "                'unbalanced_positive_asegs': unbalanced_positive_asegs,\n",
    "                'unbalanced_negative_asegs': unbalanced_negative_asegs},\n",
    "                columns=[\n",
    "                    'iteration', 'subgroup', 'pinned_auc_balanced_set', 'pinned_auc_unbalanced_set',\n",
    "                    'normed_pinned_auc_balanced_set', 'normed_pinned_auc_unbalanced_set',\n",
    "                    'balanced_positive_aegs', 'balanced_negative_aegs', 'unbalanced_positive_aegs',\n",
    "                    'unbalanced_negative_aegs', 'balanced_positive_asegs', 'balanced_negative_asegs',\n",
    "                    'unbalanced_positive_asegs', 'unbalanced_negative_asegs']),\n",
    "                ignore_index=True)\n",
    "        df['pinned_auc_diff'] = df['pinned_auc_balanced_set'] - df['pinned_auc_unbalanced_set']\n",
    "        df['normed_pinned_auc_diff'] = df['normed_pinned_auc_balanced_set'] - df['normed_pinned_auc_unbalanced_set']\n",
    "    df.to_csv(output_csv_path, index=False)"
   ]
  },
  {
   "cell_type": "code",
   "execution_count": 16,
   "metadata": {},
   "outputs": [
    {
     "name": "stdout",
     "output_type": "stream",
     "text": [
      "0 iterations complete\n",
      "balanced_madlibs len 76564\n",
      "1 iterations complete\n",
      "balanced_madlibs len 76564\n",
      "Rock finished\n",
      "0 iterations complete\n",
      "balanced_madlibs len 76564\n",
      "1 iterations complete\n",
      "balanced_madlibs len 76564\n",
      "RockV6_1 finished\n"
     ]
    }
   ],
   "source": [
    "identity = 'gay'\n",
    "#timestamp_str = str(int(time.time()))\n",
    "num_iterations = 2\n",
    "\n",
    "for model_name in ['Rock', 'RockV6_1']:\n",
    "    csv_file = 'mann_whitney_analysis_with_asegs/%s_skew_%s_%d_iterations.csv' % (model_name, identity, num_iterations)\n",
    "    run_iterations(model_name + ':TOXICITY', num_iterations, [identity], csv_file)\n",
    "    print(model_name + ' finished')"
   ]
  },
  {
   "cell_type": "code",
   "execution_count": null,
   "metadata": {
    "collapsed": true
   },
   "outputs": [],
   "source": [
    "df = pd.read_csv('mann_whitney_analysis_with_aeg/Rock_skew_gay_1_iterations.csv')\n",
    "df.groupby('subgroup').mean()"
   ]
  },
  {
   "cell_type": "code",
   "execution_count": null,
   "metadata": {
    "collapsed": true
   },
   "outputs": [],
   "source": [
    "# Use this logic to read and write CSV files, so we don't always need to re-run the above 1000 iterations\n",
    "\n",
    "# FILE = 'mann_whitney_analysis_skew_lesbian_gay_bisexual_transgender_trans_queer.csv'\n",
    "# df.to_csv(FILE)\n",
    "# df = pd.read_csv(FILE)\n",
    "\n",
    "# FILE = 'mann_whitney_analysis_skew_queer_only.csv'\n",
    "# df.to_csv(FILE)"
   ]
  },
  {
   "cell_type": "code",
   "execution_count": null,
   "metadata": {
    "collapsed": true
   },
   "outputs": [],
   "source": [
    "def print_table_from_csv(filepath, use_absolute_value):\n",
    "    # This code does the absolute value BEFORE grouping + taking the mean\n",
    "    # Copy is needed to not affect the original columns (by setting absolute values)\n",
    "    abs_df = pd.read_csv(filepath)\n",
    "    if use_absolute_value:\n",
    "        abs_df['normed_pinned_auc_diff'] = abs_df['normed_pinned_auc_diff'].abs()\n",
    "        abs_df['pinned_auc_diff'] = abs_df['pinned_auc_diff'].abs()\n",
    "    mean_columns = ['subgroup', 'normed_pinned_auc_diff', 'pinned_auc_diff']\n",
    "    mean_df = abs_df[mean_columns].groupby('subgroup').mean()\n",
    "\n",
    "    if use_absolute_value:\n",
    "        normed_pinned_auc_diff_abs = mean_df['normed_pinned_auc_diff'].abs()\n",
    "        pinned_auc_diff_abs = mean_df['pinned_auc_diff'].abs()\n",
    "    else:\n",
    "        normed_pinned_auc_diff_abs = mean_df['normed_pinned_auc_diff']\n",
    "        pinned_auc_diff_abs = mean_df['pinned_auc_diff']\n",
    "    mean_df['is_abs_normed_less?'] = np.where(normed_pinned_auc_diff_abs < pinned_auc_diff_abs, '', 'NO')\n",
    "    mean_df['how_much_less?'] = pinned_auc_diff_abs - normed_pinned_auc_diff_abs\n",
    "\n",
    "    return mean_df.sort_values('how_much_less?', ascending=False)"
   ]
  },
  {
   "cell_type": "code",
   "execution_count": null,
   "metadata": {
    "collapsed": true
   },
   "outputs": [],
   "source": [
    "print_table_from_csv('mann_whitney_analysis_skew_queer_only_skewed_balanced_set_no_sampling.csv', False)"
   ]
  },
  {
   "cell_type": "code",
   "execution_count": null,
   "metadata": {
    "collapsed": true
   },
   "outputs": [],
   "source": [
    "print_table_from_csv('mann_whitney_analysis_skew_queer_only_skewed_balanced_set_no_sampling.csv', True).head()"
   ]
  },
  {
   "cell_type": "code",
   "execution_count": null,
   "metadata": {
    "collapsed": true
   },
   "outputs": [],
   "source": [
    "print_table_from_csv('mann_whitney_analysis_skew_queer_only_skewed_balanced_set.csv', True).head()"
   ]
  },
  {
   "cell_type": "code",
   "execution_count": null,
   "metadata": {
    "collapsed": true
   },
   "outputs": [],
   "source": [
    "print_table_from_csv('mann_whitney_analysis_skew_queer_only.csv')"
   ]
  },
  {
   "cell_type": "code",
   "execution_count": null,
   "metadata": {
    "collapsed": true
   },
   "outputs": [],
   "source": [
    "print_table_from_csv('mann_whitney_analysis_skew_lesbian_gay_bisexual_transgender_trans_queer.csv')"
   ]
  },
  {
   "cell_type": "code",
   "execution_count": null,
   "metadata": {
    "collapsed": true
   },
   "outputs": [],
   "source": [
    "# THIS IS THE OLD LOGIC that does the absolute value AFTER grouping + taking the mean\n",
    "\n",
    "# mean_columns = ['subgroup', 'normed_pinned_auc_diff', 'pinned_auc_diff']\n",
    "# # Copy is needed to not affect the original columns (by setting absolute values)\n",
    "# mean_df_old = pd.DataFrame.copy(df)[mean_columns].groupby('subgroup').mean()\n",
    "\n",
    "# normed_pinned_auc_diff_abs = mean_df_old['normed_pinned_auc_diff'].abs()\n",
    "# pinned_auc_diff_abs = mean_df_old['pinned_auc_diff'].abs()\n",
    "\n",
    "# mean_df_old['is_abs_normed_less?'] = np.where(normed_pinned_auc_diff_abs < pinned_auc_diff_abs, '', 'NO')\n",
    "\n",
    "# mean_df_old['how_much_less?'] = pinned_auc_diff_abs - normed_pinned_auc_diff_abs\n",
    "\n",
    "# mean_df_old.sort_values('how_much_less?')"
   ]
  },
  {
   "cell_type": "code",
   "execution_count": null,
   "metadata": {
    "collapsed": true
   },
   "outputs": [],
   "source": [
    "# TODO: should I keep this stuff?\n",
    "\n",
    "for family in model_families:\n",
    "    name = model_bias_analysis.model_family_name(family)\n",
    "    model_bias_analysis.per_subgroup_scatterplots(\n",
    "        balanced_pinned_auc_results,\n",
    "        'subgroup',\n",
    "        name + '_aucs',\n",
    "        title=name + ' Pinned AUC (Balanced Set)',\n",
    "        y_lim=(0.8, 1.0))"
   ]
  },
  {
   "cell_type": "code",
   "execution_count": null,
   "metadata": {
    "collapsed": true
   },
   "outputs": [],
   "source": [
    "for family in model_families:\n",
    "    name = model_bias_analysis.model_family_name(family)\n",
    "    model_bias_analysis.per_subgroup_scatterplots(\n",
    "        unbalanced_pinned_auc_results,\n",
    "        'subgroup',\n",
    "        name + '_aucs',\n",
    "        title=name + ' Pinned AUC (Unbalanced Set)',\n",
    "        y_lim=(0.8, 1.0))"
   ]
  },
  {
   "cell_type": "code",
   "execution_count": null,
   "metadata": {
    "collapsed": true
   },
   "outputs": [],
   "source": [
    "for family in model_families:\n",
    "    name = model_bias_analysis.model_family_name(family)\n",
    "    model_bias_analysis.per_subgroup_scatterplots(\n",
    "        balanced_pinned_auc_results,\n",
    "        'subgroup',\n",
    "        name + '_normalized_pinned_aucs',\n",
    "        title=name + ' Normalized Pinned AUC (Balanced Set)',\n",
    "        y_lim=(0.8, 1.0))"
   ]
  },
  {
   "cell_type": "code",
   "execution_count": null,
   "metadata": {
    "collapsed": true
   },
   "outputs": [],
   "source": [
    "for family in model_families:\n",
    "    name = model_bias_analysis.model_family_name(family)\n",
    "    model_bias_analysis.per_subgroup_scatterplots(\n",
    "        unbalanced_pinned_auc_results,\n",
    "        'subgroup',\n",
    "        name + '_normalized_pinned_aucs',\n",
    "        title=name + ' Normalized Pinned AUC (Unbalanced Set)',\n",
    "        y_lim=(0.8, 1.0))"
   ]
  },
  {
   "cell_type": "code",
   "execution_count": null,
   "metadata": {
    "collapsed": true
   },
   "outputs": [],
   "source": [
    "for family in model_families:\n",
    "    name = model_bias_analysis.model_family_name(family)\n",
    "    model_bias_analysis.per_subgroup_scatterplots(\n",
    "        balanced_pinned_auc_results,\n",
    "        'subgroup',\n",
    "        name + '_within_negative_label_mwus',\n",
    "        title=name + ' Within Negative Label MWUs',\n",
    "        y_lim=(0.5, 1.0))"
   ]
  },
  {
   "cell_type": "code",
   "execution_count": null,
   "metadata": {
    "collapsed": true
   },
   "outputs": [],
   "source": [
    "for family in model_families:\n",
    "    name = model_bias_analysis.model_family_name(family)\n",
    "    model_bias_analysis.per_subgroup_scatterplots(\n",
    "         balanced_pinned_auc_results,\n",
    "        'subgroup',\n",
    "        name + '_within_positive_label_mwus',\n",
    "        title=name + ' Within Positive Label MWUs',\n",
    "        y_lim=(0.5, 1.0))"
   ]
  }
 ],
 "metadata": {
  "celltoolbar": "Slideshow",
  "kernelspec": {
   "display_name": "Python 2",
   "language": "python",
   "name": "python2"
  },
  "language_info": {
   "codemirror_mode": {
    "name": "ipython",
    "version": 2
   },
   "file_extension": ".py",
   "mimetype": "text/x-python",
   "name": "python",
   "nbconvert_exporter": "python",
   "pygments_lexer": "ipython2",
   "version": "2.7.13"
  }
 },
 "nbformat": 4,
 "nbformat_minor": 2
}
